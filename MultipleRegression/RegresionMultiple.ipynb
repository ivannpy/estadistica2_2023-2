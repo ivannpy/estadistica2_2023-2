{
 "cells": [
  {
   "cell_type": "markdown",
   "id": "1a7d510a",
   "metadata": {},
   "source": [
    "# Regresión lineal múltiple\n",
    "#### Estadística 2\n",
    "##### Por: Jorge Iván Reyes Hernández"
   ]
  },
  {
   "cell_type": "markdown",
   "id": "057a6a93",
   "metadata": {},
   "source": [
    "Recordemos que uno de los objetivos del análisis de regresión es __describir y explicar relaciones entre variable__. En la regresión simple buscamos explicar una variable (generalmente denotada por $Y$) a través de una única variable independiente o regresora (generalmente denotada por $X$). En la regresión múltiple buscamos explicar una variable, $Y$ a través de múltiples regresores, $X_1, \\ldots, X_k$.\n",
    "\n",
    "En general, el modelo de regresión es\n",
    "$$\n",
    "Y = f(X_1,\\ldots,X_k) + \\epsilon\n",
    "$$\n",
    "\n",
    "## 1. Formulación del modelo\n",
    "\n",
    "El primer paso en el análisis de regresíon es la formulación del modelo. \n",
    "Aquí debemos:\n",
    "1. Seleccionar las variables ($X_1,\\ldots,X_k$).\n",
    "\n",
    "    Debe haber un balance entre la simplicidad del modelo (forma de la $f$) y la complejidad (qué tantas variables usar).\n",
    "    \n",
    "2. Especificar la forma funcional del modelo ($f$).\n",
    "    \n",
    "    En regresión lineal, $f$ es una función lineal (de los parámetros):\n",
    "    \n",
    "    $$\n",
    "    Y = \\beta_0 + \\beta_1 X_1 + \\ldots + \\beta_k X_k\n",
    "    $$\n",
    "    \n",
    "3. Hacer suposiciones acerca del error aleatorio ($\\epsilon$).\n",
    "\n",
    "    $$\n",
    "        \\epsilon \\sim \\mathcal{N}(0,\\sigma^{2})\n",
    "    $$\n",
    "    \n",
    "\n",
    "Para ilustrar lo anterior, considere los siguientes datos."
   ]
  },
  {
   "cell_type": "code",
   "execution_count": 71,
   "id": "4cec4750",
   "metadata": {},
   "outputs": [],
   "source": [
    "import numpy as np\n",
    "import pandas as pd\n",
    "import matplotlib.pyplot as plt\n",
    "import statsmodels.api as sm\n",
    "from scipy import stats"
   ]
  },
  {
   "cell_type": "code",
   "execution_count": 72,
   "id": "1a3dc773",
   "metadata": {},
   "outputs": [],
   "source": [
    "import warnings\n",
    "warnings.filterwarnings(\"ignore\")"
   ]
  },
  {
   "cell_type": "code",
   "execution_count": 73,
   "id": "9196099b",
   "metadata": {},
   "outputs": [],
   "source": [
    "data = pd.read_csv(\"data_sales.csv\")"
   ]
  },
  {
   "cell_type": "code",
   "execution_count": 74,
   "id": "1889e485",
   "metadata": {},
   "outputs": [
    {
     "data": {
      "text/html": [
       "<div>\n",
       "<style scoped>\n",
       "    .dataframe tbody tr th:only-of-type {\n",
       "        vertical-align: middle;\n",
       "    }\n",
       "\n",
       "    .dataframe tbody tr th {\n",
       "        vertical-align: top;\n",
       "    }\n",
       "\n",
       "    .dataframe thead th {\n",
       "        text-align: right;\n",
       "    }\n",
       "</style>\n",
       "<table border=\"1\" class=\"dataframe\">\n",
       "  <thead>\n",
       "    <tr style=\"text-align: right;\">\n",
       "      <th></th>\n",
       "      <th>Periodo (por 3 meses)</th>\n",
       "      <th>Ventas (en miles de unidades)</th>\n",
       "      <th>Publicidad (en miles de euros)</th>\n",
       "      <th>Precio (euros por unidad)</th>\n",
       "      <th>Difusión (en miles de euros)</th>\n",
       "    </tr>\n",
       "  </thead>\n",
       "  <tbody>\n",
       "    <tr>\n",
       "      <th>0</th>\n",
       "      <td>1</td>\n",
       "      <td>2596</td>\n",
       "      <td>203</td>\n",
       "      <td>1.42</td>\n",
       "      <td>150</td>\n",
       "    </tr>\n",
       "    <tr>\n",
       "      <th>1</th>\n",
       "      <td>2</td>\n",
       "      <td>2709</td>\n",
       "      <td>216</td>\n",
       "      <td>1.41</td>\n",
       "      <td>120</td>\n",
       "    </tr>\n",
       "    <tr>\n",
       "      <th>2</th>\n",
       "      <td>3</td>\n",
       "      <td>2552</td>\n",
       "      <td>207</td>\n",
       "      <td>1.95</td>\n",
       "      <td>146</td>\n",
       "    </tr>\n",
       "    <tr>\n",
       "      <th>3</th>\n",
       "      <td>4</td>\n",
       "      <td>3004</td>\n",
       "      <td>250</td>\n",
       "      <td>1.99</td>\n",
       "      <td>270</td>\n",
       "    </tr>\n",
       "    <tr>\n",
       "      <th>4</th>\n",
       "      <td>5</td>\n",
       "      <td>3076</td>\n",
       "      <td>240</td>\n",
       "      <td>1.63</td>\n",
       "      <td>200</td>\n",
       "    </tr>\n",
       "    <tr>\n",
       "      <th>5</th>\n",
       "      <td>6</td>\n",
       "      <td>2513</td>\n",
       "      <td>226</td>\n",
       "      <td>1.82</td>\n",
       "      <td>93</td>\n",
       "    </tr>\n",
       "    <tr>\n",
       "      <th>6</th>\n",
       "      <td>7</td>\n",
       "      <td>2626</td>\n",
       "      <td>246</td>\n",
       "      <td>1.69</td>\n",
       "      <td>70</td>\n",
       "    </tr>\n",
       "    <tr>\n",
       "      <th>7</th>\n",
       "      <td>8</td>\n",
       "      <td>3120</td>\n",
       "      <td>250</td>\n",
       "      <td>1.65</td>\n",
       "      <td>230</td>\n",
       "    </tr>\n",
       "    <tr>\n",
       "      <th>8</th>\n",
       "      <td>9</td>\n",
       "      <td>2751</td>\n",
       "      <td>235</td>\n",
       "      <td>1.99</td>\n",
       "      <td>166</td>\n",
       "    </tr>\n",
       "    <tr>\n",
       "      <th>9</th>\n",
       "      <td>10</td>\n",
       "      <td>2965</td>\n",
       "      <td>256</td>\n",
       "      <td>1.53</td>\n",
       "      <td>116</td>\n",
       "    </tr>\n",
       "    <tr>\n",
       "      <th>10</th>\n",
       "      <td>11</td>\n",
       "      <td>2818</td>\n",
       "      <td>242</td>\n",
       "      <td>1.69</td>\n",
       "      <td>100</td>\n",
       "    </tr>\n",
       "    <tr>\n",
       "      <th>11</th>\n",
       "      <td>12</td>\n",
       "      <td>3171</td>\n",
       "      <td>251</td>\n",
       "      <td>1.72</td>\n",
       "      <td>216</td>\n",
       "    </tr>\n",
       "  </tbody>\n",
       "</table>\n",
       "</div>"
      ],
      "text/plain": [
       "    Periodo (por 3 meses)  Ventas (en miles de unidades)  \\\n",
       "0                       1                           2596   \n",
       "1                       2                           2709   \n",
       "2                       3                           2552   \n",
       "3                       4                           3004   \n",
       "4                       5                           3076   \n",
       "5                       6                           2513   \n",
       "6                       7                           2626   \n",
       "7                       8                           3120   \n",
       "8                       9                           2751   \n",
       "9                      10                           2965   \n",
       "10                     11                           2818   \n",
       "11                     12                           3171   \n",
       "\n",
       "    Publicidad (en miles de euros)  Precio (euros por unidad)  \\\n",
       "0                              203                       1.42   \n",
       "1                              216                       1.41   \n",
       "2                              207                       1.95   \n",
       "3                              250                       1.99   \n",
       "4                              240                       1.63   \n",
       "5                              226                       1.82   \n",
       "6                              246                       1.69   \n",
       "7                              250                       1.65   \n",
       "8                              235                       1.99   \n",
       "9                              256                       1.53   \n",
       "10                             242                       1.69   \n",
       "11                             251                       1.72   \n",
       "\n",
       "    Difusión (en miles de euros)  \n",
       "0                            150  \n",
       "1                            120  \n",
       "2                            146  \n",
       "3                            270  \n",
       "4                            200  \n",
       "5                             93  \n",
       "6                             70  \n",
       "7                            230  \n",
       "8                            166  \n",
       "9                            116  \n",
       "10                           100  \n",
       "11                           216  "
      ]
     },
     "execution_count": 74,
     "metadata": {},
     "output_type": "execute_result"
    }
   ],
   "source": [
    "data"
   ]
  },
  {
   "cell_type": "markdown",
   "id": "3a4b59cd",
   "metadata": {},
   "source": [
    "Intuitivamente podemos pensar que mientras más se invierta en publicidad, mayores serán las ventas. Si $Y$ indica las ventas, entonces podríamos interesarnos por explicar cómo varían las ventas esperadas conforme varía el gasto en publicidad.\n",
    "\n",
    "$$\n",
    "    \\mathbb{E}(Y|X) = f(X_1)\n",
    "$$\n",
    "\n",
    "Si asumimos que $f(X_1) = \\beta_0 + \\beta_1 X_1$, obtenemos el modelo de regresión lineal simple."
   ]
  },
  {
   "cell_type": "code",
   "execution_count": 75,
   "id": "a09d194e",
   "metadata": {},
   "outputs": [],
   "source": [
    "Y = data[\"Ventas (en miles de unidades)\"]"
   ]
  },
  {
   "cell_type": "code",
   "execution_count": 76,
   "id": "f10303e7",
   "metadata": {},
   "outputs": [],
   "source": [
    "X_1 = data[\"Publicidad (en miles de euros)\"]"
   ]
  },
  {
   "cell_type": "code",
   "execution_count": 77,
   "id": "5924d782",
   "metadata": {
    "scrolled": false
   },
   "outputs": [
    {
     "data": {
      "image/png": "[encoded data removed]",
      "text/plain": [
       "<Figure size 640x480 with 1 Axes>"
      ]
     },
     "metadata": {},
     "output_type": "display_data"
    }
   ],
   "source": [
    "plt.ylabel(\"Ventas\")\n",
    "plt.ylabel(\"Publicidad\")\n",
    "plt.scatter(X_1, Y);"
   ]
  },
  {
   "cell_type": "code",
   "execution_count": 78,
   "id": "cc0c14c9",
   "metadata": {},
   "outputs": [
    {
     "data": {
      "text/plain": [
       "PearsonRResult(statistic=0.7424104360176366, pvalue=0.005685256582679216)"
      ]
     },
     "execution_count": 78,
     "metadata": {},
     "output_type": "execute_result"
    }
   ],
   "source": [
    "# Pearson correlation coefficient and p-value for testing non-correlation.\n",
    "\n",
    "stats.pearsonr(X_1, Y)"
   ]
  },
  {
   "cell_type": "markdown",
   "id": "b157738d",
   "metadata": {},
   "source": [
    "El coeficiente de correlación de Pearson confirma que exite asociación lineal entre las ventas ($Y$) y la publicidad ($X_1$).\n",
    "\n",
    "### 2. Estimación de la función de regresión\n",
    "\n",
    "Como hay correlación entre las variables, tiene sentido ajustar un modelo de regresión lineal."
   ]
  },
  {
   "cell_type": "code",
   "execution_count": 79,
   "id": "ab77fa30",
   "metadata": {},
   "outputs": [],
   "source": [
    "results_1 = sm.OLS(Y, sm.add_constant(X_1)).fit()"
   ]
  },
  {
   "cell_type": "code",
   "execution_count": 80,
   "id": "d4dee0cb",
   "metadata": {},
   "outputs": [
    {
     "data": {
      "text/html": [
       "<table class=\"simpletable\">\n",
       "<caption>OLS Regression Results</caption>\n",
       "<tr>\n",
       "  <th>Dep. Variable:</th>    <td>Ventas (en miles de unidades)</td> <th>  R-squared:         </th> <td>   0.551</td>\n",
       "</tr>\n",
       "<tr>\n",
       "  <th>Model:</th>                         <td>OLS</td>              <th>  Adj. R-squared:    </th> <td>   0.506</td>\n",
       "</tr>\n",
       "<tr>\n",
       "  <th>Method:</th>                   <td>Least Squares</td>         <th>  F-statistic:       </th> <td>   12.28</td>\n",
       "</tr>\n",
       "<tr>\n",
       "  <th>Date:</th>                   <td>Tue, 25 Apr 2023</td>        <th>  Prob (F-statistic):</th>  <td>0.00569</td>\n",
       "</tr>\n",
       "<tr>\n",
       "  <th>Time:</th>                       <td>23:29:04</td>            <th>  Log-Likelihood:    </th> <td> -77.182</td>\n",
       "</tr>\n",
       "<tr>\n",
       "  <th>No. Observations:</th>            <td>    12</td>             <th>  AIC:               </th> <td>   158.4</td>\n",
       "</tr>\n",
       "<tr>\n",
       "  <th>Df Residuals:</th>                <td>    10</td>             <th>  BIC:               </th> <td>   159.3</td>\n",
       "</tr>\n",
       "<tr>\n",
       "  <th>Df Model:</th>                    <td>     1</td>             <th>                     </th>     <td> </td>   \n",
       "</tr>\n",
       "<tr>\n",
       "  <th>Covariance Type:</th>            <td>nonrobust</td>           <th>                     </th>     <td> </td>   \n",
       "</tr>\n",
       "</table>\n",
       "<table class=\"simpletable\">\n",
       "<tr>\n",
       "                 <td></td>                   <th>coef</th>     <th>std err</th>      <th>t</th>      <th>P>|t|</th>  <th>[0.025</th>    <th>0.975]</th>  \n",
       "</tr>\n",
       "<tr>\n",
       "  <th>const</th>                          <td>  560.4884</td> <td>  647.974</td> <td>    0.865</td> <td> 0.407</td> <td> -883.289</td> <td> 2004.265</td>\n",
       "</tr>\n",
       "<tr>\n",
       "  <th>Publicidad (en miles de euros)</th> <td>    9.6297</td> <td>    2.748</td> <td>    3.504</td> <td> 0.006</td> <td>    3.507</td> <td>   15.753</td>\n",
       "</tr>\n",
       "</table>\n",
       "<table class=\"simpletable\">\n",
       "<tr>\n",
       "  <th>Omnibus:</th>       <td> 0.835</td> <th>  Durbin-Watson:     </th> <td>   2.041</td>\n",
       "</tr>\n",
       "<tr>\n",
       "  <th>Prob(Omnibus):</th> <td> 0.659</td> <th>  Jarque-Bera (JB):  </th> <td>   0.650</td>\n",
       "</tr>\n",
       "<tr>\n",
       "  <th>Skew:</th>          <td>-0.489</td> <th>  Prob(JB):          </th> <td>   0.722</td>\n",
       "</tr>\n",
       "<tr>\n",
       "  <th>Kurtosis:</th>      <td> 2.414</td> <th>  Cond. No.          </th> <td>3.21e+03</td>\n",
       "</tr>\n",
       "</table><br/><br/>Notes:<br/>[1] Standard Errors assume that the covariance matrix of the errors is correctly specified.<br/>[2] The condition number is large, 3.21e+03. This might indicate that there are<br/>strong multicollinearity or other numerical problems."
      ],
      "text/plain": [
       "<class 'statsmodels.iolib.summary.Summary'>\n",
       "\"\"\"\n",
       "                                  OLS Regression Results                                 \n",
       "=========================================================================================\n",
       "Dep. Variable:     Ventas (en miles de unidades)   R-squared:                       0.551\n",
       "Model:                                       OLS   Adj. R-squared:                  0.506\n",
       "Method:                            Least Squares   F-statistic:                     12.28\n",
       "Date:                           Tue, 25 Apr 2023   Prob (F-statistic):            0.00569\n",
       "Time:                                   23:29:04   Log-Likelihood:                -77.182\n",
       "No. Observations:                             12   AIC:                             158.4\n",
       "Df Residuals:                                 10   BIC:                             159.3\n",
       "Df Model:                                      1                                         \n",
       "Covariance Type:                       nonrobust                                         \n",
       "==================================================================================================\n",
       "                                     coef    std err          t      P>|t|      [0.025      0.975]\n",
       "--------------------------------------------------------------------------------------------------\n",
       "const                            560.4884    647.974      0.865      0.407    -883.289    2004.265\n",
       "Publicidad (en miles de euros)     9.6297      2.748      3.504      0.006       3.507      15.753\n",
       "==============================================================================\n",
       "Omnibus:                        0.835   Durbin-Watson:                   2.041\n",
       "Prob(Omnibus):                  0.659   Jarque-Bera (JB):                0.650\n",
       "Skew:                          -0.489   Prob(JB):                        0.722\n",
       "Kurtosis:                       2.414   Cond. No.                     3.21e+03\n",
       "==============================================================================\n",
       "\n",
       "Notes:\n",
       "[1] Standard Errors assume that the covariance matrix of the errors is correctly specified.\n",
       "[2] The condition number is large, 3.21e+03. This might indicate that there are\n",
       "strong multicollinearity or other numerical problems.\n",
       "\"\"\""
      ]
     },
     "execution_count": 80,
     "metadata": {},
     "output_type": "execute_result"
    }
   ],
   "source": [
    "results_1.summary()"
   ]
  },
  {
   "cell_type": "markdown",
   "id": "e92dee7c",
   "metadata": {},
   "source": [
    "Del resumen anterior podemos notar que\n",
    "$$\n",
    "    \\hat{Y} = 560.49 + 9.63 X_1\n",
    "$$\n",
    "\n",
    "La interpretación del coeficiente asociado a $X_1$ (la publicidad) es que si incrementamos en una unidad $X_1$ (i.e, en un euro el gasto en publicidad), entonces se espera que las ventas aumenten en $9.63$ unidades."
   ]
  },
  {
   "cell_type": "markdown",
   "id": "31254f02",
   "metadata": {},
   "source": [
    "---\n",
    "__Correlación vs regresión__\n",
    "\n",
    "Una pregunta natural es: si ya vimos que las ventas ($Y$) y la publicidad ($X_1$) están asociados linealmente (pues el coeficiente de correlación de Pearson es aprox. 0.7), ¿por qué hacer una regresión lineal?\n",
    "\n",
    "- La correlación (de Pearson) y la regresión son usadas para medir qué tanta relación existe entre variables.\n",
    "- En análisis de regresión mide el efecto que tiene una variable independiente ($X_i$) en la variable dependiente ($Y$), la correlación no.\n",
    "- Con el análisis de regresión es posible realizar predicciones.\n",
    "- En el análisis de regresión se distinguen entre variables dependientes e independientes, $Y$ y $X$, el coeficiente de correlación de Pearson no (pues es simétrico, $r_{XY} = r_{YX}$).\n",
    "- En el análisis de regresión, la relación causal tiene una dirección:\n",
    "$$\n",
    "X \\to Y\\\\\n",
    "\\text{Causa} \\to \\text{Efecto}\n",
    "$$\n",
    "- Correlación no necesariamente implica causalidad.\n",
    "\n",
    "---"
   ]
  },
  {
   "cell_type": "markdown",
   "id": "dd0ea4ad",
   "metadata": {},
   "source": [
    "Una forma de comparar modelos es a través de la suma de los errores al cuadrado \n",
    "\n",
    "$$\n",
    "SSR = \\sum_i (y_i - \\hat{y}_i)^{2}\n",
    "$$\n",
    "\n",
    "Un modelo con menor $SSR$ (comparado con otro) explica mayor variabilidad en $Y$ usando $X_i$.\n"
   ]
  },
  {
   "cell_type": "code",
   "execution_count": 81,
   "id": "3a375c89",
   "metadata": {},
   "outputs": [
    {
     "data": {
      "text/plain": [
       "271216.5389327144"
      ]
     },
     "execution_count": 81,
     "metadata": {},
     "output_type": "execute_result"
    }
   ],
   "source": [
    "sum(results_1.resid ** 2)"
   ]
  },
  {
   "cell_type": "markdown",
   "id": "a0829ac7",
   "metadata": {},
   "source": [
    "Para este modelo $SSR = 271,216$.\n",
    "\n",
    "Podemos considerar otros modelos usando otra variable regresora para explicar la variabilidad en las ventas."
   ]
  },
  {
   "cell_type": "code",
   "execution_count": 82,
   "id": "de2fc4cf",
   "metadata": {},
   "outputs": [],
   "source": [
    "X_2 = data[\"Precio (euros por unidad)\"]\n",
    "X_3 = data[\"Difusión (en miles de euros)\"]"
   ]
  },
  {
   "cell_type": "code",
   "execution_count": 83,
   "id": "a93cbd31",
   "metadata": {},
   "outputs": [
    {
     "data": {
      "text/html": [
       "<table class=\"simpletable\">\n",
       "<caption>OLS Regression Results</caption>\n",
       "<tr>\n",
       "  <th>Dep. Variable:</th>    <td>Ventas (en miles de unidades)</td> <th>  R-squared:         </th> <td>   0.002</td>\n",
       "</tr>\n",
       "<tr>\n",
       "  <th>Model:</th>                         <td>OLS</td>              <th>  Adj. R-squared:    </th> <td>  -0.098</td>\n",
       "</tr>\n",
       "<tr>\n",
       "  <th>Method:</th>                   <td>Least Squares</td>         <th>  F-statistic:       </th> <td> 0.02267</td>\n",
       "</tr>\n",
       "<tr>\n",
       "  <th>Date:</th>                   <td>Tue, 25 Apr 2023</td>        <th>  Prob (F-statistic):</th>  <td> 0.883</td> \n",
       "</tr>\n",
       "<tr>\n",
       "  <th>Time:</th>                       <td>23:29:10</td>            <th>  Log-Likelihood:    </th> <td> -81.975</td>\n",
       "</tr>\n",
       "<tr>\n",
       "  <th>No. Observations:</th>            <td>    12</td>             <th>  AIC:               </th> <td>   167.9</td>\n",
       "</tr>\n",
       "<tr>\n",
       "  <th>Df Residuals:</th>                <td>    10</td>             <th>  BIC:               </th> <td>   168.9</td>\n",
       "</tr>\n",
       "<tr>\n",
       "  <th>Df Model:</th>                    <td>     1</td>             <th>                     </th>     <td> </td>   \n",
       "</tr>\n",
       "<tr>\n",
       "  <th>Covariance Type:</th>            <td>nonrobust</td>           <th>                     </th>     <td> </td>   \n",
       "</tr>\n",
       "</table>\n",
       "<table class=\"simpletable\">\n",
       "<tr>\n",
       "              <td></td>                 <th>coef</th>     <th>std err</th>      <th>t</th>      <th>P>|t|</th>  <th>[0.025</th>    <th>0.975]</th>  \n",
       "</tr>\n",
       "<tr>\n",
       "  <th>const</th>                     <td> 2919.8312</td> <td>  633.314</td> <td>    4.610</td> <td> 0.001</td> <td> 1508.719</td> <td> 4330.943</td>\n",
       "</tr>\n",
       "<tr>\n",
       "  <th>Precio (euros por unidad)</th> <td>  -55.4892</td> <td>  368.571</td> <td>   -0.151</td> <td> 0.883</td> <td> -876.717</td> <td>  765.738</td>\n",
       "</tr>\n",
       "</table>\n",
       "<table class=\"simpletable\">\n",
       "<tr>\n",
       "  <th>Omnibus:</th>       <td> 3.551</td> <th>  Durbin-Watson:     </th> <td>   1.823</td>\n",
       "</tr>\n",
       "<tr>\n",
       "  <th>Prob(Omnibus):</th> <td> 0.169</td> <th>  Jarque-Bera (JB):  </th> <td>   1.144</td>\n",
       "</tr>\n",
       "<tr>\n",
       "  <th>Skew:</th>          <td> 0.146</td> <th>  Prob(JB):          </th> <td>   0.564</td>\n",
       "</tr>\n",
       "<tr>\n",
       "  <th>Kurtosis:</th>      <td> 1.516</td> <th>  Cond. No.          </th> <td>    20.5</td>\n",
       "</tr>\n",
       "</table><br/><br/>Notes:<br/>[1] Standard Errors assume that the covariance matrix of the errors is correctly specified."
      ],
      "text/plain": [
       "<class 'statsmodels.iolib.summary.Summary'>\n",
       "\"\"\"\n",
       "                                  OLS Regression Results                                 \n",
       "=========================================================================================\n",
       "Dep. Variable:     Ventas (en miles de unidades)   R-squared:                       0.002\n",
       "Model:                                       OLS   Adj. R-squared:                 -0.098\n",
       "Method:                            Least Squares   F-statistic:                   0.02267\n",
       "Date:                           Tue, 25 Apr 2023   Prob (F-statistic):              0.883\n",
       "Time:                                   23:29:10   Log-Likelihood:                -81.975\n",
       "No. Observations:                             12   AIC:                             167.9\n",
       "Df Residuals:                                 10   BIC:                             168.9\n",
       "Df Model:                                      1                                         \n",
       "Covariance Type:                       nonrobust                                         \n",
       "=============================================================================================\n",
       "                                coef    std err          t      P>|t|      [0.025      0.975]\n",
       "---------------------------------------------------------------------------------------------\n",
       "const                      2919.8312    633.314      4.610      0.001    1508.719    4330.943\n",
       "Precio (euros por unidad)   -55.4892    368.571     -0.151      0.883    -876.717     765.738\n",
       "==============================================================================\n",
       "Omnibus:                        3.551   Durbin-Watson:                   1.823\n",
       "Prob(Omnibus):                  0.169   Jarque-Bera (JB):                1.144\n",
       "Skew:                           0.146   Prob(JB):                        0.564\n",
       "Kurtosis:                       1.516   Cond. No.                         20.5\n",
       "==============================================================================\n",
       "\n",
       "Notes:\n",
       "[1] Standard Errors assume that the covariance matrix of the errors is correctly specified.\n",
       "\"\"\""
      ]
     },
     "execution_count": 83,
     "metadata": {},
     "output_type": "execute_result"
    }
   ],
   "source": [
    "results_2 = sm.OLS(Y, sm.add_constant(X_2)).fit()\n",
    "results_2.summary()"
   ]
  },
  {
   "cell_type": "code",
   "execution_count": 84,
   "id": "0ec5c0b3",
   "metadata": {},
   "outputs": [
    {
     "data": {
      "text/html": [
       "<table class=\"simpletable\">\n",
       "<caption>OLS Regression Results</caption>\n",
       "<tr>\n",
       "  <th>Dep. Variable:</th>    <td>Ventas (en miles de unidades)</td> <th>  R-squared:         </th> <td>   0.509</td>\n",
       "</tr>\n",
       "<tr>\n",
       "  <th>Model:</th>                         <td>OLS</td>              <th>  Adj. R-squared:    </th> <td>   0.460</td>\n",
       "</tr>\n",
       "<tr>\n",
       "  <th>Method:</th>                   <td>Least Squares</td>         <th>  F-statistic:       </th> <td>   10.36</td>\n",
       "</tr>\n",
       "<tr>\n",
       "  <th>Date:</th>                   <td>Tue, 25 Apr 2023</td>        <th>  Prob (F-statistic):</th>  <td>0.00920</td>\n",
       "</tr>\n",
       "<tr>\n",
       "  <th>Time:</th>                       <td>23:29:12</td>            <th>  Log-Likelihood:    </th> <td> -77.724</td>\n",
       "</tr>\n",
       "<tr>\n",
       "  <th>No. Observations:</th>            <td>    12</td>             <th>  AIC:               </th> <td>   159.4</td>\n",
       "</tr>\n",
       "<tr>\n",
       "  <th>Df Residuals:</th>                <td>    10</td>             <th>  BIC:               </th> <td>   160.4</td>\n",
       "</tr>\n",
       "<tr>\n",
       "  <th>Df Model:</th>                    <td>     1</td>             <th>                     </th>     <td> </td>   \n",
       "</tr>\n",
       "<tr>\n",
       "  <th>Covariance Type:</th>            <td>nonrobust</td>           <th>                     </th>     <td> </td>   \n",
       "</tr>\n",
       "</table>\n",
       "<table class=\"simpletable\">\n",
       "<tr>\n",
       "                <td></td>                  <th>coef</th>     <th>std err</th>      <th>t</th>      <th>P>|t|</th>  <th>[0.025</th>    <th>0.975]</th>  \n",
       "</tr>\n",
       "<tr>\n",
       "  <th>const</th>                        <td> 2400.0668</td> <td>  141.124</td> <td>   17.007</td> <td> 0.000</td> <td> 2085.623</td> <td> 2714.511</td>\n",
       "</tr>\n",
       "<tr>\n",
       "  <th>Difusión (en miles de euros)</th> <td>    2.7172</td> <td>    0.844</td> <td>    3.218</td> <td> 0.009</td> <td>    0.836</td> <td>    4.599</td>\n",
       "</tr>\n",
       "</table>\n",
       "<table class=\"simpletable\">\n",
       "<tr>\n",
       "  <th>Omnibus:</th>       <td> 2.060</td> <th>  Durbin-Watson:     </th> <td>   1.525</td>\n",
       "</tr>\n",
       "<tr>\n",
       "  <th>Prob(Omnibus):</th> <td> 0.357</td> <th>  Jarque-Bera (JB):  </th> <td>   0.891</td>\n",
       "</tr>\n",
       "<tr>\n",
       "  <th>Skew:</th>          <td>-0.041</td> <th>  Prob(JB):          </th> <td>   0.641</td>\n",
       "</tr>\n",
       "<tr>\n",
       "  <th>Kurtosis:</th>      <td> 1.668</td> <th>  Cond. No.          </th> <td>    474.</td>\n",
       "</tr>\n",
       "</table><br/><br/>Notes:<br/>[1] Standard Errors assume that the covariance matrix of the errors is correctly specified."
      ],
      "text/plain": [
       "<class 'statsmodels.iolib.summary.Summary'>\n",
       "\"\"\"\n",
       "                                  OLS Regression Results                                 \n",
       "=========================================================================================\n",
       "Dep. Variable:     Ventas (en miles de unidades)   R-squared:                       0.509\n",
       "Model:                                       OLS   Adj. R-squared:                  0.460\n",
       "Method:                            Least Squares   F-statistic:                     10.36\n",
       "Date:                           Tue, 25 Apr 2023   Prob (F-statistic):            0.00920\n",
       "Time:                                   23:29:12   Log-Likelihood:                -77.724\n",
       "No. Observations:                             12   AIC:                             159.4\n",
       "Df Residuals:                                 10   BIC:                             160.4\n",
       "Df Model:                                      1                                         \n",
       "Covariance Type:                       nonrobust                                         \n",
       "================================================================================================\n",
       "                                   coef    std err          t      P>|t|      [0.025      0.975]\n",
       "------------------------------------------------------------------------------------------------\n",
       "const                         2400.0668    141.124     17.007      0.000    2085.623    2714.511\n",
       "Difusión (en miles de euros)     2.7172      0.844      3.218      0.009       0.836       4.599\n",
       "==============================================================================\n",
       "Omnibus:                        2.060   Durbin-Watson:                   1.525\n",
       "Prob(Omnibus):                  0.357   Jarque-Bera (JB):                0.891\n",
       "Skew:                          -0.041   Prob(JB):                        0.641\n",
       "Kurtosis:                       1.668   Cond. No.                         474.\n",
       "==============================================================================\n",
       "\n",
       "Notes:\n",
       "[1] Standard Errors assume that the covariance matrix of the errors is correctly specified.\n",
       "\"\"\""
      ]
     },
     "execution_count": 84,
     "metadata": {},
     "output_type": "execute_result"
    }
   ],
   "source": [
    "results_3 = sm.OLS(Y, sm.add_constant(X_3)).fit()\n",
    "results_3.summary()"
   ]
  },
  {
   "cell_type": "markdown",
   "id": "d5d6aceb",
   "metadata": {},
   "source": [
    "De donde\n",
    "\n",
    "$$\n",
    "    \\hat{Y} = 560 + 9.63 X_1 \\\\\n",
    "    \\hat{Y} = 2920 - 55.5 X_2 \\\\\n",
    "    \\hat{Y} = 2400 + 2.72 X_3\n",
    "$$\n",
    "\n",
    "con $X_1$: publicidad, $X_2$: precio, $X_3$: difusión.\n",
    "\n",
    "El problema con hacer esto es que, dados los valores de los regresores, cada ecuación da un valor distinto para las ventas estimadas. ¿A cuál le hacemos caso?\n",
    "\n",
    "La solución es considerar las variables de manera simultánea dentro del modelo (i.e hacer regresión múltiple)."
   ]
  },
  {
   "cell_type": "markdown",
   "id": "e9e500fb",
   "metadata": {},
   "source": [
    "Como en el caso simple, el primer paso es calcular la matriz de correlación."
   ]
  },
  {
   "cell_type": "code",
   "execution_count": 85,
   "id": "b3693759",
   "metadata": {},
   "outputs": [
    {
     "data": {
      "text/plain": [
       "matrix([[2.596e+03, 2.709e+03, 2.552e+03, 3.004e+03, 3.076e+03,\n",
       "         2.513e+03, 2.626e+03, 3.120e+03, 2.751e+03, 2.965e+03,\n",
       "         2.818e+03, 3.171e+03],\n",
       "        [2.030e+02, 2.160e+02, 2.070e+02, 2.500e+02, 2.400e+02,\n",
       "         2.260e+02, 2.460e+02, 2.500e+02, 2.350e+02, 2.560e+02,\n",
       "         2.420e+02, 2.510e+02],\n",
       "        [1.420e+00, 1.410e+00, 1.950e+00, 1.990e+00, 1.630e+00,\n",
       "         1.820e+00, 1.690e+00, 1.650e+00, 1.990e+00, 1.530e+00,\n",
       "         1.690e+00, 1.720e+00],\n",
       "        [1.500e+02, 1.200e+02, 1.460e+02, 2.700e+02, 2.000e+02,\n",
       "         9.300e+01, 7.000e+01, 2.300e+02, 1.660e+02, 1.160e+02,\n",
       "         1.000e+02, 2.160e+02]])"
      ]
     },
     "execution_count": 85,
     "metadata": {},
     "output_type": "execute_result"
    }
   ],
   "source": [
    "X = np.asmatrix((Y, X_1, X_2, X_3))\n",
    "X"
   ]
  },
  {
   "cell_type": "code",
   "execution_count": 86,
   "id": "01df09fa",
   "metadata": {},
   "outputs": [
    {
     "data": {
      "text/plain": [
       "array([[ 1.        ,  0.74241044, -0.04755495,  0.71326977],\n",
       "       [ 0.74241044,  1.        ,  0.15516273,  0.28981203],\n",
       "       [-0.04755495,  0.15516273,  1.        ,  0.29882096],\n",
       "       [ 0.71326977,  0.28981203,  0.29882096,  1.        ]])"
      ]
     },
     "execution_count": 86,
     "metadata": {},
     "output_type": "execute_result"
    }
   ],
   "source": [
    "# Matrix de correlación\n",
    "np.corrcoef(X)"
   ]
  },
  {
   "cell_type": "markdown",
   "id": "4270300a",
   "metadata": {},
   "source": [
    "Por como construimos $X$, las columnas y renglones son: Ventas, Publicidad, Precio, Difusión.\n",
    "\n",
    "De lo anterior podemos notar que:\n",
    "\n",
    "1. La correación entre las ventas y la publicidad es (aprox) $0.74$.\n",
    "2. La correación entre las ventas y el precio es (aprox) $-0.048$.\n",
    "2. La correación entre las ventas y la difusión es (aprox) $0.713$.\n",
    "\n",
    "\n",
    "Con la información anterior podríamos, por ejemplo, ajustar un modelo considerando las ventas $Y$, la publicidad $X_1$ y el precio $X_2$, o cualquier conbinación de las 3 co-variables."
   ]
  },
  {
   "cell_type": "code",
   "execution_count": 87,
   "id": "acce866d",
   "metadata": {},
   "outputs": [
    {
     "data": {
      "text/plain": [
       "(0     203\n",
       " 1     216\n",
       " 2     207\n",
       " 3     250\n",
       " 4     240\n",
       " 5     226\n",
       " 6     246\n",
       " 7     250\n",
       " 8     235\n",
       " 9     256\n",
       " 10    242\n",
       " 11    251\n",
       " Name: Publicidad (en miles de euros), dtype: int64,\n",
       " 0     1.42\n",
       " 1     1.41\n",
       " 2     1.95\n",
       " 3     1.99\n",
       " 4     1.63\n",
       " 5     1.82\n",
       " 6     1.69\n",
       " 7     1.65\n",
       " 8     1.99\n",
       " 9     1.53\n",
       " 10    1.69\n",
       " 11    1.72\n",
       " Name: Precio (euros por unidad), dtype: float64)"
      ]
     },
     "execution_count": 87,
     "metadata": {},
     "output_type": "execute_result"
    }
   ],
   "source": [
    "X_1, X_2"
   ]
  },
  {
   "cell_type": "code",
   "execution_count": 88,
   "id": "1237d9c9",
   "metadata": {},
   "outputs": [
    {
     "data": {
      "text/plain": [
       "(12, 2)"
      ]
     },
     "execution_count": 88,
     "metadata": {},
     "output_type": "execute_result"
    }
   ],
   "source": [
    "X_12 = np.asmatrix([X_1, X_2]).T\n",
    "X_12.shape"
   ]
  },
  {
   "cell_type": "code",
   "execution_count": 96,
   "id": "37c0b389",
   "metadata": {},
   "outputs": [
    {
     "data": {
      "text/html": [
       "<table class=\"simpletable\">\n",
       "<caption>GLS Regression Results</caption>\n",
       "<tr>\n",
       "  <th>Dep. Variable:</th>    <td>Ventas (en miles de unidades)</td> <th>  R-squared:         </th> <td>   0.578</td>\n",
       "</tr>\n",
       "<tr>\n",
       "  <th>Model:</th>                         <td>GLS</td>              <th>  Adj. R-squared:    </th> <td>   0.485</td>\n",
       "</tr>\n",
       "<tr>\n",
       "  <th>Method:</th>                   <td>Least Squares</td>         <th>  F-statistic:       </th> <td>   6.171</td>\n",
       "</tr>\n",
       "<tr>\n",
       "  <th>Date:</th>                   <td>Tue, 25 Apr 2023</td>        <th>  Prob (F-statistic):</th>  <td>0.0205</td> \n",
       "</tr>\n",
       "<tr>\n",
       "  <th>Time:</th>                       <td>23:41:08</td>            <th>  Log-Likelihood:    </th> <td> -76.808</td>\n",
       "</tr>\n",
       "<tr>\n",
       "  <th>No. Observations:</th>            <td>    12</td>             <th>  AIC:               </th> <td>   159.6</td>\n",
       "</tr>\n",
       "<tr>\n",
       "  <th>Df Residuals:</th>                <td>     9</td>             <th>  BIC:               </th> <td>   161.1</td>\n",
       "</tr>\n",
       "<tr>\n",
       "  <th>Df Model:</th>                    <td>     2</td>             <th>                     </th>     <td> </td>   \n",
       "</tr>\n",
       "<tr>\n",
       "  <th>Covariance Type:</th>            <td>nonrobust</td>           <th>                     </th>     <td> </td>   \n",
       "</tr>\n",
       "</table>\n",
       "<table class=\"simpletable\">\n",
       "<tr>\n",
       "    <td></td>       <th>coef</th>     <th>std err</th>      <th>t</th>      <th>P>|t|</th>  <th>[0.025</th>    <th>0.975]</th>  \n",
       "</tr>\n",
       "<tr>\n",
       "  <th>const</th> <td>  813.8182</td> <td>  741.014</td> <td>    1.098</td> <td> 0.301</td> <td> -862.471</td> <td> 2490.108</td>\n",
       "</tr>\n",
       "<tr>\n",
       "  <th>x1</th>    <td>    9.9654</td> <td>    2.842</td> <td>    3.506</td> <td> 0.007</td> <td>    3.536</td> <td>   16.395</td>\n",
       "</tr>\n",
       "<tr>\n",
       "  <th>x2</th>    <td> -194.5880</td> <td>  255.669</td> <td>   -0.761</td> <td> 0.466</td> <td> -772.951</td> <td>  383.775</td>\n",
       "</tr>\n",
       "</table>\n",
       "<table class=\"simpletable\">\n",
       "<tr>\n",
       "  <th>Omnibus:</th>       <td> 1.331</td> <th>  Durbin-Watson:     </th> <td>   1.875</td>\n",
       "</tr>\n",
       "<tr>\n",
       "  <th>Prob(Omnibus):</th> <td> 0.514</td> <th>  Jarque-Bera (JB):  </th> <td>   0.819</td>\n",
       "</tr>\n",
       "<tr>\n",
       "  <th>Skew:</th>          <td>-0.605</td> <th>  Prob(JB):          </th> <td>   0.664</td>\n",
       "</tr>\n",
       "<tr>\n",
       "  <th>Kurtosis:</th>      <td> 2.581</td> <th>  Cond. No.          </th> <td>3.64e+03</td>\n",
       "</tr>\n",
       "</table><br/><br/>Notes:<br/>[1] Standard Errors assume that the covariance matrix of the errors is correctly specified.<br/>[2] The condition number is large, 3.64e+03. This might indicate that there are<br/>strong multicollinearity or other numerical problems."
      ],
      "text/plain": [
       "<class 'statsmodels.iolib.summary.Summary'>\n",
       "\"\"\"\n",
       "                                  GLS Regression Results                                 \n",
       "=========================================================================================\n",
       "Dep. Variable:     Ventas (en miles de unidades)   R-squared:                       0.578\n",
       "Model:                                       GLS   Adj. R-squared:                  0.485\n",
       "Method:                            Least Squares   F-statistic:                     6.171\n",
       "Date:                           Tue, 25 Apr 2023   Prob (F-statistic):             0.0205\n",
       "Time:                                   23:41:08   Log-Likelihood:                -76.808\n",
       "No. Observations:                             12   AIC:                             159.6\n",
       "Df Residuals:                                  9   BIC:                             161.1\n",
       "Df Model:                                      2                                         \n",
       "Covariance Type:                       nonrobust                                         \n",
       "==============================================================================\n",
       "                 coef    std err          t      P>|t|      [0.025      0.975]\n",
       "------------------------------------------------------------------------------\n",
       "const        813.8182    741.014      1.098      0.301    -862.471    2490.108\n",
       "x1             9.9654      2.842      3.506      0.007       3.536      16.395\n",
       "x2          -194.5880    255.669     -0.761      0.466    -772.951     383.775\n",
       "==============================================================================\n",
       "Omnibus:                        1.331   Durbin-Watson:                   1.875\n",
       "Prob(Omnibus):                  0.514   Jarque-Bera (JB):                0.819\n",
       "Skew:                          -0.605   Prob(JB):                        0.664\n",
       "Kurtosis:                       2.581   Cond. No.                     3.64e+03\n",
       "==============================================================================\n",
       "\n",
       "Notes:\n",
       "[1] Standard Errors assume that the covariance matrix of the errors is correctly specified.\n",
       "[2] The condition number is large, 3.64e+03. This might indicate that there are\n",
       "strong multicollinearity or other numerical problems.\n",
       "\"\"\""
      ]
     },
     "execution_count": 96,
     "metadata": {},
     "output_type": "execute_result"
    }
   ],
   "source": [
    "results_4 = sm.GLS(Y, sm.add_constant(X_12)).fit()\n",
    "results_4.summary()"
   ]
  },
  {
   "cell_type": "markdown",
   "id": "da7cb9f8",
   "metadata": {},
   "source": [
    "De donde obtenemos que\n",
    "\n",
    "$$\n",
    "\\hat{Y} = 814 + 9.97 X_1 - 194.6 X_2\n",
    "$$\n",
    "\n",
    "1. El modelo ya no es una recta, es un plano.\n",
    "2. Que el coeficiente de $X_2$ (el precio) sea negativo refleja el hecho de que si el precio aumenta, las ventas (pueden) disminuyen.\n",
    "3. La magnitud de los coeficientes no está relacionada con la importancia de esa variable al explicar $Y$.\n",
    "\n",
    "Para poder comparar los coeficientes primero hay que estandarizarlos.\n",
    "\n",
    "$$\\beta^{st}_j = \\beta_j \\frac{s_{x_j}}{s_y}$$\n",
    "\n",
    "donde $s$ indica desviación estándar."
   ]
  },
  {
   "cell_type": "code",
   "execution_count": 92,
   "id": "2bdbe6a8",
   "metadata": {},
   "outputs": [
    {
     "data": {
      "text/plain": [
       "18.069730255738506"
      ]
     },
     "execution_count": 92,
     "metadata": {},
     "output_type": "execute_result"
    }
   ],
   "source": [
    "s_x1 = X_1.std()\n",
    "s_x1"
   ]
  },
  {
   "cell_type": "code",
   "execution_count": 93,
   "id": "135dc348",
   "metadata": {},
   "outputs": [
    {
     "data": {
      "text/plain": [
       "0.20086743706416746"
      ]
     },
     "execution_count": 93,
     "metadata": {},
     "output_type": "execute_result"
    }
   ],
   "source": [
    "s_x2 = X_2.std()\n",
    "s_x2"
   ]
  },
  {
   "cell_type": "code",
   "execution_count": 94,
   "id": "c4899432",
   "metadata": {},
   "outputs": [
    {
     "data": {
      "text/plain": [
       "234.3809867922246"
      ]
     },
     "execution_count": 94,
     "metadata": {},
     "output_type": "execute_result"
    }
   ],
   "source": [
    "s_y = Y.std()\n",
    "s_y"
   ]
  },
  {
   "cell_type": "markdown",
   "id": "d35bb4fa",
   "metadata": {},
   "source": [
    "Los coeficientes estandarizados son\n",
    "\n",
    "$$\n",
    "\\beta_1^{st} = (9.97) \\frac{18.07}{234.38} = 0.768 \\\\\n",
    "\\beta_2^{st} = (-194.6) \\frac{0.201}{234.38} = -0.167 \\\\\n",
    "$$\n",
    "\n",
    "- Los beta's estandarizados son usados como una medida de la importancia de la variables.\n",
    "- Los beta's estandarizados son los coeficientes de la regresión al ajustar el modelo con las variables estandarizadas."
   ]
  },
  {
   "cell_type": "markdown",
   "id": "591cc207",
   "metadata": {},
   "source": [
    "Podemos observar que la publicidad es más importante, i.e, tiene mayor influencia (al explicar la variabilidad en las ventas) que el precio del producto."
   ]
  },
  {
   "cell_type": "code",
   "execution_count": 98,
   "id": "c318c2bf",
   "metadata": {},
   "outputs": [
    {
     "data": {
      "text/plain": [
       "254815.93272616263"
      ]
     },
     "execution_count": 98,
     "metadata": {},
     "output_type": "execute_result"
    }
   ],
   "source": [
    "# SSR con publicidad y precio.\n",
    "sum(results_4.resid ** 2)"
   ]
  },
  {
   "cell_type": "markdown",
   "id": "01ecf070",
   "metadata": {},
   "source": [
    "Ahora vamos a ajustar el modelo usando las 3 variables explicativas que tenemos."
   ]
  },
  {
   "cell_type": "code",
   "execution_count": 95,
   "id": "041c4fca",
   "metadata": {},
   "outputs": [
    {
     "data": {
      "text/plain": [
       "(12, 3)"
      ]
     },
     "execution_count": 95,
     "metadata": {},
     "output_type": "execute_result"
    }
   ],
   "source": [
    "X_123 = np.asmatrix([X_1, X_2, X_3]).T\n",
    "X_123.shape"
   ]
  },
  {
   "cell_type": "code",
   "execution_count": 97,
   "id": "f92838ee",
   "metadata": {},
   "outputs": [
    {
     "data": {
      "text/html": [
       "<table class=\"simpletable\">\n",
       "<caption>GLS Regression Results</caption>\n",
       "<tr>\n",
       "  <th>Dep. Variable:</th>    <td>Ventas (en miles de unidades)</td> <th>  R-squared:         </th> <td>   0.922</td>\n",
       "</tr>\n",
       "<tr>\n",
       "  <th>Model:</th>                         <td>GLS</td>              <th>  Adj. R-squared:    </th> <td>   0.893</td>\n",
       "</tr>\n",
       "<tr>\n",
       "  <th>Method:</th>                   <td>Least Squares</td>         <th>  F-statistic:       </th> <td>   31.50</td>\n",
       "</tr>\n",
       "<tr>\n",
       "  <th>Date:</th>                   <td>Tue, 25 Apr 2023</td>        <th>  Prob (F-statistic):</th> <td>8.84e-05</td>\n",
       "</tr>\n",
       "<tr>\n",
       "  <th>Time:</th>                       <td>23:41:21</td>            <th>  Log-Likelihood:    </th> <td> -66.686</td>\n",
       "</tr>\n",
       "<tr>\n",
       "  <th>No. Observations:</th>            <td>    12</td>             <th>  AIC:               </th> <td>   141.4</td>\n",
       "</tr>\n",
       "<tr>\n",
       "  <th>Df Residuals:</th>                <td>     8</td>             <th>  BIC:               </th> <td>   143.3</td>\n",
       "</tr>\n",
       "<tr>\n",
       "  <th>Df Model:</th>                    <td>     3</td>             <th>                     </th>     <td> </td>   \n",
       "</tr>\n",
       "<tr>\n",
       "  <th>Covariance Type:</th>            <td>nonrobust</td>           <th>                     </th>     <td> </td>   \n",
       "</tr>\n",
       "</table>\n",
       "<table class=\"simpletable\">\n",
       "<tr>\n",
       "    <td></td>       <th>coef</th>     <th>std err</th>      <th>t</th>      <th>P>|t|</th>  <th>[0.025</th>    <th>0.975]</th>  \n",
       "</tr>\n",
       "<tr>\n",
       "  <th>const</th> <td> 1248.2760</td> <td>  345.981</td> <td>    3.608</td> <td> 0.007</td> <td>  450.443</td> <td> 2046.109</td>\n",
       "</tr>\n",
       "<tr>\n",
       "  <th>x1</th>    <td>    7.9081</td> <td>    1.342</td> <td>    5.891</td> <td> 0.000</td> <td>    4.812</td> <td>   11.004</td>\n",
       "</tr>\n",
       "<tr>\n",
       "  <th>x2</th>    <td> -387.5722</td> <td>  121.116</td> <td>   -3.200</td> <td> 0.013</td> <td> -666.867</td> <td> -108.277</td>\n",
       "</tr>\n",
       "<tr>\n",
       "  <th>x3</th>    <td>    2.4222</td> <td>    0.408</td> <td>    5.935</td> <td> 0.000</td> <td>    1.481</td> <td>    3.363</td>\n",
       "</tr>\n",
       "</table>\n",
       "<table class=\"simpletable\">\n",
       "<tr>\n",
       "  <th>Omnibus:</th>       <td> 1.924</td> <th>  Durbin-Watson:     </th> <td>   2.071</td>\n",
       "</tr>\n",
       "<tr>\n",
       "  <th>Prob(Omnibus):</th> <td> 0.382</td> <th>  Jarque-Bera (JB):  </th> <td>   0.898</td>\n",
       "</tr>\n",
       "<tr>\n",
       "  <th>Skew:</th>          <td>-0.160</td> <th>  Prob(JB):          </th> <td>   0.638</td>\n",
       "</tr>\n",
       "<tr>\n",
       "  <th>Kurtosis:</th>      <td> 1.698</td> <th>  Cond. No.          </th> <td>4.52e+03</td>\n",
       "</tr>\n",
       "</table><br/><br/>Notes:<br/>[1] Standard Errors assume that the covariance matrix of the errors is correctly specified.<br/>[2] The condition number is large, 4.52e+03. This might indicate that there are<br/>strong multicollinearity or other numerical problems."
      ],
      "text/plain": [
       "<class 'statsmodels.iolib.summary.Summary'>\n",
       "\"\"\"\n",
       "                                  GLS Regression Results                                 \n",
       "=========================================================================================\n",
       "Dep. Variable:     Ventas (en miles de unidades)   R-squared:                       0.922\n",
       "Model:                                       GLS   Adj. R-squared:                  0.893\n",
       "Method:                            Least Squares   F-statistic:                     31.50\n",
       "Date:                           Tue, 25 Apr 2023   Prob (F-statistic):           8.84e-05\n",
       "Time:                                   23:41:21   Log-Likelihood:                -66.686\n",
       "No. Observations:                             12   AIC:                             141.4\n",
       "Df Residuals:                                  8   BIC:                             143.3\n",
       "Df Model:                                      3                                         \n",
       "Covariance Type:                       nonrobust                                         \n",
       "==============================================================================\n",
       "                 coef    std err          t      P>|t|      [0.025      0.975]\n",
       "------------------------------------------------------------------------------\n",
       "const       1248.2760    345.981      3.608      0.007     450.443    2046.109\n",
       "x1             7.9081      1.342      5.891      0.000       4.812      11.004\n",
       "x2          -387.5722    121.116     -3.200      0.013    -666.867    -108.277\n",
       "x3             2.4222      0.408      5.935      0.000       1.481       3.363\n",
       "==============================================================================\n",
       "Omnibus:                        1.924   Durbin-Watson:                   2.071\n",
       "Prob(Omnibus):                  0.382   Jarque-Bera (JB):                0.898\n",
       "Skew:                          -0.160   Prob(JB):                        0.638\n",
       "Kurtosis:                       1.698   Cond. No.                     4.52e+03\n",
       "==============================================================================\n",
       "\n",
       "Notes:\n",
       "[1] Standard Errors assume that the covariance matrix of the errors is correctly specified.\n",
       "[2] The condition number is large, 4.52e+03. This might indicate that there are\n",
       "strong multicollinearity or other numerical problems.\n",
       "\"\"\""
      ]
     },
     "execution_count": 97,
     "metadata": {},
     "output_type": "execute_result"
    }
   ],
   "source": [
    "results_5 = sm.GLS(Y, sm.add_constant(X_123)).fit()\n",
    "results_5.summary()"
   ]
  },
  {
   "cell_type": "markdown",
   "id": "5f846949",
   "metadata": {},
   "source": [
    "Podemos ver que\n",
    "\n",
    "$$\n",
    "\\hat{Y} = 1248 + 7.91 X_1 + -387-6 X_2 + 2.42 X_3\n",
    "$$\n",
    "\n",
    "Para medir la importancia de las variables sobre $Y$ hay que calcular las beta's estandarizadas.\n",
    "\n",
    "$$\n",
    "\\beta_1^{st} = 0.610\\\\\n",
    "\\beta_2^{st} = -0.332\\\\\n",
    "\\beta_3^{st} = 0.636\n",
    "$$"
   ]
  },
  {
   "cell_type": "code",
   "execution_count": 99,
   "id": "131c9633",
   "metadata": {},
   "outputs": [
    {
     "data": {
      "text/plain": [
       "47166.36496770067"
      ]
     },
     "execution_count": 99,
     "metadata": {},
     "output_type": "execute_result"
    }
   ],
   "source": [
    "# SSR con todas las variables\n",
    "sum(results_5.resid ** 2)"
   ]
  },
  {
   "cell_type": "markdown",
   "id": "fd97329f",
   "metadata": {},
   "source": [
    "Podemos observar que al incluir más variables $SSR$ disminuye:\n",
    "\n",
    "1. Usando publicidad: $SST=271,216.53$ \n",
    "2. Usando publicidad y precio: $SST = 254,815.93$\n",
    "3. Usando publicidad, precio y difusión: $SST = 47,166.36$.\n",
    "\n",
    "Como el $SST$ nos ayuda a comparar modelos, podemos concluir que el tercer modelo explica mejor la variabilidad de las ventas."
   ]
  },
  {
   "cell_type": "markdown",
   "id": "89edf4e6",
   "metadata": {},
   "source": [
    "## 3. Verificación de la regresión\n",
    "\n",
    "1. Error estándar de la regresión.\n",
    "2. Coeficiente de determinación.\n",
    "3. Estadística $F$ y su $p_{\\text{val}}$.\n",
    "4. Coeficiente de determinación ajustado."
   ]
  },
  {
   "cell_type": "markdown",
   "id": "1b4bcc16",
   "metadata": {},
   "source": [
    "## 4. Verificación de los coeficientes de la regresión"
   ]
  },
  {
   "cell_type": "markdown",
   "id": "cbae44ee",
   "metadata": {},
   "source": [
    "## 5. Verificación de los supuestos"
   ]
  },
  {
   "cell_type": "code",
   "execution_count": null,
   "id": "385139e9",
   "metadata": {},
   "outputs": [],
   "source": []
  }
 ],
 "metadata": {
  "kernelspec": {
   "display_name": "Python 3 (ipykernel)",
   "language": "python",
   "name": "python3"
  },
  "language_info": {
   "codemirror_mode": {
    "name": "ipython",
    "version": 3
   },
   "file_extension": ".py",
   "mimetype": "text/x-python",
   "name": "python",
   "nbconvert_exporter": "python",
   "pygments_lexer": "ipython3",
   "version": "3.10.6"
  }
 },
 "nbformat": 4,
 "nbformat_minor": 5
}
