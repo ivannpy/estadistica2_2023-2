{
 "cells": [
  {
   "cell_type": "markdown",
   "id": "1a7d510a",
   "metadata": {},
   "source": [
    "# Regresión lineal múltiple\n",
    "#### Estadística 2\n",
    "##### Por: Jorge Iván Reyes Hernández"
   ]
  },
  {
   "cell_type": "markdown",
   "id": "057a6a93",
   "metadata": {},
   "source": [
    "Recordemos que uno de los objetivos del análisis de regresión es __describir y explicar relaciones entre variable__. En la regresión simple buscamos explicar una variable (generalmente denotada por $Y$) a través de una única variable independiente o regresora (generalmente denotada por $X$). En la regresión múltiple buscamos explicar una variable, $Y$ a través de múltiples regresores, $X_1, \\ldots, X_k$.\n",
    "\n",
    "En general, el modelo de regresión es\n",
    "$$\n",
    "Y = f(X_1,\\ldots,X_k) + \\epsilon\n",
    "$$\n",
    "\n",
    "## 1. Formulación del modelo\n",
    "\n",
    "El primer paso en el análisis de regresión es la formulación del modelo. \n",
    "Aquí debemos:\n",
    "1. Seleccionar las variables ($X_1,\\ldots,X_k$).\n",
    "\n",
    "    Debe haber un balance entre la simplicidad del modelo (forma de la $f$) y la complejidad (qué tantas variables usar).\n",
    "    \n",
    "2. Especificar la forma funcional del modelo ($f$).\n",
    "    \n",
    "    En regresión lineal, $f$ es una función lineal (de los parámetros):\n",
    "    \n",
    "    $$\n",
    "    Y = \\beta_0 + \\beta_1 X_1 + \\ldots + \\beta_k X_k + \\epsilon\n",
    "    $$\n",
    "    \n",
    "3. Hacer suposiciones acerca del error aleatorio ($\\epsilon$).\n",
    "\n",
    "    $$\n",
    "        \\epsilon \\sim \\mathcal{N}(0,\\sigma^{2})\n",
    "    $$\n",
    "    \n",
    "\n",
    "Para ilustrar lo anterior, considere los siguientes datos."
   ]
  },
  {
   "cell_type": "code",
   "execution_count": 1,
   "id": "4cec4750",
   "metadata": {},
   "outputs": [],
   "source": [
    "import numpy as np\n",
    "import pandas as pd\n",
    "import matplotlib.pyplot as plt\n",
    "import statsmodels.api as sm\n",
    "from scipy import stats\n"
   ]
  },
  {
   "cell_type": "markdown",
   "id": "b36e28db",
   "metadata": {},
   "source": [
    "Documentación útil\n",
    "- [statsmodels](https://www.statsmodels.org/stable/)\n",
    "- [statsmodels.regression.linear_model.OLSResults](https://www.statsmodels.org/stable/generated/statsmodels.regression.linear_model.OLSResults.html#statsmodels.regression.linear_model.OLSResults)\n",
    "- [GLS](https://www.statsmodels.org/stable/generated/statsmodels.regression.linear_model.GLS.html#statsmodels.regression.linear_model.GLS)\n",
    "- [statsmodels.regression.linear_model.RegressionResults](https://www.statsmodels.org/dev/generated/statsmodels.regression.linear_model.RegressionResults.html)"
   ]
  },
  {
   "cell_type": "code",
   "execution_count": 2,
   "id": "1a3dc773",
   "metadata": {},
   "outputs": [],
   "source": [
    "import warnings\n",
    "warnings.filterwarnings(\"ignore\")\n"
   ]
  },
  {
   "cell_type": "code",
   "execution_count": 3,
   "id": "9196099b",
   "metadata": {},
   "outputs": [],
   "source": [
    "data = pd.read_csv(\"data_sales.csv\")\n"
   ]
  },
  {
   "cell_type": "code",
   "execution_count": 4,
   "id": "1889e485",
   "metadata": {},
   "outputs": [
    {
     "data": {
      "text/html": [
       "<div>\n",
       "<style scoped>\n",
       "    .dataframe tbody tr th:only-of-type {\n",
       "        vertical-align: middle;\n",
       "    }\n",
       "\n",
       "    .dataframe tbody tr th {\n",
       "        vertical-align: top;\n",
       "    }\n",
       "\n",
       "    .dataframe thead th {\n",
       "        text-align: right;\n",
       "    }\n",
       "</style>\n",
       "<table border=\"1\" class=\"dataframe\">\n",
       "  <thead>\n",
       "    <tr style=\"text-align: right;\">\n",
       "      <th></th>\n",
       "      <th>Periodo (por 3 meses)</th>\n",
       "      <th>Ventas (en miles de unidades)</th>\n",
       "      <th>Publicidad (en miles de euros)</th>\n",
       "      <th>Precio (euros por unidad)</th>\n",
       "      <th>Difusión (en miles de euros)</th>\n",
       "    </tr>\n",
       "  </thead>\n",
       "  <tbody>\n",
       "    <tr>\n",
       "      <th>0</th>\n",
       "      <td>1</td>\n",
       "      <td>2596</td>\n",
       "      <td>203</td>\n",
       "      <td>1.42</td>\n",
       "      <td>150</td>\n",
       "    </tr>\n",
       "    <tr>\n",
       "      <th>1</th>\n",
       "      <td>2</td>\n",
       "      <td>2709</td>\n",
       "      <td>216</td>\n",
       "      <td>1.41</td>\n",
       "      <td>120</td>\n",
       "    </tr>\n",
       "    <tr>\n",
       "      <th>2</th>\n",
       "      <td>3</td>\n",
       "      <td>2552</td>\n",
       "      <td>207</td>\n",
       "      <td>1.95</td>\n",
       "      <td>146</td>\n",
       "    </tr>\n",
       "    <tr>\n",
       "      <th>3</th>\n",
       "      <td>4</td>\n",
       "      <td>3004</td>\n",
       "      <td>250</td>\n",
       "      <td>1.99</td>\n",
       "      <td>270</td>\n",
       "    </tr>\n",
       "    <tr>\n",
       "      <th>4</th>\n",
       "      <td>5</td>\n",
       "      <td>3076</td>\n",
       "      <td>240</td>\n",
       "      <td>1.63</td>\n",
       "      <td>200</td>\n",
       "    </tr>\n",
       "    <tr>\n",
       "      <th>5</th>\n",
       "      <td>6</td>\n",
       "      <td>2513</td>\n",
       "      <td>226</td>\n",
       "      <td>1.82</td>\n",
       "      <td>93</td>\n",
       "    </tr>\n",
       "    <tr>\n",
       "      <th>6</th>\n",
       "      <td>7</td>\n",
       "      <td>2626</td>\n",
       "      <td>246</td>\n",
       "      <td>1.69</td>\n",
       "      <td>70</td>\n",
       "    </tr>\n",
       "    <tr>\n",
       "      <th>7</th>\n",
       "      <td>8</td>\n",
       "      <td>3120</td>\n",
       "      <td>250</td>\n",
       "      <td>1.65</td>\n",
       "      <td>230</td>\n",
       "    </tr>\n",
       "    <tr>\n",
       "      <th>8</th>\n",
       "      <td>9</td>\n",
       "      <td>2751</td>\n",
       "      <td>235</td>\n",
       "      <td>1.99</td>\n",
       "      <td>166</td>\n",
       "    </tr>\n",
       "    <tr>\n",
       "      <th>9</th>\n",
       "      <td>10</td>\n",
       "      <td>2965</td>\n",
       "      <td>256</td>\n",
       "      <td>1.53</td>\n",
       "      <td>116</td>\n",
       "    </tr>\n",
       "    <tr>\n",
       "      <th>10</th>\n",
       "      <td>11</td>\n",
       "      <td>2818</td>\n",
       "      <td>242</td>\n",
       "      <td>1.69</td>\n",
       "      <td>100</td>\n",
       "    </tr>\n",
       "    <tr>\n",
       "      <th>11</th>\n",
       "      <td>12</td>\n",
       "      <td>3171</td>\n",
       "      <td>251</td>\n",
       "      <td>1.72</td>\n",
       "      <td>216</td>\n",
       "    </tr>\n",
       "  </tbody>\n",
       "</table>\n",
       "</div>"
      ],
      "text/plain": [
       "    Periodo (por 3 meses)  Ventas (en miles de unidades)  \\\n",
       "0                       1                           2596   \n",
       "1                       2                           2709   \n",
       "2                       3                           2552   \n",
       "3                       4                           3004   \n",
       "4                       5                           3076   \n",
       "5                       6                           2513   \n",
       "6                       7                           2626   \n",
       "7                       8                           3120   \n",
       "8                       9                           2751   \n",
       "9                      10                           2965   \n",
       "10                     11                           2818   \n",
       "11                     12                           3171   \n",
       "\n",
       "    Publicidad (en miles de euros)  Precio (euros por unidad)  \\\n",
       "0                              203                       1.42   \n",
       "1                              216                       1.41   \n",
       "2                              207                       1.95   \n",
       "3                              250                       1.99   \n",
       "4                              240                       1.63   \n",
       "5                              226                       1.82   \n",
       "6                              246                       1.69   \n",
       "7                              250                       1.65   \n",
       "8                              235                       1.99   \n",
       "9                              256                       1.53   \n",
       "10                             242                       1.69   \n",
       "11                             251                       1.72   \n",
       "\n",
       "    Difusión (en miles de euros)  \n",
       "0                            150  \n",
       "1                            120  \n",
       "2                            146  \n",
       "3                            270  \n",
       "4                            200  \n",
       "5                             93  \n",
       "6                             70  \n",
       "7                            230  \n",
       "8                            166  \n",
       "9                            116  \n",
       "10                           100  \n",
       "11                           216  "
      ]
     },
     "execution_count": 4,
     "metadata": {},
     "output_type": "execute_result"
    }
   ],
   "source": [
    "data\n"
   ]
  },
  {
   "cell_type": "markdown",
   "id": "3a4b59cd",
   "metadata": {},
   "source": [
    "Intuitivamente podemos pensar que mientras más se invierta en publicidad, mayores serán las ventas. Si $Y$ indica las ventas, entonces podríamos interesarnos por explicar cómo varían las ventas esperadas conforme varía el gasto en publicidad.\n",
    "\n",
    "$$\n",
    "    \\mathbb{E}(Y|X) = f(X_1)\n",
    "$$\n",
    "\n",
    "Si asumimos que $f(X_1) = \\beta_0 + \\beta_1 X_1$, obtenemos el modelo de regresión lineal simple."
   ]
  },
  {
   "cell_type": "code",
   "execution_count": 5,
   "id": "a09d194e",
   "metadata": {},
   "outputs": [],
   "source": [
    "Y = data[\"Ventas (en miles de unidades)\"]\n"
   ]
  },
  {
   "cell_type": "code",
   "execution_count": 6,
   "id": "f10303e7",
   "metadata": {},
   "outputs": [],
   "source": [
    "X_1 = data[\"Publicidad (en miles de euros)\"]\n"
   ]
  },
  {
   "cell_type": "code",
   "execution_count": 7,
   "id": "5924d782",
   "metadata": {
    "scrolled": false
   },
   "outputs": [
    {
     "data": {
      "image/png": "[encoded data removed]",
      "text/plain": [
       "<Figure size 640x480 with 1 Axes>"
      ]
     },
     "metadata": {},
     "output_type": "display_data"
    }
   ],
   "source": [
    "plt.ylabel(\"Ventas\")\n",
    "plt.ylabel(\"Publicidad\")\n",
    "plt.xlim([100,350])\n",
    "plt.ylim([2300,3300])\n",
    "plt.scatter(X_1, Y);\n"
   ]
  },
  {
   "cell_type": "code",
   "execution_count": 8,
   "id": "cc0c14c9",
   "metadata": {},
   "outputs": [
    {
     "data": {
      "text/plain": [
       "PearsonRResult(statistic=0.7424104360176366, pvalue=0.005685256582679216)"
      ]
     },
     "execution_count": 8,
     "metadata": {},
     "output_type": "execute_result"
    }
   ],
   "source": [
    "# Pearson correlation coefficient and p-value for testing non-correlation.\n",
    "\n",
    "stats.pearsonr(X_1, Y)\n"
   ]
  },
  {
   "cell_type": "markdown",
   "id": "b157738d",
   "metadata": {},
   "source": [
    "El coeficiente de correlación de Pearson confirma que existe asociación lineal entre las ventas ($Y$) y la publicidad ($X_1$).\n",
    "\n",
    "## 2. Estimación de la función de regresión\n",
    "\n",
    "Como hay correlación entre las variables, tiene sentido ajustar un modelo de regresión lineal."
   ]
  },
  {
   "cell_type": "code",
   "execution_count": 9,
   "id": "ab77fa30",
   "metadata": {},
   "outputs": [],
   "source": [
    "results_1 = sm.OLS(Y, sm.add_constant(X_1)).fit()\n"
   ]
  },
  {
   "cell_type": "code",
   "execution_count": 10,
   "id": "d4dee0cb",
   "metadata": {},
   "outputs": [
    {
     "data": {
      "text/html": [
       "<table class=\"simpletable\">\n",
       "<caption>OLS Regression Results</caption>\n",
       "<tr>\n",
       "  <th>Dep. Variable:</th>    <td>Ventas (en miles de unidades)</td> <th>  R-squared:         </th> <td>   0.551</td>\n",
       "</tr>\n",
       "<tr>\n",
       "  <th>Model:</th>                         <td>OLS</td>              <th>  Adj. R-squared:    </th> <td>   0.506</td>\n",
       "</tr>\n",
       "<tr>\n",
       "  <th>Method:</th>                   <td>Least Squares</td>         <th>  F-statistic:       </th> <td>   12.28</td>\n",
       "</tr>\n",
       "<tr>\n",
       "  <th>Date:</th>                   <td>Fri, 05 May 2023</td>        <th>  Prob (F-statistic):</th>  <td>0.00569</td>\n",
       "</tr>\n",
       "<tr>\n",
       "  <th>Time:</th>                       <td>22:44:12</td>            <th>  Log-Likelihood:    </th> <td> -77.182</td>\n",
       "</tr>\n",
       "<tr>\n",
       "  <th>No. Observations:</th>            <td>    12</td>             <th>  AIC:               </th> <td>   158.4</td>\n",
       "</tr>\n",
       "<tr>\n",
       "  <th>Df Residuals:</th>                <td>    10</td>             <th>  BIC:               </th> <td>   159.3</td>\n",
       "</tr>\n",
       "<tr>\n",
       "  <th>Df Model:</th>                    <td>     1</td>             <th>                     </th>     <td> </td>   \n",
       "</tr>\n",
       "<tr>\n",
       "  <th>Covariance Type:</th>            <td>nonrobust</td>           <th>                     </th>     <td> </td>   \n",
       "</tr>\n",
       "</table>\n",
       "<table class=\"simpletable\">\n",
       "<tr>\n",
       "                 <td></td>                   <th>coef</th>     <th>std err</th>      <th>t</th>      <th>P>|t|</th>  <th>[0.025</th>    <th>0.975]</th>  \n",
       "</tr>\n",
       "<tr>\n",
       "  <th>const</th>                          <td>  560.4884</td> <td>  647.974</td> <td>    0.865</td> <td> 0.407</td> <td> -883.289</td> <td> 2004.265</td>\n",
       "</tr>\n",
       "<tr>\n",
       "  <th>Publicidad (en miles de euros)</th> <td>    9.6297</td> <td>    2.748</td> <td>    3.504</td> <td> 0.006</td> <td>    3.507</td> <td>   15.753</td>\n",
       "</tr>\n",
       "</table>\n",
       "<table class=\"simpletable\">\n",
       "<tr>\n",
       "  <th>Omnibus:</th>       <td> 0.835</td> <th>  Durbin-Watson:     </th> <td>   2.041</td>\n",
       "</tr>\n",
       "<tr>\n",
       "  <th>Prob(Omnibus):</th> <td> 0.659</td> <th>  Jarque-Bera (JB):  </th> <td>   0.650</td>\n",
       "</tr>\n",
       "<tr>\n",
       "  <th>Skew:</th>          <td>-0.489</td> <th>  Prob(JB):          </th> <td>   0.722</td>\n",
       "</tr>\n",
       "<tr>\n",
       "  <th>Kurtosis:</th>      <td> 2.414</td> <th>  Cond. No.          </th> <td>3.21e+03</td>\n",
       "</tr>\n",
       "</table><br/><br/>Notes:<br/>[1] Standard Errors assume that the covariance matrix of the errors is correctly specified.<br/>[2] The condition number is large, 3.21e+03. This might indicate that there are<br/>strong multicollinearity or other numerical problems."
      ],
      "text/plain": [
       "<class 'statsmodels.iolib.summary.Summary'>\n",
       "\"\"\"\n",
       "                                  OLS Regression Results                                 \n",
       "=========================================================================================\n",
       "Dep. Variable:     Ventas (en miles de unidades)   R-squared:                       0.551\n",
       "Model:                                       OLS   Adj. R-squared:                  0.506\n",
       "Method:                            Least Squares   F-statistic:                     12.28\n",
       "Date:                           Fri, 05 May 2023   Prob (F-statistic):            0.00569\n",
       "Time:                                   22:44:12   Log-Likelihood:                -77.182\n",
       "No. Observations:                             12   AIC:                             158.4\n",
       "Df Residuals:                                 10   BIC:                             159.3\n",
       "Df Model:                                      1                                         \n",
       "Covariance Type:                       nonrobust                                         \n",
       "==================================================================================================\n",
       "                                     coef    std err          t      P>|t|      [0.025      0.975]\n",
       "--------------------------------------------------------------------------------------------------\n",
       "const                            560.4884    647.974      0.865      0.407    -883.289    2004.265\n",
       "Publicidad (en miles de euros)     9.6297      2.748      3.504      0.006       3.507      15.753\n",
       "==============================================================================\n",
       "Omnibus:                        0.835   Durbin-Watson:                   2.041\n",
       "Prob(Omnibus):                  0.659   Jarque-Bera (JB):                0.650\n",
       "Skew:                          -0.489   Prob(JB):                        0.722\n",
       "Kurtosis:                       2.414   Cond. No.                     3.21e+03\n",
       "==============================================================================\n",
       "\n",
       "Notes:\n",
       "[1] Standard Errors assume that the covariance matrix of the errors is correctly specified.\n",
       "[2] The condition number is large, 3.21e+03. This might indicate that there are\n",
       "strong multicollinearity or other numerical problems.\n",
       "\"\"\""
      ]
     },
     "execution_count": 10,
     "metadata": {},
     "output_type": "execute_result"
    }
   ],
   "source": [
    "results_1.summary()\n"
   ]
  },
  {
   "cell_type": "markdown",
   "id": "e92dee7c",
   "metadata": {},
   "source": [
    "Del resumen anterior podemos notar que\n",
    "$$\n",
    "    \\hat{Y} = 560.49 + 9.63 X_1\n",
    "$$\n",
    "\n",
    "La interpretación del coeficiente asociado a $X_1$ (la publicidad) es que si incrementamos en una unidad $X_1$ (i.e, en un euro el gasto en publicidad), entonces se espera que las ventas aumenten en $9.63$ unidades."
   ]
  },
  {
   "cell_type": "markdown",
   "id": "31254f02",
   "metadata": {},
   "source": [
    "---\n",
    "__Correlación vs regresión__\n",
    "\n",
    "Una pregunta natural es: si ya vimos que las ventas ($Y$) y la publicidad ($X_1$) están asociados linealmente (pues el coeficiente de correlación de Pearson es aprox. 0.7), ¿por qué hacer una regresión lineal?\n",
    "\n",
    "- La correlación (de Pearson) y la regresión son usadas para medir qué tanta relación existe entre variables.\n",
    "- En análisis de regresión mide el efecto que tiene una variable independiente ($X_i$) en la variable dependiente ($Y$), la correlación no.\n",
    "- Con el análisis de regresión es posible realizar predicciones.\n",
    "- En el análisis de regresión se distinguen entre variables dependientes e independientes, $Y$ y $X$, el coeficiente de correlación de Pearson no (pues es simétrico, $r_{XY} = r_{YX}$).\n",
    "- En el análisis de regresión, la relación causal tiene una dirección:\n",
    "$$\n",
    "X \\to Y\\\\\n",
    "\\text{Causa} \\to \\text{Efecto}\n",
    "$$\n",
    "- Correlación no implica causalidad (The phrase \"correlation does not imply causation\" refers to the inability to legitimately deduce a cause-and-effect relationship between two events or variables solely on the basis of an observed association or correlation between them [Correlation does not imply causation](https://en.wikipedia.org/wiki/Correlation_does_not_imply_causation))\n",
    "\n",
    "---"
   ]
  },
  {
   "cell_type": "markdown",
   "id": "dd0ea4ad",
   "metadata": {},
   "source": [
    "Una forma de comparar modelos es a través de la suma de los errores al cuadrado \n",
    "\n",
    "$$\n",
    "SSR = \\sum_i (y_i - \\hat{y}_i)^{2}\n",
    "$$\n",
    "\n",
    "Un modelo con menor $SSR$ (comparado con otro) explica mayor variabilidad en $Y$ usando $X_i$.\n"
   ]
  },
  {
   "cell_type": "code",
   "execution_count": 11,
   "id": "3a375c89",
   "metadata": {},
   "outputs": [
    {
     "data": {
      "text/plain": [
       "271216.5389327144"
      ]
     },
     "execution_count": 11,
     "metadata": {},
     "output_type": "execute_result"
    }
   ],
   "source": [
    "SSR_1 = sum(results_1.resid ** 2)\n",
    "SSR_1\n"
   ]
  },
  {
   "cell_type": "markdown",
   "id": "a0829ac7",
   "metadata": {},
   "source": [
    "Para este modelo $SSR = 271,216$.\n",
    "\n",
    "Podemos considerar otros modelos usando otra variable regresora para explicar la variabilidad en las ventas."
   ]
  },
  {
   "cell_type": "code",
   "execution_count": 12,
   "id": "de2fc4cf",
   "metadata": {},
   "outputs": [],
   "source": [
    "X_2 = data[\"Precio (euros por unidad)\"]\n",
    "X_3 = data[\"Difusión (en miles de euros)\"]\n"
   ]
  },
  {
   "cell_type": "code",
   "execution_count": 13,
   "id": "a93cbd31",
   "metadata": {},
   "outputs": [
    {
     "data": {
      "text/html": [
       "<table class=\"simpletable\">\n",
       "<caption>OLS Regression Results</caption>\n",
       "<tr>\n",
       "  <th>Dep. Variable:</th>    <td>Ventas (en miles de unidades)</td> <th>  R-squared:         </th> <td>   0.002</td>\n",
       "</tr>\n",
       "<tr>\n",
       "  <th>Model:</th>                         <td>OLS</td>              <th>  Adj. R-squared:    </th> <td>  -0.098</td>\n",
       "</tr>\n",
       "<tr>\n",
       "  <th>Method:</th>                   <td>Least Squares</td>         <th>  F-statistic:       </th> <td> 0.02267</td>\n",
       "</tr>\n",
       "<tr>\n",
       "  <th>Date:</th>                   <td>Fri, 05 May 2023</td>        <th>  Prob (F-statistic):</th>  <td> 0.883</td> \n",
       "</tr>\n",
       "<tr>\n",
       "  <th>Time:</th>                       <td>22:44:12</td>            <th>  Log-Likelihood:    </th> <td> -81.975</td>\n",
       "</tr>\n",
       "<tr>\n",
       "  <th>No. Observations:</th>            <td>    12</td>             <th>  AIC:               </th> <td>   167.9</td>\n",
       "</tr>\n",
       "<tr>\n",
       "  <th>Df Residuals:</th>                <td>    10</td>             <th>  BIC:               </th> <td>   168.9</td>\n",
       "</tr>\n",
       "<tr>\n",
       "  <th>Df Model:</th>                    <td>     1</td>             <th>                     </th>     <td> </td>   \n",
       "</tr>\n",
       "<tr>\n",
       "  <th>Covariance Type:</th>            <td>nonrobust</td>           <th>                     </th>     <td> </td>   \n",
       "</tr>\n",
       "</table>\n",
       "<table class=\"simpletable\">\n",
       "<tr>\n",
       "              <td></td>                 <th>coef</th>     <th>std err</th>      <th>t</th>      <th>P>|t|</th>  <th>[0.025</th>    <th>0.975]</th>  \n",
       "</tr>\n",
       "<tr>\n",
       "  <th>const</th>                     <td> 2919.8312</td> <td>  633.314</td> <td>    4.610</td> <td> 0.001</td> <td> 1508.719</td> <td> 4330.943</td>\n",
       "</tr>\n",
       "<tr>\n",
       "  <th>Precio (euros por unidad)</th> <td>  -55.4892</td> <td>  368.571</td> <td>   -0.151</td> <td> 0.883</td> <td> -876.717</td> <td>  765.738</td>\n",
       "</tr>\n",
       "</table>\n",
       "<table class=\"simpletable\">\n",
       "<tr>\n",
       "  <th>Omnibus:</th>       <td> 3.551</td> <th>  Durbin-Watson:     </th> <td>   1.823</td>\n",
       "</tr>\n",
       "<tr>\n",
       "  <th>Prob(Omnibus):</th> <td> 0.169</td> <th>  Jarque-Bera (JB):  </th> <td>   1.144</td>\n",
       "</tr>\n",
       "<tr>\n",
       "  <th>Skew:</th>          <td> 0.146</td> <th>  Prob(JB):          </th> <td>   0.564</td>\n",
       "</tr>\n",
       "<tr>\n",
       "  <th>Kurtosis:</th>      <td> 1.516</td> <th>  Cond. No.          </th> <td>    20.5</td>\n",
       "</tr>\n",
       "</table><br/><br/>Notes:<br/>[1] Standard Errors assume that the covariance matrix of the errors is correctly specified."
      ],
      "text/plain": [
       "<class 'statsmodels.iolib.summary.Summary'>\n",
       "\"\"\"\n",
       "                                  OLS Regression Results                                 \n",
       "=========================================================================================\n",
       "Dep. Variable:     Ventas (en miles de unidades)   R-squared:                       0.002\n",
       "Model:                                       OLS   Adj. R-squared:                 -0.098\n",
       "Method:                            Least Squares   F-statistic:                   0.02267\n",
       "Date:                           Fri, 05 May 2023   Prob (F-statistic):              0.883\n",
       "Time:                                   22:44:12   Log-Likelihood:                -81.975\n",
       "No. Observations:                             12   AIC:                             167.9\n",
       "Df Residuals:                                 10   BIC:                             168.9\n",
       "Df Model:                                      1                                         \n",
       "Covariance Type:                       nonrobust                                         \n",
       "=============================================================================================\n",
       "                                coef    std err          t      P>|t|      [0.025      0.975]\n",
       "---------------------------------------------------------------------------------------------\n",
       "const                      2919.8312    633.314      4.610      0.001    1508.719    4330.943\n",
       "Precio (euros por unidad)   -55.4892    368.571     -0.151      0.883    -876.717     765.738\n",
       "==============================================================================\n",
       "Omnibus:                        3.551   Durbin-Watson:                   1.823\n",
       "Prob(Omnibus):                  0.169   Jarque-Bera (JB):                1.144\n",
       "Skew:                           0.146   Prob(JB):                        0.564\n",
       "Kurtosis:                       1.516   Cond. No.                         20.5\n",
       "==============================================================================\n",
       "\n",
       "Notes:\n",
       "[1] Standard Errors assume that the covariance matrix of the errors is correctly specified.\n",
       "\"\"\""
      ]
     },
     "execution_count": 13,
     "metadata": {},
     "output_type": "execute_result"
    }
   ],
   "source": [
    "results_2 = sm.OLS(Y, sm.add_constant(X_2)).fit()\n",
    "results_2.summary()\n"
   ]
  },
  {
   "cell_type": "code",
   "execution_count": 14,
   "id": "0ec5c0b3",
   "metadata": {},
   "outputs": [
    {
     "data": {
      "text/html": [
       "<table class=\"simpletable\">\n",
       "<caption>OLS Regression Results</caption>\n",
       "<tr>\n",
       "  <th>Dep. Variable:</th>    <td>Ventas (en miles de unidades)</td> <th>  R-squared:         </th> <td>   0.509</td>\n",
       "</tr>\n",
       "<tr>\n",
       "  <th>Model:</th>                         <td>OLS</td>              <th>  Adj. R-squared:    </th> <td>   0.460</td>\n",
       "</tr>\n",
       "<tr>\n",
       "  <th>Method:</th>                   <td>Least Squares</td>         <th>  F-statistic:       </th> <td>   10.36</td>\n",
       "</tr>\n",
       "<tr>\n",
       "  <th>Date:</th>                   <td>Fri, 05 May 2023</td>        <th>  Prob (F-statistic):</th>  <td>0.00920</td>\n",
       "</tr>\n",
       "<tr>\n",
       "  <th>Time:</th>                       <td>22:44:13</td>            <th>  Log-Likelihood:    </th> <td> -77.724</td>\n",
       "</tr>\n",
       "<tr>\n",
       "  <th>No. Observations:</th>            <td>    12</td>             <th>  AIC:               </th> <td>   159.4</td>\n",
       "</tr>\n",
       "<tr>\n",
       "  <th>Df Residuals:</th>                <td>    10</td>             <th>  BIC:               </th> <td>   160.4</td>\n",
       "</tr>\n",
       "<tr>\n",
       "  <th>Df Model:</th>                    <td>     1</td>             <th>                     </th>     <td> </td>   \n",
       "</tr>\n",
       "<tr>\n",
       "  <th>Covariance Type:</th>            <td>nonrobust</td>           <th>                     </th>     <td> </td>   \n",
       "</tr>\n",
       "</table>\n",
       "<table class=\"simpletable\">\n",
       "<tr>\n",
       "                <td></td>                  <th>coef</th>     <th>std err</th>      <th>t</th>      <th>P>|t|</th>  <th>[0.025</th>    <th>0.975]</th>  \n",
       "</tr>\n",
       "<tr>\n",
       "  <th>const</th>                        <td> 2400.0668</td> <td>  141.124</td> <td>   17.007</td> <td> 0.000</td> <td> 2085.623</td> <td> 2714.511</td>\n",
       "</tr>\n",
       "<tr>\n",
       "  <th>Difusión (en miles de euros)</th> <td>    2.7172</td> <td>    0.844</td> <td>    3.218</td> <td> 0.009</td> <td>    0.836</td> <td>    4.599</td>\n",
       "</tr>\n",
       "</table>\n",
       "<table class=\"simpletable\">\n",
       "<tr>\n",
       "  <th>Omnibus:</th>       <td> 2.060</td> <th>  Durbin-Watson:     </th> <td>   1.525</td>\n",
       "</tr>\n",
       "<tr>\n",
       "  <th>Prob(Omnibus):</th> <td> 0.357</td> <th>  Jarque-Bera (JB):  </th> <td>   0.891</td>\n",
       "</tr>\n",
       "<tr>\n",
       "  <th>Skew:</th>          <td>-0.041</td> <th>  Prob(JB):          </th> <td>   0.641</td>\n",
       "</tr>\n",
       "<tr>\n",
       "  <th>Kurtosis:</th>      <td> 1.668</td> <th>  Cond. No.          </th> <td>    474.</td>\n",
       "</tr>\n",
       "</table><br/><br/>Notes:<br/>[1] Standard Errors assume that the covariance matrix of the errors is correctly specified."
      ],
      "text/plain": [
       "<class 'statsmodels.iolib.summary.Summary'>\n",
       "\"\"\"\n",
       "                                  OLS Regression Results                                 \n",
       "=========================================================================================\n",
       "Dep. Variable:     Ventas (en miles de unidades)   R-squared:                       0.509\n",
       "Model:                                       OLS   Adj. R-squared:                  0.460\n",
       "Method:                            Least Squares   F-statistic:                     10.36\n",
       "Date:                           Fri, 05 May 2023   Prob (F-statistic):            0.00920\n",
       "Time:                                   22:44:13   Log-Likelihood:                -77.724\n",
       "No. Observations:                             12   AIC:                             159.4\n",
       "Df Residuals:                                 10   BIC:                             160.4\n",
       "Df Model:                                      1                                         \n",
       "Covariance Type:                       nonrobust                                         \n",
       "================================================================================================\n",
       "                                   coef    std err          t      P>|t|      [0.025      0.975]\n",
       "------------------------------------------------------------------------------------------------\n",
       "const                         2400.0668    141.124     17.007      0.000    2085.623    2714.511\n",
       "Difusión (en miles de euros)     2.7172      0.844      3.218      0.009       0.836       4.599\n",
       "==============================================================================\n",
       "Omnibus:                        2.060   Durbin-Watson:                   1.525\n",
       "Prob(Omnibus):                  0.357   Jarque-Bera (JB):                0.891\n",
       "Skew:                          -0.041   Prob(JB):                        0.641\n",
       "Kurtosis:                       1.668   Cond. No.                         474.\n",
       "==============================================================================\n",
       "\n",
       "Notes:\n",
       "[1] Standard Errors assume that the covariance matrix of the errors is correctly specified.\n",
       "\"\"\""
      ]
     },
     "execution_count": 14,
     "metadata": {},
     "output_type": "execute_result"
    }
   ],
   "source": [
    "results_3 = sm.OLS(Y, sm.add_constant(X_3)).fit()\n",
    "results_3.summary()\n"
   ]
  },
  {
   "cell_type": "markdown",
   "id": "d5d6aceb",
   "metadata": {},
   "source": [
    "De donde\n",
    "\n",
    "$$\n",
    "    \\hat{Y} = 560 + 9.63 X_1 \\\\\n",
    "    \\hat{Y} = 2920 - 55.5 X_2 \\\\\n",
    "    \\hat{Y} = 2400 + 2.72 X_3\n",
    "$$\n",
    "\n",
    "con $X_1$: publicidad, $X_2$: precio, $X_3$: difusión.\n",
    "\n",
    "El problema con hacer esto es que, dados los valores de los regresores, cada ecuación da un valor distinto para las ventas estimadas. ¿A cuál le hacemos caso?\n",
    "\n",
    "La solución es considerar las variables de manera simultánea dentro del modelo (i.e hacer regresión múltiple), por lo que hay que cambiar la forma de $f$."
   ]
  },
  {
   "cell_type": "markdown",
   "id": "e9e500fb",
   "metadata": {},
   "source": [
    "Como en el caso simple, el primer paso es calcular la matriz de correlación."
   ]
  },
  {
   "cell_type": "code",
   "execution_count": 15,
   "id": "b14db0af",
   "metadata": {},
   "outputs": [],
   "source": [
    "corr_mat = data.drop(columns=\"Periodo (por 3 meses)\").corr()\n"
   ]
  },
  {
   "cell_type": "code",
   "execution_count": 16,
   "id": "b8cbb734",
   "metadata": {},
   "outputs": [
    {
     "data": {
      "text/html": [
       "<div>\n",
       "<style scoped>\n",
       "    .dataframe tbody tr th:only-of-type {\n",
       "        vertical-align: middle;\n",
       "    }\n",
       "\n",
       "    .dataframe tbody tr th {\n",
       "        vertical-align: top;\n",
       "    }\n",
       "\n",
       "    .dataframe thead th {\n",
       "        text-align: right;\n",
       "    }\n",
       "</style>\n",
       "<table border=\"1\" class=\"dataframe\">\n",
       "  <thead>\n",
       "    <tr style=\"text-align: right;\">\n",
       "      <th></th>\n",
       "      <th>Ventas (en miles de unidades)</th>\n",
       "      <th>Publicidad (en miles de euros)</th>\n",
       "      <th>Precio (euros por unidad)</th>\n",
       "      <th>Difusión (en miles de euros)</th>\n",
       "    </tr>\n",
       "  </thead>\n",
       "  <tbody>\n",
       "    <tr>\n",
       "      <th>Ventas (en miles de unidades)</th>\n",
       "      <td>1.000000</td>\n",
       "      <td>0.742410</td>\n",
       "      <td>-0.047555</td>\n",
       "      <td>0.713270</td>\n",
       "    </tr>\n",
       "    <tr>\n",
       "      <th>Publicidad (en miles de euros)</th>\n",
       "      <td>0.742410</td>\n",
       "      <td>1.000000</td>\n",
       "      <td>0.155163</td>\n",
       "      <td>0.289812</td>\n",
       "    </tr>\n",
       "    <tr>\n",
       "      <th>Precio (euros por unidad)</th>\n",
       "      <td>-0.047555</td>\n",
       "      <td>0.155163</td>\n",
       "      <td>1.000000</td>\n",
       "      <td>0.298821</td>\n",
       "    </tr>\n",
       "    <tr>\n",
       "      <th>Difusión (en miles de euros)</th>\n",
       "      <td>0.713270</td>\n",
       "      <td>0.289812</td>\n",
       "      <td>0.298821</td>\n",
       "      <td>1.000000</td>\n",
       "    </tr>\n",
       "  </tbody>\n",
       "</table>\n",
       "</div>"
      ],
      "text/plain": [
       "                                Ventas (en miles de unidades)  \\\n",
       "Ventas (en miles de unidades)                        1.000000   \n",
       "Publicidad (en miles de euros)                       0.742410   \n",
       "Precio (euros por unidad)                           -0.047555   \n",
       "Difusión (en miles de euros)                         0.713270   \n",
       "\n",
       "                                Publicidad (en miles de euros)  \\\n",
       "Ventas (en miles de unidades)                         0.742410   \n",
       "Publicidad (en miles de euros)                        1.000000   \n",
       "Precio (euros por unidad)                             0.155163   \n",
       "Difusión (en miles de euros)                          0.289812   \n",
       "\n",
       "                                Precio (euros por unidad)  \\\n",
       "Ventas (en miles de unidades)                   -0.047555   \n",
       "Publicidad (en miles de euros)                   0.155163   \n",
       "Precio (euros por unidad)                        1.000000   \n",
       "Difusión (en miles de euros)                     0.298821   \n",
       "\n",
       "                                Difusión (en miles de euros)  \n",
       "Ventas (en miles de unidades)                       0.713270  \n",
       "Publicidad (en miles de euros)                      0.289812  \n",
       "Precio (euros por unidad)                           0.298821  \n",
       "Difusión (en miles de euros)                        1.000000  "
      ]
     },
     "execution_count": 16,
     "metadata": {},
     "output_type": "execute_result"
    }
   ],
   "source": [
    "corr_mat\n"
   ]
  },
  {
   "cell_type": "markdown",
   "id": "4270300a",
   "metadata": {},
   "source": [
    "De lo anterior podemos notar que:\n",
    "\n",
    "1. La correación entre las ventas y la publicidad es (aprox) $0.74$.\n",
    "2. La correación entre las ventas y el precio es (aprox) $-0.048$.\n",
    "2. La correación entre las ventas y la difusión es (aprox) $0.713$.\n",
    "\n",
    "\n",
    "Con la información anterior podríamos, por ejemplo, ajustar un modelo considerando las ventas $Y$, la publicidad $X_1$ y el precio $X_2$, o cualquier conbinación de las 3 co-variables."
   ]
  },
  {
   "cell_type": "code",
   "execution_count": 17,
   "id": "70d21843",
   "metadata": {},
   "outputs": [
    {
     "data": {
      "text/plain": [
       "0     203\n",
       "1     216\n",
       "2     207\n",
       "3     250\n",
       "4     240\n",
       "5     226\n",
       "6     246\n",
       "7     250\n",
       "8     235\n",
       "9     256\n",
       "10    242\n",
       "11    251\n",
       "Name: Publicidad (en miles de euros), dtype: int64"
      ]
     },
     "execution_count": 17,
     "metadata": {},
     "output_type": "execute_result"
    }
   ],
   "source": [
    "X_1\n"
   ]
  },
  {
   "cell_type": "code",
   "execution_count": 18,
   "id": "dea3c77a",
   "metadata": {},
   "outputs": [
    {
     "data": {
      "text/plain": [
       "0     1.42\n",
       "1     1.41\n",
       "2     1.95\n",
       "3     1.99\n",
       "4     1.63\n",
       "5     1.82\n",
       "6     1.69\n",
       "7     1.65\n",
       "8     1.99\n",
       "9     1.53\n",
       "10    1.69\n",
       "11    1.72\n",
       "Name: Precio (euros por unidad), dtype: float64"
      ]
     },
     "execution_count": 18,
     "metadata": {},
     "output_type": "execute_result"
    }
   ],
   "source": [
    "X_2\n"
   ]
  },
  {
   "cell_type": "code",
   "execution_count": 19,
   "id": "1237d9c9",
   "metadata": {},
   "outputs": [
    {
     "data": {
      "text/plain": [
       "(12, 2)"
      ]
     },
     "execution_count": 19,
     "metadata": {},
     "output_type": "execute_result"
    }
   ],
   "source": [
    "X_12 = np.asmatrix([X_1, X_2]).T\n",
    "X_12.shape\n"
   ]
  },
  {
   "cell_type": "code",
   "execution_count": 20,
   "id": "37c0b389",
   "metadata": {},
   "outputs": [
    {
     "data": {
      "text/html": [
       "<table class=\"simpletable\">\n",
       "<caption>GLS Regression Results</caption>\n",
       "<tr>\n",
       "  <th>Dep. Variable:</th>    <td>Ventas (en miles de unidades)</td> <th>  R-squared:         </th> <td>   0.578</td>\n",
       "</tr>\n",
       "<tr>\n",
       "  <th>Model:</th>                         <td>GLS</td>              <th>  Adj. R-squared:    </th> <td>   0.485</td>\n",
       "</tr>\n",
       "<tr>\n",
       "  <th>Method:</th>                   <td>Least Squares</td>         <th>  F-statistic:       </th> <td>   6.171</td>\n",
       "</tr>\n",
       "<tr>\n",
       "  <th>Date:</th>                   <td>Fri, 05 May 2023</td>        <th>  Prob (F-statistic):</th>  <td>0.0205</td> \n",
       "</tr>\n",
       "<tr>\n",
       "  <th>Time:</th>                       <td>22:44:13</td>            <th>  Log-Likelihood:    </th> <td> -76.808</td>\n",
       "</tr>\n",
       "<tr>\n",
       "  <th>No. Observations:</th>            <td>    12</td>             <th>  AIC:               </th> <td>   159.6</td>\n",
       "</tr>\n",
       "<tr>\n",
       "  <th>Df Residuals:</th>                <td>     9</td>             <th>  BIC:               </th> <td>   161.1</td>\n",
       "</tr>\n",
       "<tr>\n",
       "  <th>Df Model:</th>                    <td>     2</td>             <th>                     </th>     <td> </td>   \n",
       "</tr>\n",
       "<tr>\n",
       "  <th>Covariance Type:</th>            <td>nonrobust</td>           <th>                     </th>     <td> </td>   \n",
       "</tr>\n",
       "</table>\n",
       "<table class=\"simpletable\">\n",
       "<tr>\n",
       "    <td></td>       <th>coef</th>     <th>std err</th>      <th>t</th>      <th>P>|t|</th>  <th>[0.025</th>    <th>0.975]</th>  \n",
       "</tr>\n",
       "<tr>\n",
       "  <th>const</th> <td>  813.8182</td> <td>  741.014</td> <td>    1.098</td> <td> 0.301</td> <td> -862.471</td> <td> 2490.108</td>\n",
       "</tr>\n",
       "<tr>\n",
       "  <th>x1</th>    <td>    9.9654</td> <td>    2.842</td> <td>    3.506</td> <td> 0.007</td> <td>    3.536</td> <td>   16.395</td>\n",
       "</tr>\n",
       "<tr>\n",
       "  <th>x2</th>    <td> -194.5880</td> <td>  255.669</td> <td>   -0.761</td> <td> 0.466</td> <td> -772.951</td> <td>  383.775</td>\n",
       "</tr>\n",
       "</table>\n",
       "<table class=\"simpletable\">\n",
       "<tr>\n",
       "  <th>Omnibus:</th>       <td> 1.331</td> <th>  Durbin-Watson:     </th> <td>   1.875</td>\n",
       "</tr>\n",
       "<tr>\n",
       "  <th>Prob(Omnibus):</th> <td> 0.514</td> <th>  Jarque-Bera (JB):  </th> <td>   0.819</td>\n",
       "</tr>\n",
       "<tr>\n",
       "  <th>Skew:</th>          <td>-0.605</td> <th>  Prob(JB):          </th> <td>   0.664</td>\n",
       "</tr>\n",
       "<tr>\n",
       "  <th>Kurtosis:</th>      <td> 2.581</td> <th>  Cond. No.          </th> <td>3.64e+03</td>\n",
       "</tr>\n",
       "</table><br/><br/>Notes:<br/>[1] Standard Errors assume that the covariance matrix of the errors is correctly specified.<br/>[2] The condition number is large, 3.64e+03. This might indicate that there are<br/>strong multicollinearity or other numerical problems."
      ],
      "text/plain": [
       "<class 'statsmodels.iolib.summary.Summary'>\n",
       "\"\"\"\n",
       "                                  GLS Regression Results                                 \n",
       "=========================================================================================\n",
       "Dep. Variable:     Ventas (en miles de unidades)   R-squared:                       0.578\n",
       "Model:                                       GLS   Adj. R-squared:                  0.485\n",
       "Method:                            Least Squares   F-statistic:                     6.171\n",
       "Date:                           Fri, 05 May 2023   Prob (F-statistic):             0.0205\n",
       "Time:                                   22:44:13   Log-Likelihood:                -76.808\n",
       "No. Observations:                             12   AIC:                             159.6\n",
       "Df Residuals:                                  9   BIC:                             161.1\n",
       "Df Model:                                      2                                         \n",
       "Covariance Type:                       nonrobust                                         \n",
       "==============================================================================\n",
       "                 coef    std err          t      P>|t|      [0.025      0.975]\n",
       "------------------------------------------------------------------------------\n",
       "const        813.8182    741.014      1.098      0.301    -862.471    2490.108\n",
       "x1             9.9654      2.842      3.506      0.007       3.536      16.395\n",
       "x2          -194.5880    255.669     -0.761      0.466    -772.951     383.775\n",
       "==============================================================================\n",
       "Omnibus:                        1.331   Durbin-Watson:                   1.875\n",
       "Prob(Omnibus):                  0.514   Jarque-Bera (JB):                0.819\n",
       "Skew:                          -0.605   Prob(JB):                        0.664\n",
       "Kurtosis:                       2.581   Cond. No.                     3.64e+03\n",
       "==============================================================================\n",
       "\n",
       "Notes:\n",
       "[1] Standard Errors assume that the covariance matrix of the errors is correctly specified.\n",
       "[2] The condition number is large, 3.64e+03. This might indicate that there are\n",
       "strong multicollinearity or other numerical problems.\n",
       "\"\"\""
      ]
     },
     "execution_count": 20,
     "metadata": {},
     "output_type": "execute_result"
    }
   ],
   "source": [
    "results_4 = sm.GLS(Y, sm.add_constant(X_12)).fit()\n",
    "results_4.summary()\n"
   ]
  },
  {
   "cell_type": "markdown",
   "id": "da7cb9f8",
   "metadata": {},
   "source": [
    "De donde obtenemos que\n",
    "\n",
    "$$\n",
    "\\hat{Y} = 814 + 9.97 X_1 - 194.6 X_2\n",
    "$$\n",
    "\n",
    "1. El modelo ya no es una recta, es un plano.\n",
    "2. Que el coeficiente de $X_2$ (el precio) sea negativo refleja el hecho de que si el precio aumenta, las ventas (pueden) disminuyen.\n",
    "3. La magnitud de los coeficientes no está relacionada con la importancia de esa variable al explicar $Y$.\n",
    "\n",
    "Para poder comparar los coeficientes primero hay que estandarizarlos [Standardized coefficient](https://en.wikipedia.org/wiki/Standardized_coefficient).\n",
    "\n",
    "$$\\beta^{st}_j = \\beta_j \\frac{s_{x_j}}{s_y}$$\n",
    "\n",
    "donde $s$ indica desviación estándar."
   ]
  },
  {
   "cell_type": "code",
   "execution_count": 21,
   "id": "2bdbe6a8",
   "metadata": {},
   "outputs": [
    {
     "data": {
      "text/plain": [
       "18.069730255738506"
      ]
     },
     "execution_count": 21,
     "metadata": {},
     "output_type": "execute_result"
    }
   ],
   "source": [
    "s_x1 = X_1.std()\n",
    "s_x1\n"
   ]
  },
  {
   "cell_type": "code",
   "execution_count": 22,
   "id": "135dc348",
   "metadata": {},
   "outputs": [
    {
     "data": {
      "text/plain": [
       "0.20086743706416746"
      ]
     },
     "execution_count": 22,
     "metadata": {},
     "output_type": "execute_result"
    }
   ],
   "source": [
    "s_x2 = X_2.std()\n",
    "s_x2\n"
   ]
  },
  {
   "cell_type": "code",
   "execution_count": 23,
   "id": "c4899432",
   "metadata": {},
   "outputs": [
    {
     "data": {
      "text/plain": [
       "234.3809867922246"
      ]
     },
     "execution_count": 23,
     "metadata": {},
     "output_type": "execute_result"
    }
   ],
   "source": [
    "s_y = Y.std()\n",
    "s_y\n"
   ]
  },
  {
   "cell_type": "markdown",
   "id": "d35bb4fa",
   "metadata": {},
   "source": [
    "Los coeficientes estandarizados son\n",
    "\n",
    "$$\n",
    "\\beta_1^{st} = (9.97) \\frac{18.07}{234.38} = 0.768 \\\\\n",
    "\\beta_2^{st} = (-194.6) \\frac{0.201}{234.38} = -0.167 \\\\\n",
    "$$\n",
    "\n",
    "- Los beta's estandarizados son usados como una medida de la importancia de la variables.\n",
    "- Los beta's estandarizados son los coeficientes de la regresión al ajustar el modelo con las variables estandarizadas."
   ]
  },
  {
   "cell_type": "markdown",
   "id": "591cc207",
   "metadata": {},
   "source": [
    "Podemos observar que la publicidad es más importante, i.e, tiene mayor influencia (al explicar la variabilidad en las ventas) que el precio del producto."
   ]
  },
  {
   "cell_type": "code",
   "execution_count": 24,
   "id": "c318c2bf",
   "metadata": {},
   "outputs": [
    {
     "data": {
      "text/plain": [
       "254815.93272616263"
      ]
     },
     "execution_count": 24,
     "metadata": {},
     "output_type": "execute_result"
    }
   ],
   "source": [
    "# SSR con publicidad y precio.\n",
    "SSR_4 = sum(results_4.resid ** 2)\n",
    "SSR_4\n"
   ]
  },
  {
   "cell_type": "markdown",
   "id": "01ecf070",
   "metadata": {},
   "source": [
    "Ahora vamos a ajustar el modelo usando las 3 variables explicativas que tenemos."
   ]
  },
  {
   "cell_type": "code",
   "execution_count": 25,
   "id": "041c4fca",
   "metadata": {},
   "outputs": [
    {
     "data": {
      "text/plain": [
       "(12, 3)"
      ]
     },
     "execution_count": 25,
     "metadata": {},
     "output_type": "execute_result"
    }
   ],
   "source": [
    "X_123 = np.asmatrix([X_1, X_2, X_3]).T\n",
    "X_123.shape\n"
   ]
  },
  {
   "cell_type": "code",
   "execution_count": 26,
   "id": "f92838ee",
   "metadata": {},
   "outputs": [
    {
     "data": {
      "text/html": [
       "<table class=\"simpletable\">\n",
       "<caption>GLS Regression Results</caption>\n",
       "<tr>\n",
       "  <th>Dep. Variable:</th>    <td>Ventas (en miles de unidades)</td> <th>  R-squared:         </th> <td>   0.922</td>\n",
       "</tr>\n",
       "<tr>\n",
       "  <th>Model:</th>                         <td>GLS</td>              <th>  Adj. R-squared:    </th> <td>   0.893</td>\n",
       "</tr>\n",
       "<tr>\n",
       "  <th>Method:</th>                   <td>Least Squares</td>         <th>  F-statistic:       </th> <td>   31.50</td>\n",
       "</tr>\n",
       "<tr>\n",
       "  <th>Date:</th>                   <td>Fri, 05 May 2023</td>        <th>  Prob (F-statistic):</th> <td>8.84e-05</td>\n",
       "</tr>\n",
       "<tr>\n",
       "  <th>Time:</th>                       <td>22:44:13</td>            <th>  Log-Likelihood:    </th> <td> -66.686</td>\n",
       "</tr>\n",
       "<tr>\n",
       "  <th>No. Observations:</th>            <td>    12</td>             <th>  AIC:               </th> <td>   141.4</td>\n",
       "</tr>\n",
       "<tr>\n",
       "  <th>Df Residuals:</th>                <td>     8</td>             <th>  BIC:               </th> <td>   143.3</td>\n",
       "</tr>\n",
       "<tr>\n",
       "  <th>Df Model:</th>                    <td>     3</td>             <th>                     </th>     <td> </td>   \n",
       "</tr>\n",
       "<tr>\n",
       "  <th>Covariance Type:</th>            <td>nonrobust</td>           <th>                     </th>     <td> </td>   \n",
       "</tr>\n",
       "</table>\n",
       "<table class=\"simpletable\">\n",
       "<tr>\n",
       "    <td></td>       <th>coef</th>     <th>std err</th>      <th>t</th>      <th>P>|t|</th>  <th>[0.025</th>    <th>0.975]</th>  \n",
       "</tr>\n",
       "<tr>\n",
       "  <th>const</th> <td> 1248.2760</td> <td>  345.981</td> <td>    3.608</td> <td> 0.007</td> <td>  450.443</td> <td> 2046.109</td>\n",
       "</tr>\n",
       "<tr>\n",
       "  <th>x1</th>    <td>    7.9081</td> <td>    1.342</td> <td>    5.891</td> <td> 0.000</td> <td>    4.812</td> <td>   11.004</td>\n",
       "</tr>\n",
       "<tr>\n",
       "  <th>x2</th>    <td> -387.5722</td> <td>  121.116</td> <td>   -3.200</td> <td> 0.013</td> <td> -666.867</td> <td> -108.277</td>\n",
       "</tr>\n",
       "<tr>\n",
       "  <th>x3</th>    <td>    2.4222</td> <td>    0.408</td> <td>    5.935</td> <td> 0.000</td> <td>    1.481</td> <td>    3.363</td>\n",
       "</tr>\n",
       "</table>\n",
       "<table class=\"simpletable\">\n",
       "<tr>\n",
       "  <th>Omnibus:</th>       <td> 1.924</td> <th>  Durbin-Watson:     </th> <td>   2.071</td>\n",
       "</tr>\n",
       "<tr>\n",
       "  <th>Prob(Omnibus):</th> <td> 0.382</td> <th>  Jarque-Bera (JB):  </th> <td>   0.898</td>\n",
       "</tr>\n",
       "<tr>\n",
       "  <th>Skew:</th>          <td>-0.160</td> <th>  Prob(JB):          </th> <td>   0.638</td>\n",
       "</tr>\n",
       "<tr>\n",
       "  <th>Kurtosis:</th>      <td> 1.698</td> <th>  Cond. No.          </th> <td>4.52e+03</td>\n",
       "</tr>\n",
       "</table><br/><br/>Notes:<br/>[1] Standard Errors assume that the covariance matrix of the errors is correctly specified.<br/>[2] The condition number is large, 4.52e+03. This might indicate that there are<br/>strong multicollinearity or other numerical problems."
      ],
      "text/plain": [
       "<class 'statsmodels.iolib.summary.Summary'>\n",
       "\"\"\"\n",
       "                                  GLS Regression Results                                 \n",
       "=========================================================================================\n",
       "Dep. Variable:     Ventas (en miles de unidades)   R-squared:                       0.922\n",
       "Model:                                       GLS   Adj. R-squared:                  0.893\n",
       "Method:                            Least Squares   F-statistic:                     31.50\n",
       "Date:                           Fri, 05 May 2023   Prob (F-statistic):           8.84e-05\n",
       "Time:                                   22:44:13   Log-Likelihood:                -66.686\n",
       "No. Observations:                             12   AIC:                             141.4\n",
       "Df Residuals:                                  8   BIC:                             143.3\n",
       "Df Model:                                      3                                         \n",
       "Covariance Type:                       nonrobust                                         \n",
       "==============================================================================\n",
       "                 coef    std err          t      P>|t|      [0.025      0.975]\n",
       "------------------------------------------------------------------------------\n",
       "const       1248.2760    345.981      3.608      0.007     450.443    2046.109\n",
       "x1             7.9081      1.342      5.891      0.000       4.812      11.004\n",
       "x2          -387.5722    121.116     -3.200      0.013    -666.867    -108.277\n",
       "x3             2.4222      0.408      5.935      0.000       1.481       3.363\n",
       "==============================================================================\n",
       "Omnibus:                        1.924   Durbin-Watson:                   2.071\n",
       "Prob(Omnibus):                  0.382   Jarque-Bera (JB):                0.898\n",
       "Skew:                          -0.160   Prob(JB):                        0.638\n",
       "Kurtosis:                       1.698   Cond. No.                     4.52e+03\n",
       "==============================================================================\n",
       "\n",
       "Notes:\n",
       "[1] Standard Errors assume that the covariance matrix of the errors is correctly specified.\n",
       "[2] The condition number is large, 4.52e+03. This might indicate that there are\n",
       "strong multicollinearity or other numerical problems.\n",
       "\"\"\""
      ]
     },
     "execution_count": 26,
     "metadata": {},
     "output_type": "execute_result"
    }
   ],
   "source": [
    "results_5 = sm.GLS(Y, sm.add_constant(X_123)).fit()\n",
    "results_5.summary()\n"
   ]
  },
  {
   "cell_type": "markdown",
   "id": "5f846949",
   "metadata": {},
   "source": [
    "Podemos ver que\n",
    "\n",
    "$$\n",
    "\\hat{Y} = 1248 + 7.91 X_1 + -387-6 X_2 + 2.42 X_3\n",
    "$$\n",
    "\n",
    "Para medir la importancia de las variables sobre $Y$ hay que calcular las beta's estandarizadas.\n",
    "\n",
    "$$\n",
    "\\beta_1^{st} = 0.610\\\\\n",
    "\\beta_2^{st} = -0.332\\\\\n",
    "\\beta_3^{st} = 0.636\n",
    "$$"
   ]
  },
  {
   "cell_type": "code",
   "execution_count": 27,
   "id": "131c9633",
   "metadata": {},
   "outputs": [
    {
     "data": {
      "text/plain": [
       "47166.36496770067"
      ]
     },
     "execution_count": 27,
     "metadata": {},
     "output_type": "execute_result"
    }
   ],
   "source": [
    "# SSR con todas las variables\n",
    "SSR_5 = sum(results_5.resid ** 2)\n",
    "SSR_5\n"
   ]
  },
  {
   "cell_type": "markdown",
   "id": "fd97329f",
   "metadata": {},
   "source": [
    "Podemos observar que al incluir más variables $SSR$ disminuye:\n",
    "\n",
    "1. Usando publicidad: $SSR=271,216.53$ \n",
    "2. Usando publicidad y precio: $SSR = 254,815.93$\n",
    "3. Usando publicidad, precio y difusión: $SSR = 47,166.36$.\n",
    "\n",
    "Como el $SSR$ nos ayuda a comparar modelos, podemos concluir que el tercer modelo explica mejor la variabilidad de las ventas."
   ]
  },
  {
   "cell_type": "markdown",
   "id": "89edf4e6",
   "metadata": {},
   "source": [
    "## 3. Verificación de la regresión\n",
    "\n",
    "Una vez ajustado el modelo (i.e, estimados los parámetros), hay que verificar la bondad o calidad del modelo.\n",
    "\n",
    "Como ya se dijo, para comparar distintos modelos (y determinar cuál es mejor) podemos usar $SSR$. Sin embargo, esta medida no nos ayuda a decidir si un único modelo es bueno o malo, o qué tan bueno o qué tan malo.\n",
    "\n",
    "Para medir la bondad del ajuste de un modelo podemos usar:\n",
    "\n",
    "1. Error estándar de la regresión.\n",
    "2. Coeficiente de determinación.\n",
    "3. Estadística $F$ y su $p_{\\text{val}}$.\n",
    "4. Coeficiente de determinación ajustado.\n",
    "---\n",
    "\n",
    "1. __Error estándar__.\n",
    "\n",
    "El error estándar mide qué tan cercanas son las observaciones observadas de las esperadas. Se calcula como la desviación estándar de los residuales:\n",
    "\n",
    "$$\n",
    "SE = \\sqrt{\\frac{SSR}{n-k-1}}\n",
    "$$\n",
    "\n",
    "$n-k-1$ son los grados de libertad del modelo (i.e número de observaciones menos número de parámetros estimados).\n",
    "\n",
    "Para nuestros modelos:"
   ]
  },
  {
   "cell_type": "code",
   "execution_count": 28,
   "id": "2398ec4c",
   "metadata": {},
   "outputs": [
    {
     "data": {
      "text/plain": [
       "164.68653221581732"
      ]
     },
     "execution_count": 28,
     "metadata": {},
     "output_type": "execute_result"
    }
   ],
   "source": [
    "# Usando únicamente publicidad\n",
    "SE_1 = np.sqrt(SSR_1 / (data.shape[0] - 1 - 1 ))\n",
    "SE_1\n"
   ]
  },
  {
   "cell_type": "code",
   "execution_count": 29,
   "id": "294af3fd",
   "metadata": {},
   "outputs": [
    {
     "data": {
      "text/plain": [
       "168.2643200860422"
      ]
     },
     "execution_count": 29,
     "metadata": {},
     "output_type": "execute_result"
    }
   ],
   "source": [
    "# Usando publicidad y precio\n",
    "SE_4 = np.sqrt(SSR_4 / (data.shape[0] - X_12.shape[1] - 1 ))\n",
    "SE_4\n"
   ]
  },
  {
   "cell_type": "code",
   "execution_count": 30,
   "id": "2f93e084",
   "metadata": {},
   "outputs": [
    {
     "data": {
      "text/plain": [
       "76.78408442485059"
      ]
     },
     "execution_count": 30,
     "metadata": {},
     "output_type": "execute_result"
    }
   ],
   "source": [
    "# Usando publicidad, precio y difusión\n",
    "SE_5 = np.sqrt(SSR_5 / (data.shape[0] - X_123.shape[1] - 1 ))\n",
    "SE_5\n"
   ]
  },
  {
   "cell_type": "markdown",
   "id": "30dc58a0",
   "metadata": {},
   "source": [
    "Lo usual es obtener estos valores normalizados (divididos por $\\bar{y}$) y en porcentaje."
   ]
  },
  {
   "cell_type": "code",
   "execution_count": 31,
   "id": "8d5798d5",
   "metadata": {},
   "outputs": [
    {
     "data": {
      "text/plain": [
       "5.829439799975835"
      ]
     },
     "execution_count": 31,
     "metadata": {},
     "output_type": "execute_result"
    }
   ],
   "source": [
    "(SE_1 / Y.mean()) * 100\n"
   ]
  },
  {
   "cell_type": "code",
   "execution_count": 32,
   "id": "32014149",
   "metadata": {},
   "outputs": [
    {
     "data": {
      "text/plain": [
       "5.956083422413812"
      ]
     },
     "execution_count": 32,
     "metadata": {},
     "output_type": "execute_result"
    }
   ],
   "source": [
    "(SE_4 / Y.mean()) * 100\n"
   ]
  },
  {
   "cell_type": "code",
   "execution_count": 33,
   "id": "e627a3cb",
   "metadata": {},
   "outputs": [
    {
     "data": {
      "text/plain": [
       "2.7179405123689775"
      ]
     },
     "execution_count": 33,
     "metadata": {},
     "output_type": "execute_result"
    }
   ],
   "source": [
    "(SE_5 / Y.mean()) * 100\n"
   ]
  },
  {
   "cell_type": "markdown",
   "id": "a885688c",
   "metadata": {},
   "source": [
    "Podemos notar que el modelo 1 (usando publicidad) presenta menor error estándar que el modelo 4 (usando publicidad y precio), por lo que el modelo 1 es mejor, en términos de precisión. El modelo 4 es mejor en términos de que explica más variabilidad total en $Y$ (menor $SST$) que el modelo 1, pero tiene menor precisión (mayor $SE$)."
   ]
  },
  {
   "cell_type": "markdown",
   "id": "b6d25756",
   "metadata": {},
   "source": [
    "2. __Coeficiente de determinación__\n",
    "\n",
    "Otra medida de la bondad del ajuste es el _coeficiente de determinación_, $R^2$, definido por\n",
    "\n",
    "$$\n",
    "R^{2}(\\underline{X},\\underline{Y}) = \\frac{SSE}{SST} = 1 - \\frac{SSR}{SST}, \\hspace{0.8cm} 0\\leq R^2 \\leq 1\n",
    "$$\n",
    "\n",
    "con \n",
    "\n",
    "$SST = \\sum (y_i - \\bar{y})^{2}$: Variación total\n",
    "\n",
    "$SSE = \\sum (\\hat{y}_i - \\bar{y})^{2}$: Variación explicada por el modelo\n",
    "\n",
    "$SSR = \\sum (y_i - \\hat{y}_i)^{2}$: Variación que no es explicada por el modelo\n",
    "\n",
    "Para el modelo de regresión lineal simple, también se puede calcular como la correlación entre $Y$ y $X$ al cuadrado,\n",
    "\n",
    "$$\n",
    "R^{2} = r_{YX}^{2}\n",
    "$$\n",
    "\n",
    "Para el modelo de regresión múltiple, también se puede calcular como la correlación entre $Y$ e $\\hat{Y}$ al cuadrado,\n",
    "\n",
    "$$\n",
    "R^{2} = r_{Y\\hat{Y}}^{2}\n",
    "$$\n",
    "\n",
    "En este caso, $r_{Y\\hat{Y}}$ es llamada _correlación múltiple_.\n",
    "\n",
    "##### Interpretación\n",
    "\n",
    "El coeficiente de determinación puede ser interpretado como _la proporción de variabilidad total en $Y$ que es explicada por los regresores_.\n",
    "\n",
    "---\n",
    "\n",
    "Para nuestros modelos:"
   ]
  },
  {
   "cell_type": "code",
   "execution_count": 34,
   "id": "c84c64a8",
   "metadata": {},
   "outputs": [
    {
     "data": {
      "text/plain": [
       "0.5511732555078976"
      ]
     },
     "execution_count": 34,
     "metadata": {},
     "output_type": "execute_result"
    }
   ],
   "source": [
    "# Usando únicamente publicidad\n",
    "results_1.rsquared\n"
   ]
  },
  {
   "cell_type": "code",
   "execution_count": 35,
   "id": "8d7564cb",
   "metadata": {},
   "outputs": [
    {
     "data": {
      "text/plain": [
       "0.578314043899161"
      ]
     },
     "execution_count": 35,
     "metadata": {},
     "output_type": "execute_result"
    }
   ],
   "source": [
    "# Usando publicidad y precio\n",
    "results_4.rsquared\n"
   ]
  },
  {
   "cell_type": "code",
   "execution_count": 36,
   "id": "bb1e2eff",
   "metadata": {},
   "outputs": [
    {
     "data": {
      "text/plain": [
       "0.9219460357348217"
      ]
     },
     "execution_count": 36,
     "metadata": {},
     "output_type": "execute_result"
    }
   ],
   "source": [
    "# Usando publicidad, precio y difusión\n",
    "results_5.rsquared\n"
   ]
  },
  {
   "cell_type": "markdown",
   "id": "9e23d208",
   "metadata": {},
   "source": [
    "Podemos notar que __el coeficiente de determinación aumenta conforme usamos más regresores__.\n",
    "Esto no es necesariamente bueno, pues podríamos agregar más variables (e.g no significativas) e incrementar artificialmente $R^{2}$.\n",
    "Para arreglar esto y evitar el __sobreajuste__, más adelante modificaremos (o ajustaremos) el coeficiente de determinación para que _penalice_ usar demasiadas variables."
   ]
  },
  {
   "cell_type": "markdown",
   "id": "6450c1e3",
   "metadata": {},
   "source": [
    "3. __Prueba $F$.__\n",
    "\n",
    "Recordemos que el modelo, considerando la componente estocástica ($\\epsilon$), es\n",
    "\n",
    "$$\n",
    "Y = \\beta_0 + \\beta_1 X_1 + \\ldots \\beta_k X_k + \\epsilon\n",
    "$$\n",
    "\n",
    "Aunque el modelo incluya $k$ regresores, puede que no todos (o ninguno) contribuya a explicar la variabilidad de $Y$. La pregunta natural es, dado el modelo, ¿este puede contribuir a explicar la variabilidad de la variable respuesta?\n",
    "\n",
    "Note que si algún coeficiente, $\\beta_i = 0$, eso indica que el regresor correspondiente, $X_i$, no es significativo, i.e, $X_i$ no contribuye a explicar la variabilidad de $Y$.\n",
    "\n",
    "Para comprobar la significancia de la regresión queremos contrastar las siguientes hipótesis:\n",
    "\n",
    "$$\n",
    "H_0 : \\beta_i = 0, \\hspace{0.2cm} \\forall i\\in\\{1,\\ldots,k\\}\n",
    "$$\n",
    "$$\n",
    "H_a : \\exists j\\in \\{1,\\ldots,k\\}, \\hspace{0.2cm} \\beta_j \\neq 0\n",
    "$$\n",
    "\n",
    "Lo que queremos es rechazar la hipótesis nula, porque queremos que al menos un regresor sea significativo.\n",
    "\n",
    "La estadística de prueba es una estadística $F$ que puede calcularse como el cociente de las varianzas muestrales o en términos del coeficiente de determinación,\n",
    "\n",
    "$$\n",
    "F_{\\text{obs}} = \\frac{MS_E}{MS_R} = \\frac{R^2 / k}{(1-R^2)/(n-k-1)}\n",
    "$$\n",
    "\n",
    "con $MS_E = \\frac{SSE}{k}$, $MS_R = \\frac{SSR}{n-k-1}$ y $MS_T = \\frac{SST}{n-1}$.\n",
    "\n",
    "Para nuestros modelos:"
   ]
  },
  {
   "cell_type": "code",
   "execution_count": 37,
   "id": "dadc0c58",
   "metadata": {},
   "outputs": [
    {
     "data": {
      "text/plain": [
       "12.280312220066383"
      ]
     },
     "execution_count": 37,
     "metadata": {},
     "output_type": "execute_result"
    }
   ],
   "source": [
    "# Usando únicamente publicidad\n",
    "results_1.fvalue\n"
   ]
  },
  {
   "cell_type": "code",
   "execution_count": 38,
   "id": "b0bd56b7",
   "metadata": {},
   "outputs": [
    {
     "data": {
      "text/plain": [
       "6.171448586075039"
      ]
     },
     "execution_count": 38,
     "metadata": {},
     "output_type": "execute_result"
    }
   ],
   "source": [
    "# Usando publicidad y precio\n",
    "results_4.fvalue\n"
   ]
  },
  {
   "cell_type": "code",
   "execution_count": 39,
   "id": "dd71229b",
   "metadata": {},
   "outputs": [
    {
     "data": {
      "text/plain": [
       "31.49773089816437"
      ]
     },
     "execution_count": 39,
     "metadata": {},
     "output_type": "execute_result"
    }
   ],
   "source": [
    "# Usando publicidad, precio y difusión\n",
    "results_5.fvalue\n"
   ]
  },
  {
   "cell_type": "markdown",
   "id": "b6eba98b",
   "metadata": {},
   "source": [
    "Para tomar una decisión nos fijamos en los $p_{\\text{val}}$ para cada modelo."
   ]
  },
  {
   "cell_type": "code",
   "execution_count": 40,
   "id": "0f31a87c",
   "metadata": {},
   "outputs": [
    {
     "data": {
      "text/plain": [
       "0.005685256582679184"
      ]
     },
     "execution_count": 40,
     "metadata": {},
     "output_type": "execute_result"
    }
   ],
   "source": [
    "# Usando únicamente publicidad\n",
    "results_1.f_pvalue\n"
   ]
  },
  {
   "cell_type": "code",
   "execution_count": 41,
   "id": "6caa5b38",
   "metadata": {},
   "outputs": [
    {
     "data": {
      "text/plain": [
       "0.8833224032795347"
      ]
     },
     "execution_count": 41,
     "metadata": {},
     "output_type": "execute_result"
    }
   ],
   "source": [
    "results_2.f_pvalue"
   ]
  },
  {
   "cell_type": "code",
   "execution_count": 42,
   "id": "600e09ba",
   "metadata": {},
   "outputs": [
    {
     "data": {
      "text/plain": [
       "0.020532939072995863"
      ]
     },
     "execution_count": 42,
     "metadata": {},
     "output_type": "execute_result"
    }
   ],
   "source": [
    "# Usando publicidad y precio\n",
    "results_4.f_pvalue\n"
   ]
  },
  {
   "cell_type": "code",
   "execution_count": 43,
   "id": "52cc1567",
   "metadata": {},
   "outputs": [
    {
     "data": {
      "text/plain": [
       "8.844418443001937e-05"
      ]
     },
     "execution_count": 43,
     "metadata": {},
     "output_type": "execute_result"
    }
   ],
   "source": [
    "# Usando publicidad, precio y difusión\n",
    "results_5.f_pvalue\n"
   ]
  },
  {
   "cell_type": "markdown",
   "id": "d5dc924c",
   "metadata": {},
   "source": [
    "Si tomamos el nivel de significancia, $\\alpha=0.05$, conclumos que los 3 modelos son significativos (i.e incluyen al menos una variable significativa)."
   ]
  },
  {
   "cell_type": "markdown",
   "id": "ccfa915a",
   "metadata": {},
   "source": [
    "4. __$R^2$ ajustada.__\n",
    "\n",
    "Aunque la prueba $F$ nos ayuda a determinar si un conjunto de variables (regresoras) son significativas, no nos ayuda a _selecionar_ las mejores variables. Un criterio para elegir el modelo con las mejores variables es usar la $R^{2}_{\\text{adj}}$.\n",
    "\n",
    "El coeficiente de determinación ajustado se define como:\n",
    "\n",
    "$$\n",
    "R^{2}_{\\text{adj}}= 1 - \\frac{SSR/(n-k-1)}{SST/(n-1)} = 1 - \\frac{MS_R}{MS_T}\n",
    "$$\n",
    "\n",
    "El coeficiente de determinación ajustado corrige varios problemas que puede tener $R^2$:\n",
    "\n",
    "- $R^2$ no toma en cuenta el número de observaciones, $n$, con las cuales se realiza el análisis de regresión.\n",
    "- $R^2$ no considera el número de variables independientes (regresores) que con usadas en el modelo (no penaliza la complejidad del modelo).\n",
    "\n",
    "Incrementar el número de variables aumenta la complejidad del modelo y el valor de $R^2$, pero no necesariamente qué tan bueno es el ajuste. Un modelo demasiado complejo puede cometer _overfitting_, es decir, el modelo puede estar demasiado ajustado a los datos y no generalizar bien.\n",
    "\n",
    "Para nuestro modelo:"
   ]
  },
  {
   "cell_type": "code",
   "execution_count": 44,
   "id": "dc5a3ff6",
   "metadata": {},
   "outputs": [
    {
     "data": {
      "text/plain": [
       "0.5062905810586873"
      ]
     },
     "execution_count": 44,
     "metadata": {},
     "output_type": "execute_result"
    }
   ],
   "source": [
    "# Usando únicamente publicidad\n",
    "results_1.rsquared_adj\n"
   ]
  },
  {
   "cell_type": "code",
   "execution_count": 45,
   "id": "9404844d",
   "metadata": {},
   "outputs": [
    {
     "data": {
      "text/plain": [
       "0.48460605365453"
      ]
     },
     "execution_count": 45,
     "metadata": {},
     "output_type": "execute_result"
    }
   ],
   "source": [
    "# Usando publicidad y precio\n",
    "results_4.rsquared_adj\n"
   ]
  },
  {
   "cell_type": "code",
   "execution_count": 46,
   "id": "148f48e9",
   "metadata": {},
   "outputs": [
    {
     "data": {
      "text/plain": [
       "0.8926757991353799"
      ]
     },
     "execution_count": 46,
     "metadata": {},
     "output_type": "execute_result"
    }
   ],
   "source": [
    "# Usando publicidad, precio y difusión\n",
    "results_5.rsquared_adj\n"
   ]
  },
  {
   "cell_type": "markdown",
   "id": "f7c04390",
   "metadata": {},
   "source": [
    "Podemos notar que al considerar la variable precio, el coeficiente de determinación ajustado disminuye: el precio contribuye muy poco para explicar la variabilidad de las ventas, y su baja contribución no compensa la penalización que agrega $R^{2}_{\\text{adj}}$ por aumentar la complejidad del modelo."
   ]
  },
  {
   "cell_type": "markdown",
   "id": "1b4bcc16",
   "metadata": {},
   "source": [
    "## 4. Verificación de los coeficientes de la regresión\n",
    "\n",
    "1. Precisión de los coeficientes.\n",
    "2. Prueba $T$.\n",
    "3. Selección de variables\n",
    "4. Intervalos de confianza para los coeficientes."
   ]
  },
  {
   "cell_type": "markdown",
   "id": "05ec64eb",
   "metadata": {},
   "source": [
    "1. __Precisión de los coeficientes__.\n",
    "\n",
    "La precisión de los estimadores de los parámetros ($\\beta_0,\\beta_1,\\ldots,\\beta_k$) se define como el inverso de su desviación estándar (a.k.a. error estándar).\n",
    "\n",
    "Para el modelo de regresión lineal simple, el error estándar de $\\hat{\\beta}_1$ está dado por:\n",
    "\n",
    "$$\n",
    "se(\\hat{\\beta}_1) = \\frac{SE}{\\sigma_x \\sqrt{n-1}}\n",
    "$$\n",
    "\n",
    "con $SE$ el error estándar de la regresión y $\\sigma_x$ la desviación estándar del único regresor.\n",
    "\n",
    "Para el modelo de regresión lineal múltiple, el error estándar de $\\hat{\\beta}_j$ está dado por:\n",
    "\n",
    "$$\n",
    "se(\\hat{\\beta}_j) = \\frac{SE}{\\sigma_{x_j} \\sqrt{n-1} \\sqrt{1- R_j ^2}}\n",
    "$$\n",
    "\n",
    "con $SE$ el error estándar de la regresión, $\\sigma_{x_j}$ la desviación estándar del $j$-ésimo regresor, y $R_j^{2}$ el coeficiente de determinación de un modelo ajustado considerando a $X_j$ como variable respuesta y a las demás variables independientes como regresores.\n",
    "\n",
    "Para nuestros modelos:"
   ]
  },
  {
   "cell_type": "code",
   "execution_count": 47,
   "id": "1520cfd4",
   "metadata": {},
   "outputs": [
    {
     "data": {
      "text/plain": [
       "const                             647.974452\n",
       "Publicidad (en miles de euros)      2.747958\n",
       "dtype: float64"
      ]
     },
     "execution_count": 47,
     "metadata": {},
     "output_type": "execute_result"
    }
   ],
   "source": [
    "results_1.bse"
   ]
  },
  {
   "cell_type": "code",
   "execution_count": 48,
   "id": "bb8ad0f8",
   "metadata": {},
   "outputs": [
    {
     "data": {
      "text/plain": [
       "const                        633.314205\n",
       "Precio (euros por unidad)    368.571043\n",
       "dtype: float64"
      ]
     },
     "execution_count": 48,
     "metadata": {},
     "output_type": "execute_result"
    }
   ],
   "source": [
    "results_2.bse"
   ]
  },
  {
   "cell_type": "code",
   "execution_count": 49,
   "id": "cae60b23",
   "metadata": {},
   "outputs": [
    {
     "data": {
      "text/plain": [
       "const                           141.124165\n",
       "Difusión (en miles de euros)      0.844342\n",
       "dtype: float64"
      ]
     },
     "execution_count": 49,
     "metadata": {},
     "output_type": "execute_result"
    }
   ],
   "source": [
    "results_3.bse"
   ]
  },
  {
   "cell_type": "code",
   "execution_count": 50,
   "id": "661efeae",
   "metadata": {},
   "outputs": [
    {
     "data": {
      "text/plain": [
       "const    741.013753\n",
       "x1         2.842077\n",
       "x2       255.668979\n",
       "dtype: float64"
      ]
     },
     "execution_count": 50,
     "metadata": {},
     "output_type": "execute_result"
    }
   ],
   "source": [
    "results_4.bse"
   ]
  },
  {
   "cell_type": "code",
   "execution_count": 51,
   "id": "9a418211",
   "metadata": {},
   "outputs": [
    {
     "data": {
      "text/plain": [
       "const    345.980671\n",
       "x1         1.342457\n",
       "x2       121.116483\n",
       "x3         0.408148\n",
       "dtype: float64"
      ]
     },
     "execution_count": 51,
     "metadata": {},
     "output_type": "execute_result"
    }
   ],
   "source": [
    "results_5.bse"
   ]
  },
  {
   "cell_type": "markdown",
   "id": "72c9d37b",
   "metadata": {},
   "source": [
    "Note que valores pequeños del error estándar indican mayor precisión.\n",
    "\n",
    "Además de ser una medida de presición, los errores estándar nos sirven para construir intervalos de confianza para los parámetros."
   ]
  },
  {
   "cell_type": "markdown",
   "id": "d33038eb",
   "metadata": {},
   "source": [
    "2. __Prueba $T$__.\n",
    "\n",
    "Ya habíamos visto que la prueba $F$ nos ayuda a determinar si la regresión es significativa, es decir, si de los regresores considerados, al menos uno contribuye a explicar la variabilidad en $Y$. Para verificar si una única variable es significativa, es decir, si influye en $Y$ (o en otras palabras, si su coeficiente asociado no es cero) tenemos que realizar una prueba $T$.\n",
    "\n",
    "_Obs_: La prueba $F$ es para grupos de variables, mientras que la prueba $T$ solo es adecuada para una única variable. Para el modelo de regresión lineal simple, $F=T^{2}$, por lo que ambas pruebas son equivalentes.\n",
    "\n",
    "\n",
    "Queremos determinar si el regresor $X_j$ es significativo, es decir si influye en $Y$. Debemos contrastar las hipótesis:\n",
    "\n",
    "$$\n",
    "H_0 = \\beta_j = 0 \\hspace{0.2cm} \\text{ v.s } \\hspace{0.2cm} H_a: \\beta_j \\neq 0\n",
    "$$\n",
    "\n",
    "Para ver que $X_j$ es significativa, tenemos que rechazar $H_0$.\n",
    "\n",
    "La estadística de prueba, bajo $H_0$, se distribuye $T$ de Student con $n-k-1$ grados de libertad y está dada por\n",
    "\n",
    "$$\n",
    "t_{\\text{obs}} = \\frac{\\hat{\\beta}_j}{se(\\hat{\\beta}_j)}\n",
    "$$\n",
    "\n",
    "Para nuestros modelos:"
   ]
  },
  {
   "cell_type": "code",
   "execution_count": 52,
   "id": "3f619d2e",
   "metadata": {},
   "outputs": [
    {
     "data": {
      "text/plain": [
       "const                             0.407318\n",
       "Publicidad (en miles de euros)    0.005685\n",
       "dtype: float64"
      ]
     },
     "execution_count": 52,
     "metadata": {},
     "output_type": "execute_result"
    }
   ],
   "source": [
    "results_1.pvalues"
   ]
  },
  {
   "cell_type": "code",
   "execution_count": 53,
   "id": "94761cc2",
   "metadata": {},
   "outputs": [
    {
     "data": {
      "text/plain": [
       "const                        0.000965\n",
       "Precio (euros por unidad)    0.883322\n",
       "dtype: float64"
      ]
     },
     "execution_count": 53,
     "metadata": {},
     "output_type": "execute_result"
    }
   ],
   "source": [
    "results_2.pvalues"
   ]
  },
  {
   "cell_type": "code",
   "execution_count": 54,
   "id": "1b664411",
   "metadata": {},
   "outputs": [
    {
     "data": {
      "text/plain": [
       "const                           1.040421e-08\n",
       "Difusión (en miles de euros)    9.204207e-03\n",
       "dtype: float64"
      ]
     },
     "execution_count": 54,
     "metadata": {},
     "output_type": "execute_result"
    }
   ],
   "source": [
    "results_3.pvalues"
   ]
  },
  {
   "cell_type": "code",
   "execution_count": 55,
   "id": "7f61c3ef",
   "metadata": {},
   "outputs": [
    {
     "data": {
      "text/plain": [
       "const    0.300606\n",
       "x1       0.006656\n",
       "x2       0.466074\n",
       "dtype: float64"
      ]
     },
     "execution_count": 55,
     "metadata": {},
     "output_type": "execute_result"
    }
   ],
   "source": [
    "results_4.pvalues"
   ]
  },
  {
   "cell_type": "code",
   "execution_count": 56,
   "id": "22143a39",
   "metadata": {},
   "outputs": [
    {
     "data": {
      "text/plain": [
       "const    0.006902\n",
       "x1       0.000366\n",
       "x2       0.012612\n",
       "x3       0.000348\n",
       "dtype: float64"
      ]
     },
     "execution_count": 56,
     "metadata": {},
     "output_type": "execute_result"
    }
   ],
   "source": [
    "results_5.pvalues"
   ]
  },
  {
   "cell_type": "markdown",
   "id": "15295237",
   "metadata": {},
   "source": [
    "Si fijamos $\\alpha = 0.05$, podemos notar que la publicidad y la difusión son significaticas (en el modelo lineal simple), pero el precio no lo es. El el modelo de regresión múltiple, el precio no es significativo (modelo 4) o es la menos significativa (modelo 5)."
   ]
  },
  {
   "cell_type": "markdown",
   "id": "36530363",
   "metadata": {},
   "source": [
    "3. __Selección de variables__\n",
    "\n",
    "Otras técnicas de seleccionar variables significativas es usando __backward selection__ y __forward selection__.\n",
    "\n",
    "La idea de forward selection es comenzar con el modelo nulo (el modelo sin variables regresoras, únicamente el intercepto) y luego ajustar tantos modelos como variables regresoras se tengan: cada modelo con un único regresor. Luego, agregar el modelo aquella variable cuyo ajuste individual tenga menor $SSR$. Este proceso se repite.\n",
    "\n",
    "La idea de backward selection es comenzar con un modelo que contenga todos los regresores y remover aquella variable cuyo $p_{\\text{val}}$ (asociado a la prueba $T$) sea mayor (es decir, la variable menos significativa). Luego se vuelve a ajustar el modelo usando las variables restantes y se repite el procedimiento."
   ]
  },
  {
   "cell_type": "markdown",
   "id": "de96baa7",
   "metadata": {},
   "source": [
    "- Forward selection:"
   ]
  },
  {
   "cell_type": "code",
   "execution_count": 57,
   "id": "7c528ee8",
   "metadata": {},
   "outputs": [
    {
     "data": {
      "text/plain": [
       "271216.5389327144"
      ]
     },
     "execution_count": 57,
     "metadata": {},
     "output_type": "execute_result"
    }
   ],
   "source": [
    "results_1.ssr\n"
   ]
  },
  {
   "cell_type": "code",
   "execution_count": 58,
   "id": "7c01a012",
   "metadata": {},
   "outputs": [
    {
     "data": {
      "text/plain": [
       "602912.3560712741"
      ]
     },
     "execution_count": 58,
     "metadata": {},
     "output_type": "execute_result"
    }
   ],
   "source": [
    "results_2.ssr\n"
   ]
  },
  {
   "cell_type": "code",
   "execution_count": 59,
   "id": "ea550d19",
   "metadata": {},
   "outputs": [
    {
     "data": {
      "text/plain": [
       "296849.73973466316"
      ]
     },
     "execution_count": 59,
     "metadata": {},
     "output_type": "execute_result"
    }
   ],
   "source": [
    "results_3.ssr\n"
   ]
  },
  {
   "cell_type": "markdown",
   "id": "a703cf7c",
   "metadata": {},
   "source": [
    "Usando forward selection la primera variable que incluimos es $X_1$: publicidad y luego $X_3$: difusión. Podríamos no incluir $X_2$: precio debido a su alto valor de $SSR$."
   ]
  },
  {
   "cell_type": "markdown",
   "id": "30f9a7a2",
   "metadata": {},
   "source": [
    "- Backward selection"
   ]
  },
  {
   "cell_type": "code",
   "execution_count": 60,
   "id": "558d4f4e",
   "metadata": {},
   "outputs": [
    {
     "data": {
      "text/plain": [
       "const    0.006902\n",
       "x1       0.000366\n",
       "x2       0.012612\n",
       "x3       0.000348\n",
       "dtype: float64"
      ]
     },
     "execution_count": 60,
     "metadata": {},
     "output_type": "execute_result"
    }
   ],
   "source": [
    "results_5.pvalues\n"
   ]
  },
  {
   "cell_type": "markdown",
   "id": "16f9ae20",
   "metadata": {},
   "source": [
    "Usando backward selection la primera variable a eliminar es $X_2$: precio.\n",
    "\n",
    "Para más detalles véase [An Introduction to Statistical Learning](https://link.springer.com/book/10.1007/978-1-0716-1418-1)"
   ]
  },
  {
   "cell_type": "markdown",
   "id": "615cc79d",
   "metadata": {},
   "source": [
    "4. __Intervalos de confianza para los coeficientes__.\n",
    "\n",
    "Además de dar estimaciones puntuales para los parámetros podemos preguntarnos por intervalos de confianza para los mismos.\n",
    "\n",
    "Los intervalos de confianza para los parámetros $\\beta_j$ están dados por\n",
    "\n",
    "$$\n",
    "\\hat{\\beta}_j - q_{\\alpha /2}(t_{n-k-1})se(\\hat{\\beta}_j) \\leq \\beta _j \\leq \\hat{\\beta}_j + q_{\\alpha /2}(t_{n-k-1})se(\\hat{\\beta}_j) \n",
    "$$\n",
    "\n",
    "La interpretación de estos intervalos de confianza es la usual: si el nivel de confianza es $1-\\alpha$, entonces la probabilidad (frecuentista) de que el valor verdadero del parámetro, $\\beta_j$, esté en el intervalo es $1-\\alpha$.\n",
    "\n",
    "El error de la estimación por intervalo (i.e la probabilidad de que el parámetro verdadero no caiga en el intervalo) es $\\alpha$. Este valor está relacionado inversamente a la longitud del intervalo: a menor error $\\alpha$, mayor longitud del intervalo.\n",
    "\n",
    "Para nuestros modelos:"
   ]
  },
  {
   "cell_type": "code",
   "execution_count": 61,
   "id": "9644ac09",
   "metadata": {},
   "outputs": [
    {
     "data": {
      "text/html": [
       "<div>\n",
       "<style scoped>\n",
       "    .dataframe tbody tr th:only-of-type {\n",
       "        vertical-align: middle;\n",
       "    }\n",
       "\n",
       "    .dataframe tbody tr th {\n",
       "        vertical-align: top;\n",
       "    }\n",
       "\n",
       "    .dataframe thead th {\n",
       "        text-align: right;\n",
       "    }\n",
       "</style>\n",
       "<table border=\"1\" class=\"dataframe\">\n",
       "  <thead>\n",
       "    <tr style=\"text-align: right;\">\n",
       "      <th></th>\n",
       "      <th>0</th>\n",
       "      <th>1</th>\n",
       "    </tr>\n",
       "  </thead>\n",
       "  <tbody>\n",
       "    <tr>\n",
       "      <th>const</th>\n",
       "      <td>-883.288699</td>\n",
       "      <td>2004.265404</td>\n",
       "    </tr>\n",
       "    <tr>\n",
       "      <th>Publicidad (en miles de euros)</th>\n",
       "      <td>3.506913</td>\n",
       "      <td>15.752577</td>\n",
       "    </tr>\n",
       "  </tbody>\n",
       "</table>\n",
       "</div>"
      ],
      "text/plain": [
       "                                         0            1\n",
       "const                          -883.288699  2004.265404\n",
       "Publicidad (en miles de euros)    3.506913    15.752577"
      ]
     },
     "execution_count": 61,
     "metadata": {},
     "output_type": "execute_result"
    }
   ],
   "source": [
    "# Por defecto alpha=0.05, por lo que se obtienen\n",
    "# intervalos al 95% de confianza\n",
    "results_1.conf_int()\n"
   ]
  },
  {
   "cell_type": "code",
   "execution_count": 62,
   "id": "9488c00f",
   "metadata": {},
   "outputs": [
    {
     "data": {
      "text/html": [
       "<div>\n",
       "<style scoped>\n",
       "    .dataframe tbody tr th:only-of-type {\n",
       "        vertical-align: middle;\n",
       "    }\n",
       "\n",
       "    .dataframe tbody tr th {\n",
       "        vertical-align: top;\n",
       "    }\n",
       "\n",
       "    .dataframe thead th {\n",
       "        text-align: right;\n",
       "    }\n",
       "</style>\n",
       "<table border=\"1\" class=\"dataframe\">\n",
       "  <thead>\n",
       "    <tr style=\"text-align: right;\">\n",
       "      <th></th>\n",
       "      <th>0</th>\n",
       "      <th>1</th>\n",
       "    </tr>\n",
       "  </thead>\n",
       "  <tbody>\n",
       "    <tr>\n",
       "      <th>const</th>\n",
       "      <td>1508.719180</td>\n",
       "      <td>4330.943149</td>\n",
       "    </tr>\n",
       "    <tr>\n",
       "      <th>Precio (euros por unidad)</th>\n",
       "      <td>-876.716673</td>\n",
       "      <td>765.738247</td>\n",
       "    </tr>\n",
       "  </tbody>\n",
       "</table>\n",
       "</div>"
      ],
      "text/plain": [
       "                                     0            1\n",
       "const                      1508.719180  4330.943149\n",
       "Precio (euros por unidad)  -876.716673   765.738247"
      ]
     },
     "execution_count": 62,
     "metadata": {},
     "output_type": "execute_result"
    }
   ],
   "source": [
    "results_2.conf_int()"
   ]
  },
  {
   "cell_type": "code",
   "execution_count": 63,
   "id": "152f3f44",
   "metadata": {},
   "outputs": [
    {
     "data": {
      "text/html": [
       "<div>\n",
       "<style scoped>\n",
       "    .dataframe tbody tr th:only-of-type {\n",
       "        vertical-align: middle;\n",
       "    }\n",
       "\n",
       "    .dataframe tbody tr th {\n",
       "        vertical-align: top;\n",
       "    }\n",
       "\n",
       "    .dataframe thead th {\n",
       "        text-align: right;\n",
       "    }\n",
       "</style>\n",
       "<table border=\"1\" class=\"dataframe\">\n",
       "  <thead>\n",
       "    <tr style=\"text-align: right;\">\n",
       "      <th></th>\n",
       "      <th>0</th>\n",
       "      <th>1</th>\n",
       "    </tr>\n",
       "  </thead>\n",
       "  <tbody>\n",
       "    <tr>\n",
       "      <th>const</th>\n",
       "      <td>2085.622534</td>\n",
       "      <td>2714.511003</td>\n",
       "    </tr>\n",
       "    <tr>\n",
       "      <th>Difusión (en miles de euros)</th>\n",
       "      <td>0.835895</td>\n",
       "      <td>4.598520</td>\n",
       "    </tr>\n",
       "  </tbody>\n",
       "</table>\n",
       "</div>"
      ],
      "text/plain": [
       "                                        0            1\n",
       "const                         2085.622534  2714.511003\n",
       "Difusión (en miles de euros)     0.835895     4.598520"
      ]
     },
     "execution_count": 63,
     "metadata": {},
     "output_type": "execute_result"
    }
   ],
   "source": [
    "results_3.conf_int()"
   ]
  },
  {
   "cell_type": "code",
   "execution_count": 64,
   "id": "9e89ada9",
   "metadata": {},
   "outputs": [
    {
     "data": {
      "text/html": [
       "<div>\n",
       "<style scoped>\n",
       "    .dataframe tbody tr th:only-of-type {\n",
       "        vertical-align: middle;\n",
       "    }\n",
       "\n",
       "    .dataframe tbody tr th {\n",
       "        vertical-align: top;\n",
       "    }\n",
       "\n",
       "    .dataframe thead th {\n",
       "        text-align: right;\n",
       "    }\n",
       "</style>\n",
       "<table border=\"1\" class=\"dataframe\">\n",
       "  <thead>\n",
       "    <tr style=\"text-align: right;\">\n",
       "      <th></th>\n",
       "      <th>0</th>\n",
       "      <th>1</th>\n",
       "    </tr>\n",
       "  </thead>\n",
       "  <tbody>\n",
       "    <tr>\n",
       "      <th>const</th>\n",
       "      <td>-862.471358</td>\n",
       "      <td>2490.107782</td>\n",
       "    </tr>\n",
       "    <tr>\n",
       "      <th>x1</th>\n",
       "      <td>3.536149</td>\n",
       "      <td>16.394601</td>\n",
       "    </tr>\n",
       "    <tr>\n",
       "      <th>x2</th>\n",
       "      <td>-772.951368</td>\n",
       "      <td>383.775458</td>\n",
       "    </tr>\n",
       "  </tbody>\n",
       "</table>\n",
       "</div>"
      ],
      "text/plain": [
       "                0            1\n",
       "const -862.471358  2490.107782\n",
       "x1       3.536149    16.394601\n",
       "x2    -772.951368   383.775458"
      ]
     },
     "execution_count": 64,
     "metadata": {},
     "output_type": "execute_result"
    }
   ],
   "source": [
    "results_4.conf_int()"
   ]
  },
  {
   "cell_type": "code",
   "execution_count": 65,
   "id": "d751f7b6",
   "metadata": {
    "scrolled": true
   },
   "outputs": [
    {
     "data": {
      "text/html": [
       "<div>\n",
       "<style scoped>\n",
       "    .dataframe tbody tr th:only-of-type {\n",
       "        vertical-align: middle;\n",
       "    }\n",
       "\n",
       "    .dataframe tbody tr th {\n",
       "        vertical-align: top;\n",
       "    }\n",
       "\n",
       "    .dataframe thead th {\n",
       "        text-align: right;\n",
       "    }\n",
       "</style>\n",
       "<table border=\"1\" class=\"dataframe\">\n",
       "  <thead>\n",
       "    <tr style=\"text-align: right;\">\n",
       "      <th></th>\n",
       "      <th>0</th>\n",
       "      <th>1</th>\n",
       "    </tr>\n",
       "  </thead>\n",
       "  <tbody>\n",
       "    <tr>\n",
       "      <th>const</th>\n",
       "      <td>450.443139</td>\n",
       "      <td>2046.108856</td>\n",
       "    </tr>\n",
       "    <tr>\n",
       "      <th>x1</th>\n",
       "      <td>4.812351</td>\n",
       "      <td>11.003773</td>\n",
       "    </tr>\n",
       "    <tr>\n",
       "      <th>x2</th>\n",
       "      <td>-666.867267</td>\n",
       "      <td>-108.277046</td>\n",
       "    </tr>\n",
       "    <tr>\n",
       "      <th>x3</th>\n",
       "      <td>1.481020</td>\n",
       "      <td>3.363402</td>\n",
       "    </tr>\n",
       "  </tbody>\n",
       "</table>\n",
       "</div>"
      ],
      "text/plain": [
       "                0            1\n",
       "const  450.443139  2046.108856\n",
       "x1       4.812351    11.003773\n",
       "x2    -666.867267  -108.277046\n",
       "x3       1.481020     3.363402"
      ]
     },
     "execution_count": 65,
     "metadata": {},
     "output_type": "execute_result"
    }
   ],
   "source": [
    "results_5.conf_int()"
   ]
  },
  {
   "cell_type": "markdown",
   "id": "cbae44ee",
   "metadata": {},
   "source": [
    "## 5. Verificación de los supuestos\n",
    "\n",
    "1. Linealidad en los parámetros.\n",
    "2. Todas las variables relevantes están incluídas.\n",
    "3. Homocedasticidad ($\\mathbb{V}ar(\\epsilon_i) = \\sigma^{2}$).\n",
    "4. No autocorrelación ($\\mathbb{C}ov(\\epsilon _i, \\epsilon_j) = 0$).\n",
    "5. Errores normalmente distribuidos ($\\epsilon_i \\sim \\mathcal{N}(0, \\sigma^{2})$).\n",
    "6. No hay multicolinealidad perfecta.\n",
    "\n",
    "__Obs__: Que se cumplan los supuestos del modelo de regresión es _necesario pero no suficiente_ para obtener buenas estimaciones. Para aumentar la precisión del modelo es requerido que haya suficiente variación o dispersión en las variables independientes, tamaños de muestra suficientemente grandes y baja multicolinealidad.\n"
   ]
  },
  {
   "cell_type": "markdown",
   "id": "1ddac958",
   "metadata": {},
   "source": [
    "1. __Linealidad en los parámetros__\n",
    "\n",
    "Uno de los supuestos iniciales fue la elección de $f$ de tal manera que\n",
    "\n",
    "$$\n",
    "    Y = \\beta_0 + \\beta_1 X_1 + \\ldots + \\beta_k X_k + \\epsilon\n",
    "$$\n",
    "\n",
    "La ecuación anterior es _lineal en los parámetros_, por lo que reemplazar cualquier variable, $X_i$, por una función de ella, $f_i(X_i)$, con $f_i$ una función que no depende de los parámetros, no rompe el supuesto inicial de linealidad. Entonces, el modelo de regresión lineal se puede plantaear como\n",
    "\n",
    "$$\n",
    "    f_0(Y) = \\beta_0 + \\beta_1 f_1 (X_1) + \\ldots + \\beta_k f_k (X_k) + \\epsilon\n",
    "$$\n",
    "\n",
    "donde las funciones $f_i$ nos pueden ayudar a _corregir_ alguna depencia no lineal en los regresores.\n",
    "\n",
    "Por ejemplo, el siguiente gráfico de dispersión muestra una posible relación no-lineal entre dos variables."
   ]
  },
  {
   "cell_type": "code",
   "execution_count": 291,
   "id": "02245d3a",
   "metadata": {},
   "outputs": [],
   "source": [
    "n = 10\n",
    "np.random.seed(10)\n",
    "x = np.linspace(0, 1000, n) \n",
    "y = np.sqrt(x) + np.random.normal(loc=0, scale=2, size=n)"
   ]
  },
  {
   "cell_type": "code",
   "execution_count": 292,
   "id": "eadecd63",
   "metadata": {},
   "outputs": [
    {
     "data": {
      "image/png": "[encoded data removed]",
      "text/plain": [
       "<Figure size 640x480 with 1 Axes>"
      ]
     },
     "metadata": {},
     "output_type": "display_data"
    }
   ],
   "source": [
    "plt.scatter(x, y);"
   ]
  },
  {
   "cell_type": "markdown",
   "id": "a10976cb",
   "metadata": {},
   "source": [
    "Si ajustamos un modelo lineal."
   ]
  },
  {
   "cell_type": "code",
   "execution_count": 293,
   "id": "fc800206",
   "metadata": {},
   "outputs": [],
   "source": [
    "results_nl = sm.OLS(y, sm.add_constant(x)).fit()\n"
   ]
  },
  {
   "cell_type": "code",
   "execution_count": 294,
   "id": "0de8c9fe",
   "metadata": {},
   "outputs": [
    {
     "data": {
      "text/html": [
       "<table class=\"simpletable\">\n",
       "<caption>OLS Regression Results</caption>\n",
       "<tr>\n",
       "  <th>Dep. Variable:</th>            <td>y</td>        <th>  R-squared:         </th> <td>   0.934</td>\n",
       "</tr>\n",
       "<tr>\n",
       "  <th>Model:</th>                   <td>OLS</td>       <th>  Adj. R-squared:    </th> <td>   0.926</td>\n",
       "</tr>\n",
       "<tr>\n",
       "  <th>Method:</th>             <td>Least Squares</td>  <th>  F-statistic:       </th> <td>   113.9</td>\n",
       "</tr>\n",
       "<tr>\n",
       "  <th>Date:</th>             <td>Fri, 05 May 2023</td> <th>  Prob (F-statistic):</th> <td>5.21e-06</td>\n",
       "</tr>\n",
       "<tr>\n",
       "  <th>Time:</th>                 <td>23:03:11</td>     <th>  Log-Likelihood:    </th> <td> -22.305</td>\n",
       "</tr>\n",
       "<tr>\n",
       "  <th>No. Observations:</th>      <td>    10</td>      <th>  AIC:               </th> <td>   48.61</td>\n",
       "</tr>\n",
       "<tr>\n",
       "  <th>Df Residuals:</th>          <td>     8</td>      <th>  BIC:               </th> <td>   49.21</td>\n",
       "</tr>\n",
       "<tr>\n",
       "  <th>Df Model:</th>              <td>     1</td>      <th>                     </th>     <td> </td>   \n",
       "</tr>\n",
       "<tr>\n",
       "  <th>Covariance Type:</th>      <td>nonrobust</td>    <th>                     </th>     <td> </td>   \n",
       "</tr>\n",
       "</table>\n",
       "<table class=\"simpletable\">\n",
       "<tr>\n",
       "    <td></td>       <th>coef</th>     <th>std err</th>      <th>t</th>      <th>P>|t|</th>  <th>[0.025</th>    <th>0.975]</th>  \n",
       "</tr>\n",
       "<tr>\n",
       "  <th>const</th> <td>    7.1598</td> <td>    1.479</td> <td>    4.840</td> <td> 0.001</td> <td>    3.748</td> <td>   10.571</td>\n",
       "</tr>\n",
       "<tr>\n",
       "  <th>x1</th>    <td>    0.0266</td> <td>    0.002</td> <td>   10.673</td> <td> 0.000</td> <td>    0.021</td> <td>    0.032</td>\n",
       "</tr>\n",
       "</table>\n",
       "<table class=\"simpletable\">\n",
       "<tr>\n",
       "  <th>Omnibus:</th>       <td> 0.679</td> <th>  Durbin-Watson:     </th> <td>   1.580</td>\n",
       "</tr>\n",
       "<tr>\n",
       "  <th>Prob(Omnibus):</th> <td> 0.712</td> <th>  Jarque-Bera (JB):  </th> <td>   0.505</td>\n",
       "</tr>\n",
       "<tr>\n",
       "  <th>Skew:</th>          <td>-0.460</td> <th>  Prob(JB):          </th> <td>   0.777</td>\n",
       "</tr>\n",
       "<tr>\n",
       "  <th>Kurtosis:</th>      <td> 2.395</td> <th>  Cond. No.          </th> <td>1.10e+03</td>\n",
       "</tr>\n",
       "</table><br/><br/>Notes:<br/>[1] Standard Errors assume that the covariance matrix of the errors is correctly specified.<br/>[2] The condition number is large, 1.1e+03. This might indicate that there are<br/>strong multicollinearity or other numerical problems."
      ],
      "text/plain": [
       "<class 'statsmodels.iolib.summary.Summary'>\n",
       "\"\"\"\n",
       "                            OLS Regression Results                            \n",
       "==============================================================================\n",
       "Dep. Variable:                      y   R-squared:                       0.934\n",
       "Model:                            OLS   Adj. R-squared:                  0.926\n",
       "Method:                 Least Squares   F-statistic:                     113.9\n",
       "Date:                Fri, 05 May 2023   Prob (F-statistic):           5.21e-06\n",
       "Time:                        23:03:11   Log-Likelihood:                -22.305\n",
       "No. Observations:                  10   AIC:                             48.61\n",
       "Df Residuals:                       8   BIC:                             49.21\n",
       "Df Model:                           1                                         \n",
       "Covariance Type:            nonrobust                                         \n",
       "==============================================================================\n",
       "                 coef    std err          t      P>|t|      [0.025      0.975]\n",
       "------------------------------------------------------------------------------\n",
       "const          7.1598      1.479      4.840      0.001       3.748      10.571\n",
       "x1             0.0266      0.002     10.673      0.000       0.021       0.032\n",
       "==============================================================================\n",
       "Omnibus:                        0.679   Durbin-Watson:                   1.580\n",
       "Prob(Omnibus):                  0.712   Jarque-Bera (JB):                0.505\n",
       "Skew:                          -0.460   Prob(JB):                        0.777\n",
       "Kurtosis:                       2.395   Cond. No.                     1.10e+03\n",
       "==============================================================================\n",
       "\n",
       "Notes:\n",
       "[1] Standard Errors assume that the covariance matrix of the errors is correctly specified.\n",
       "[2] The condition number is large, 1.1e+03. This might indicate that there are\n",
       "strong multicollinearity or other numerical problems.\n",
       "\"\"\""
      ]
     },
     "execution_count": 294,
     "metadata": {},
     "output_type": "execute_result"
    }
   ],
   "source": [
    "results_nl.summary()"
   ]
  },
  {
   "cell_type": "markdown",
   "id": "5f989a3b",
   "metadata": {},
   "source": [
    "Si aplicamos la transformación $x \\to \\sqrt{x}$, corregimos la no linealidad."
   ]
  },
  {
   "cell_type": "code",
   "execution_count": 295,
   "id": "219e1075",
   "metadata": {},
   "outputs": [
    {
     "data": {
      "image/png": "[encoded data removed]",
      "text/plain": [
       "<Figure size 640x480 with 1 Axes>"
      ]
     },
     "metadata": {},
     "output_type": "display_data"
    }
   ],
   "source": [
    "plt.scatter(np.sqrt(x), y);"
   ]
  },
  {
   "cell_type": "code",
   "execution_count": 296,
   "id": "c5b94222",
   "metadata": {},
   "outputs": [
    {
     "data": {
      "text/html": [
       "<table class=\"simpletable\">\n",
       "<caption>OLS Regression Results</caption>\n",
       "<tr>\n",
       "  <th>Dep. Variable:</th>            <td>y</td>        <th>  R-squared:         </th> <td>   0.975</td>\n",
       "</tr>\n",
       "<tr>\n",
       "  <th>Model:</th>                   <td>OLS</td>       <th>  Adj. R-squared:    </th> <td>   0.972</td>\n",
       "</tr>\n",
       "<tr>\n",
       "  <th>Method:</th>             <td>Least Squares</td>  <th>  F-statistic:       </th> <td>   314.3</td>\n",
       "</tr>\n",
       "<tr>\n",
       "  <th>Date:</th>             <td>Fri, 05 May 2023</td> <th>  Prob (F-statistic):</th> <td>1.05e-07</td>\n",
       "</tr>\n",
       "<tr>\n",
       "  <th>Time:</th>                 <td>23:03:12</td>     <th>  Log-Likelihood:    </th> <td> -17.443</td>\n",
       "</tr>\n",
       "<tr>\n",
       "  <th>No. Observations:</th>      <td>    10</td>      <th>  AIC:               </th> <td>   38.89</td>\n",
       "</tr>\n",
       "<tr>\n",
       "  <th>Df Residuals:</th>          <td>     8</td>      <th>  BIC:               </th> <td>   39.49</td>\n",
       "</tr>\n",
       "<tr>\n",
       "  <th>Df Model:</th>              <td>     1</td>      <th>                     </th>     <td> </td>   \n",
       "</tr>\n",
       "<tr>\n",
       "  <th>Covariance Type:</th>      <td>nonrobust</td>    <th>                     </th>     <td> </td>   \n",
       "</tr>\n",
       "</table>\n",
       "<table class=\"simpletable\">\n",
       "<tr>\n",
       "    <td></td>       <th>coef</th>     <th>std err</th>      <th>t</th>      <th>P>|t|</th>  <th>[0.025</th>    <th>0.975]</th>  \n",
       "</tr>\n",
       "<tr>\n",
       "  <th>const</th> <td>    1.4092</td> <td>    1.181</td> <td>    1.193</td> <td> 0.267</td> <td>   -1.315</td> <td>    4.133</td>\n",
       "</tr>\n",
       "<tr>\n",
       "  <th>x1</th>    <td>    0.9366</td> <td>    0.053</td> <td>   17.730</td> <td> 0.000</td> <td>    0.815</td> <td>    1.058</td>\n",
       "</tr>\n",
       "</table>\n",
       "<table class=\"simpletable\">\n",
       "<tr>\n",
       "  <th>Omnibus:</th>       <td>11.599</td> <th>  Durbin-Watson:     </th> <td>   2.199</td>\n",
       "</tr>\n",
       "<tr>\n",
       "  <th>Prob(Omnibus):</th> <td> 0.003</td> <th>  Jarque-Bera (JB):  </th> <td>   5.370</td>\n",
       "</tr>\n",
       "<tr>\n",
       "  <th>Skew:</th>          <td>-1.612</td> <th>  Prob(JB):          </th> <td>  0.0682</td>\n",
       "</tr>\n",
       "<tr>\n",
       "  <th>Kurtosis:</th>      <td> 4.578</td> <th>  Cond. No.          </th> <td>    54.0</td>\n",
       "</tr>\n",
       "</table><br/><br/>Notes:<br/>[1] Standard Errors assume that the covariance matrix of the errors is correctly specified."
      ],
      "text/plain": [
       "<class 'statsmodels.iolib.summary.Summary'>\n",
       "\"\"\"\n",
       "                            OLS Regression Results                            \n",
       "==============================================================================\n",
       "Dep. Variable:                      y   R-squared:                       0.975\n",
       "Model:                            OLS   Adj. R-squared:                  0.972\n",
       "Method:                 Least Squares   F-statistic:                     314.3\n",
       "Date:                Fri, 05 May 2023   Prob (F-statistic):           1.05e-07\n",
       "Time:                        23:03:12   Log-Likelihood:                -17.443\n",
       "No. Observations:                  10   AIC:                             38.89\n",
       "Df Residuals:                       8   BIC:                             39.49\n",
       "Df Model:                           1                                         \n",
       "Covariance Type:            nonrobust                                         \n",
       "==============================================================================\n",
       "                 coef    std err          t      P>|t|      [0.025      0.975]\n",
       "------------------------------------------------------------------------------\n",
       "const          1.4092      1.181      1.193      0.267      -1.315       4.133\n",
       "x1             0.9366      0.053     17.730      0.000       0.815       1.058\n",
       "==============================================================================\n",
       "Omnibus:                       11.599   Durbin-Watson:                   2.199\n",
       "Prob(Omnibus):                  0.003   Jarque-Bera (JB):                5.370\n",
       "Skew:                          -1.612   Prob(JB):                       0.0682\n",
       "Kurtosis:                       4.578   Cond. No.                         54.0\n",
       "==============================================================================\n",
       "\n",
       "Notes:\n",
       "[1] Standard Errors assume that the covariance matrix of the errors is correctly specified.\n",
       "\"\"\""
      ]
     },
     "execution_count": 296,
     "metadata": {},
     "output_type": "execute_result"
    }
   ],
   "source": [
    "results_nl_tra = sm.OLS(y, sm.add_constant(np.sqrt(x))).fit()\n",
    "results_nl_tra.summary()"
   ]
  },
  {
   "cell_type": "markdown",
   "id": "ea8a2d2c",
   "metadata": {},
   "source": [
    "---\n",
    "\n",
    "También es posible agregar los efectos de la interacción entre variables. \n",
    "\n",
    "Por ejemplo, el precio ($X_2$) y la difusión ($X_3$) tienen un efecto conjunto: una reducción del precio podría no ser notada por los consumidores si no hay suficiente difusión. También podría ocurrir que el efecto (en la ventas) de la difusión se vea incrementado si también hay una reducción del precio.\n",
    "\n",
    "Estas interacciones se agregan como el producto de las variables. En el ejemplo concreto,\n",
    "\n",
    "$$\n",
    "    Y = \\beta_0 + \\beta_1 X_1 + \\beta_3 X_3 + \\beta_{2,3} X_2 X_3 + \\epsilon\n",
    "$$\n",
    "\n",
    "es el modelo que considera la publicidad ($X_1$), la difusión ($X_3$) y el efecto conjunto del precio y la difusión  ($X_2 X_3$)."
   ]
  },
  {
   "cell_type": "code",
   "execution_count": 324,
   "id": "d89c4021",
   "metadata": {},
   "outputs": [],
   "source": [
    "X_1323 = np.asmatrix([X_1, X_3, X_2*X_3]).T\n"
   ]
  },
  {
   "cell_type": "code",
   "execution_count": 325,
   "id": "060feaee",
   "metadata": {},
   "outputs": [
    {
     "data": {
      "text/html": [
       "<table class=\"simpletable\">\n",
       "<caption>GLS Regression Results</caption>\n",
       "<tr>\n",
       "  <th>Dep. Variable:</th>    <td>Ventas (en miles de unidades)</td> <th>  R-squared:         </th> <td>   0.940</td>\n",
       "</tr>\n",
       "<tr>\n",
       "  <th>Model:</th>                         <td>GLS</td>              <th>  Adj. R-squared:    </th> <td>   0.917</td>\n",
       "</tr>\n",
       "<tr>\n",
       "  <th>Method:</th>                   <td>Least Squares</td>         <th>  F-statistic:       </th> <td>   41.57</td>\n",
       "</tr>\n",
       "<tr>\n",
       "  <th>Date:</th>                   <td>Fri, 05 May 2023</td>        <th>  Prob (F-statistic):</th> <td>3.17e-05</td>\n",
       "</tr>\n",
       "<tr>\n",
       "  <th>Time:</th>                       <td>23:19:52</td>            <th>  Log-Likelihood:    </th> <td> -65.137</td>\n",
       "</tr>\n",
       "<tr>\n",
       "  <th>No. Observations:</th>            <td>    12</td>             <th>  AIC:               </th> <td>   138.3</td>\n",
       "</tr>\n",
       "<tr>\n",
       "  <th>Df Residuals:</th>                <td>     8</td>             <th>  BIC:               </th> <td>   140.2</td>\n",
       "</tr>\n",
       "<tr>\n",
       "  <th>Df Model:</th>                    <td>     3</td>             <th>                     </th>     <td> </td>   \n",
       "</tr>\n",
       "<tr>\n",
       "  <th>Covariance Type:</th>            <td>nonrobust</td>           <th>                     </th>     <td> </td>   \n",
       "</tr>\n",
       "</table>\n",
       "<table class=\"simpletable\">\n",
       "<tr>\n",
       "    <td></td>       <th>coef</th>     <th>std err</th>      <th>t</th>      <th>P>|t|</th>  <th>[0.025</th>    <th>0.975]</th>  \n",
       "</tr>\n",
       "<tr>\n",
       "  <th>const</th> <td>  529.4479</td> <td>  270.989</td> <td>    1.954</td> <td> 0.086</td> <td>  -95.454</td> <td> 1154.349</td>\n",
       "</tr>\n",
       "<tr>\n",
       "  <th>x1</th>    <td>    8.0754</td> <td>    1.183</td> <td>    6.826</td> <td> 0.000</td> <td>    5.347</td> <td>   10.803</td>\n",
       "</tr>\n",
       "<tr>\n",
       "  <th>x2</th>    <td>    6.9181</td> <td>    1.274</td> <td>    5.429</td> <td> 0.001</td> <td>    3.980</td> <td>    9.856</td>\n",
       "</tr>\n",
       "<tr>\n",
       "  <th>x3</th>    <td>   -2.5346</td> <td>    0.641</td> <td>   -3.952</td> <td> 0.004</td> <td>   -4.014</td> <td>   -1.056</td>\n",
       "</tr>\n",
       "</table>\n",
       "<table class=\"simpletable\">\n",
       "<tr>\n",
       "  <th>Omnibus:</th>       <td> 6.455</td> <th>  Durbin-Watson:     </th> <td>   1.508</td>\n",
       "</tr>\n",
       "<tr>\n",
       "  <th>Prob(Omnibus):</th> <td> 0.040</td> <th>  Jarque-Bera (JB):  </th> <td>   1.438</td>\n",
       "</tr>\n",
       "<tr>\n",
       "  <th>Skew:</th>          <td>-0.119</td> <th>  Prob(JB):          </th> <td>   0.487</td>\n",
       "</tr>\n",
       "<tr>\n",
       "  <th>Kurtosis:</th>      <td> 1.321</td> <th>  Cond. No.          </th> <td>5.65e+03</td>\n",
       "</tr>\n",
       "</table><br/><br/>Notes:<br/>[1] Standard Errors assume that the covariance matrix of the errors is correctly specified.<br/>[2] The condition number is large, 5.65e+03. This might indicate that there are<br/>strong multicollinearity or other numerical problems."
      ],
      "text/plain": [
       "<class 'statsmodels.iolib.summary.Summary'>\n",
       "\"\"\"\n",
       "                                  GLS Regression Results                                 \n",
       "=========================================================================================\n",
       "Dep. Variable:     Ventas (en miles de unidades)   R-squared:                       0.940\n",
       "Model:                                       GLS   Adj. R-squared:                  0.917\n",
       "Method:                            Least Squares   F-statistic:                     41.57\n",
       "Date:                           Fri, 05 May 2023   Prob (F-statistic):           3.17e-05\n",
       "Time:                                   23:19:52   Log-Likelihood:                -65.137\n",
       "No. Observations:                             12   AIC:                             138.3\n",
       "Df Residuals:                                  8   BIC:                             140.2\n",
       "Df Model:                                      3                                         \n",
       "Covariance Type:                       nonrobust                                         \n",
       "==============================================================================\n",
       "                 coef    std err          t      P>|t|      [0.025      0.975]\n",
       "------------------------------------------------------------------------------\n",
       "const        529.4479    270.989      1.954      0.086     -95.454    1154.349\n",
       "x1             8.0754      1.183      6.826      0.000       5.347      10.803\n",
       "x2             6.9181      1.274      5.429      0.001       3.980       9.856\n",
       "x3            -2.5346      0.641     -3.952      0.004      -4.014      -1.056\n",
       "==============================================================================\n",
       "Omnibus:                        6.455   Durbin-Watson:                   1.508\n",
       "Prob(Omnibus):                  0.040   Jarque-Bera (JB):                1.438\n",
       "Skew:                          -0.119   Prob(JB):                        0.487\n",
       "Kurtosis:                       1.321   Cond. No.                     5.65e+03\n",
       "==============================================================================\n",
       "\n",
       "Notes:\n",
       "[1] Standard Errors assume that the covariance matrix of the errors is correctly specified.\n",
       "[2] The condition number is large, 5.65e+03. This might indicate that there are\n",
       "strong multicollinearity or other numerical problems.\n",
       "\"\"\""
      ]
     },
     "execution_count": 325,
     "metadata": {},
     "output_type": "execute_result"
    }
   ],
   "source": [
    "results_6 = sm.GLS(Y, sm.add_constant(X_1323)).fit()\n",
    "results_6.summary()\n"
   ]
  },
  {
   "cell_type": "markdown",
   "id": "81555be0",
   "metadata": {},
   "source": [
    "2. __Todas las variables relevantes están incluidas__.\n",
    "\n",
    "Si no se incluyen todas las variables importantes ocurre underfitting."
   ]
  },
  {
   "cell_type": "code",
   "execution_count": 327,
   "id": "86295557",
   "metadata": {},
   "outputs": [
    {
     "data": {
      "text/html": [
       "<table class=\"simpletable\">\n",
       "<caption>OLS Regression Results</caption>\n",
       "<tr>\n",
       "  <th>Dep. Variable:</th>    <td>Ventas (en miles de unidades)</td> <th>  R-squared:         </th> <td>   0.551</td>\n",
       "</tr>\n",
       "<tr>\n",
       "  <th>Model:</th>                         <td>OLS</td>              <th>  Adj. R-squared:    </th> <td>   0.506</td>\n",
       "</tr>\n",
       "<tr>\n",
       "  <th>Method:</th>                   <td>Least Squares</td>         <th>  F-statistic:       </th> <td>   12.28</td>\n",
       "</tr>\n",
       "<tr>\n",
       "  <th>Date:</th>                   <td>Fri, 05 May 2023</td>        <th>  Prob (F-statistic):</th>  <td>0.00569</td>\n",
       "</tr>\n",
       "<tr>\n",
       "  <th>Time:</th>                       <td>23:28:42</td>            <th>  Log-Likelihood:    </th> <td> -77.182</td>\n",
       "</tr>\n",
       "<tr>\n",
       "  <th>No. Observations:</th>            <td>    12</td>             <th>  AIC:               </th> <td>   158.4</td>\n",
       "</tr>\n",
       "<tr>\n",
       "  <th>Df Residuals:</th>                <td>    10</td>             <th>  BIC:               </th> <td>   159.3</td>\n",
       "</tr>\n",
       "<tr>\n",
       "  <th>Df Model:</th>                    <td>     1</td>             <th>                     </th>     <td> </td>   \n",
       "</tr>\n",
       "<tr>\n",
       "  <th>Covariance Type:</th>            <td>nonrobust</td>           <th>                     </th>     <td> </td>   \n",
       "</tr>\n",
       "</table>\n",
       "<table class=\"simpletable\">\n",
       "<tr>\n",
       "                 <td></td>                   <th>coef</th>     <th>std err</th>      <th>t</th>      <th>P>|t|</th>  <th>[0.025</th>    <th>0.975]</th>  \n",
       "</tr>\n",
       "<tr>\n",
       "  <th>const</th>                          <td>  560.4884</td> <td>  647.974</td> <td>    0.865</td> <td> 0.407</td> <td> -883.289</td> <td> 2004.265</td>\n",
       "</tr>\n",
       "<tr>\n",
       "  <th>Publicidad (en miles de euros)</th> <td>    9.6297</td> <td>    2.748</td> <td>    3.504</td> <td> 0.006</td> <td>    3.507</td> <td>   15.753</td>\n",
       "</tr>\n",
       "</table>\n",
       "<table class=\"simpletable\">\n",
       "<tr>\n",
       "  <th>Omnibus:</th>       <td> 0.835</td> <th>  Durbin-Watson:     </th> <td>   2.041</td>\n",
       "</tr>\n",
       "<tr>\n",
       "  <th>Prob(Omnibus):</th> <td> 0.659</td> <th>  Jarque-Bera (JB):  </th> <td>   0.650</td>\n",
       "</tr>\n",
       "<tr>\n",
       "  <th>Skew:</th>          <td>-0.489</td> <th>  Prob(JB):          </th> <td>   0.722</td>\n",
       "</tr>\n",
       "<tr>\n",
       "  <th>Kurtosis:</th>      <td> 2.414</td> <th>  Cond. No.          </th> <td>3.21e+03</td>\n",
       "</tr>\n",
       "</table><br/><br/>Notes:<br/>[1] Standard Errors assume that the covariance matrix of the errors is correctly specified.<br/>[2] The condition number is large, 3.21e+03. This might indicate that there are<br/>strong multicollinearity or other numerical problems."
      ],
      "text/plain": [
       "<class 'statsmodels.iolib.summary.Summary'>\n",
       "\"\"\"\n",
       "                                  OLS Regression Results                                 \n",
       "=========================================================================================\n",
       "Dep. Variable:     Ventas (en miles de unidades)   R-squared:                       0.551\n",
       "Model:                                       OLS   Adj. R-squared:                  0.506\n",
       "Method:                            Least Squares   F-statistic:                     12.28\n",
       "Date:                           Fri, 05 May 2023   Prob (F-statistic):            0.00569\n",
       "Time:                                   23:28:42   Log-Likelihood:                -77.182\n",
       "No. Observations:                             12   AIC:                             158.4\n",
       "Df Residuals:                                 10   BIC:                             159.3\n",
       "Df Model:                                      1                                         \n",
       "Covariance Type:                       nonrobust                                         \n",
       "==================================================================================================\n",
       "                                     coef    std err          t      P>|t|      [0.025      0.975]\n",
       "--------------------------------------------------------------------------------------------------\n",
       "const                            560.4884    647.974      0.865      0.407    -883.289    2004.265\n",
       "Publicidad (en miles de euros)     9.6297      2.748      3.504      0.006       3.507      15.753\n",
       "==============================================================================\n",
       "Omnibus:                        0.835   Durbin-Watson:                   2.041\n",
       "Prob(Omnibus):                  0.659   Jarque-Bera (JB):                0.650\n",
       "Skew:                          -0.489   Prob(JB):                        0.722\n",
       "Kurtosis:                       2.414   Cond. No.                     3.21e+03\n",
       "==============================================================================\n",
       "\n",
       "Notes:\n",
       "[1] Standard Errors assume that the covariance matrix of the errors is correctly specified.\n",
       "[2] The condition number is large, 3.21e+03. This might indicate that there are\n",
       "strong multicollinearity or other numerical problems.\n",
       "\"\"\""
      ]
     },
     "execution_count": 327,
     "metadata": {},
     "output_type": "execute_result"
    }
   ],
   "source": [
    "results_1.summary()"
   ]
  },
  {
   "cell_type": "code",
   "execution_count": 326,
   "id": "eb4239f6",
   "metadata": {},
   "outputs": [
    {
     "data": {
      "text/html": [
       "<table class=\"simpletable\">\n",
       "<caption>OLS Regression Results</caption>\n",
       "<tr>\n",
       "  <th>Dep. Variable:</th>    <td>Ventas (en miles de unidades)</td> <th>  R-squared:         </th> <td>   0.002</td>\n",
       "</tr>\n",
       "<tr>\n",
       "  <th>Model:</th>                         <td>OLS</td>              <th>  Adj. R-squared:    </th> <td>  -0.098</td>\n",
       "</tr>\n",
       "<tr>\n",
       "  <th>Method:</th>                   <td>Least Squares</td>         <th>  F-statistic:       </th> <td> 0.02267</td>\n",
       "</tr>\n",
       "<tr>\n",
       "  <th>Date:</th>                   <td>Fri, 05 May 2023</td>        <th>  Prob (F-statistic):</th>  <td> 0.883</td> \n",
       "</tr>\n",
       "<tr>\n",
       "  <th>Time:</th>                       <td>23:28:27</td>            <th>  Log-Likelihood:    </th> <td> -81.975</td>\n",
       "</tr>\n",
       "<tr>\n",
       "  <th>No. Observations:</th>            <td>    12</td>             <th>  AIC:               </th> <td>   167.9</td>\n",
       "</tr>\n",
       "<tr>\n",
       "  <th>Df Residuals:</th>                <td>    10</td>             <th>  BIC:               </th> <td>   168.9</td>\n",
       "</tr>\n",
       "<tr>\n",
       "  <th>Df Model:</th>                    <td>     1</td>             <th>                     </th>     <td> </td>   \n",
       "</tr>\n",
       "<tr>\n",
       "  <th>Covariance Type:</th>            <td>nonrobust</td>           <th>                     </th>     <td> </td>   \n",
       "</tr>\n",
       "</table>\n",
       "<table class=\"simpletable\">\n",
       "<tr>\n",
       "              <td></td>                 <th>coef</th>     <th>std err</th>      <th>t</th>      <th>P>|t|</th>  <th>[0.025</th>    <th>0.975]</th>  \n",
       "</tr>\n",
       "<tr>\n",
       "  <th>const</th>                     <td> 2919.8312</td> <td>  633.314</td> <td>    4.610</td> <td> 0.001</td> <td> 1508.719</td> <td> 4330.943</td>\n",
       "</tr>\n",
       "<tr>\n",
       "  <th>Precio (euros por unidad)</th> <td>  -55.4892</td> <td>  368.571</td> <td>   -0.151</td> <td> 0.883</td> <td> -876.717</td> <td>  765.738</td>\n",
       "</tr>\n",
       "</table>\n",
       "<table class=\"simpletable\">\n",
       "<tr>\n",
       "  <th>Omnibus:</th>       <td> 3.551</td> <th>  Durbin-Watson:     </th> <td>   1.823</td>\n",
       "</tr>\n",
       "<tr>\n",
       "  <th>Prob(Omnibus):</th> <td> 0.169</td> <th>  Jarque-Bera (JB):  </th> <td>   1.144</td>\n",
       "</tr>\n",
       "<tr>\n",
       "  <th>Skew:</th>          <td> 0.146</td> <th>  Prob(JB):          </th> <td>   0.564</td>\n",
       "</tr>\n",
       "<tr>\n",
       "  <th>Kurtosis:</th>      <td> 1.516</td> <th>  Cond. No.          </th> <td>    20.5</td>\n",
       "</tr>\n",
       "</table><br/><br/>Notes:<br/>[1] Standard Errors assume that the covariance matrix of the errors is correctly specified."
      ],
      "text/plain": [
       "<class 'statsmodels.iolib.summary.Summary'>\n",
       "\"\"\"\n",
       "                                  OLS Regression Results                                 \n",
       "=========================================================================================\n",
       "Dep. Variable:     Ventas (en miles de unidades)   R-squared:                       0.002\n",
       "Model:                                       OLS   Adj. R-squared:                 -0.098\n",
       "Method:                            Least Squares   F-statistic:                   0.02267\n",
       "Date:                           Fri, 05 May 2023   Prob (F-statistic):              0.883\n",
       "Time:                                   23:28:27   Log-Likelihood:                -81.975\n",
       "No. Observations:                             12   AIC:                             167.9\n",
       "Df Residuals:                                 10   BIC:                             168.9\n",
       "Df Model:                                      1                                         \n",
       "Covariance Type:                       nonrobust                                         \n",
       "=============================================================================================\n",
       "                                coef    std err          t      P>|t|      [0.025      0.975]\n",
       "---------------------------------------------------------------------------------------------\n",
       "const                      2919.8312    633.314      4.610      0.001    1508.719    4330.943\n",
       "Precio (euros por unidad)   -55.4892    368.571     -0.151      0.883    -876.717     765.738\n",
       "==============================================================================\n",
       "Omnibus:                        3.551   Durbin-Watson:                   1.823\n",
       "Prob(Omnibus):                  0.169   Jarque-Bera (JB):                1.144\n",
       "Skew:                           0.146   Prob(JB):                        0.564\n",
       "Kurtosis:                       1.516   Cond. No.                         20.5\n",
       "==============================================================================\n",
       "\n",
       "Notes:\n",
       "[1] Standard Errors assume that the covariance matrix of the errors is correctly specified.\n",
       "\"\"\""
      ]
     },
     "execution_count": 326,
     "metadata": {},
     "output_type": "execute_result"
    }
   ],
   "source": [
    "results_2.summary()"
   ]
  },
  {
   "cell_type": "code",
   "execution_count": 328,
   "id": "03e9907f",
   "metadata": {},
   "outputs": [
    {
     "data": {
      "text/html": [
       "<table class=\"simpletable\">\n",
       "<caption>OLS Regression Results</caption>\n",
       "<tr>\n",
       "  <th>Dep. Variable:</th>    <td>Ventas (en miles de unidades)</td> <th>  R-squared:         </th> <td>   0.509</td>\n",
       "</tr>\n",
       "<tr>\n",
       "  <th>Model:</th>                         <td>OLS</td>              <th>  Adj. R-squared:    </th> <td>   0.460</td>\n",
       "</tr>\n",
       "<tr>\n",
       "  <th>Method:</th>                   <td>Least Squares</td>         <th>  F-statistic:       </th> <td>   10.36</td>\n",
       "</tr>\n",
       "<tr>\n",
       "  <th>Date:</th>                   <td>Fri, 05 May 2023</td>        <th>  Prob (F-statistic):</th>  <td>0.00920</td>\n",
       "</tr>\n",
       "<tr>\n",
       "  <th>Time:</th>                       <td>23:28:58</td>            <th>  Log-Likelihood:    </th> <td> -77.724</td>\n",
       "</tr>\n",
       "<tr>\n",
       "  <th>No. Observations:</th>            <td>    12</td>             <th>  AIC:               </th> <td>   159.4</td>\n",
       "</tr>\n",
       "<tr>\n",
       "  <th>Df Residuals:</th>                <td>    10</td>             <th>  BIC:               </th> <td>   160.4</td>\n",
       "</tr>\n",
       "<tr>\n",
       "  <th>Df Model:</th>                    <td>     1</td>             <th>                     </th>     <td> </td>   \n",
       "</tr>\n",
       "<tr>\n",
       "  <th>Covariance Type:</th>            <td>nonrobust</td>           <th>                     </th>     <td> </td>   \n",
       "</tr>\n",
       "</table>\n",
       "<table class=\"simpletable\">\n",
       "<tr>\n",
       "                <td></td>                  <th>coef</th>     <th>std err</th>      <th>t</th>      <th>P>|t|</th>  <th>[0.025</th>    <th>0.975]</th>  \n",
       "</tr>\n",
       "<tr>\n",
       "  <th>const</th>                        <td> 2400.0668</td> <td>  141.124</td> <td>   17.007</td> <td> 0.000</td> <td> 2085.623</td> <td> 2714.511</td>\n",
       "</tr>\n",
       "<tr>\n",
       "  <th>Difusión (en miles de euros)</th> <td>    2.7172</td> <td>    0.844</td> <td>    3.218</td> <td> 0.009</td> <td>    0.836</td> <td>    4.599</td>\n",
       "</tr>\n",
       "</table>\n",
       "<table class=\"simpletable\">\n",
       "<tr>\n",
       "  <th>Omnibus:</th>       <td> 2.060</td> <th>  Durbin-Watson:     </th> <td>   1.525</td>\n",
       "</tr>\n",
       "<tr>\n",
       "  <th>Prob(Omnibus):</th> <td> 0.357</td> <th>  Jarque-Bera (JB):  </th> <td>   0.891</td>\n",
       "</tr>\n",
       "<tr>\n",
       "  <th>Skew:</th>          <td>-0.041</td> <th>  Prob(JB):          </th> <td>   0.641</td>\n",
       "</tr>\n",
       "<tr>\n",
       "  <th>Kurtosis:</th>      <td> 1.668</td> <th>  Cond. No.          </th> <td>    474.</td>\n",
       "</tr>\n",
       "</table><br/><br/>Notes:<br/>[1] Standard Errors assume that the covariance matrix of the errors is correctly specified."
      ],
      "text/plain": [
       "<class 'statsmodels.iolib.summary.Summary'>\n",
       "\"\"\"\n",
       "                                  OLS Regression Results                                 \n",
       "=========================================================================================\n",
       "Dep. Variable:     Ventas (en miles de unidades)   R-squared:                       0.509\n",
       "Model:                                       OLS   Adj. R-squared:                  0.460\n",
       "Method:                            Least Squares   F-statistic:                     10.36\n",
       "Date:                           Fri, 05 May 2023   Prob (F-statistic):            0.00920\n",
       "Time:                                   23:28:58   Log-Likelihood:                -77.724\n",
       "No. Observations:                             12   AIC:                             159.4\n",
       "Df Residuals:                                 10   BIC:                             160.4\n",
       "Df Model:                                      1                                         \n",
       "Covariance Type:                       nonrobust                                         \n",
       "================================================================================================\n",
       "                                   coef    std err          t      P>|t|      [0.025      0.975]\n",
       "------------------------------------------------------------------------------------------------\n",
       "const                         2400.0668    141.124     17.007      0.000    2085.623    2714.511\n",
       "Difusión (en miles de euros)     2.7172      0.844      3.218      0.009       0.836       4.599\n",
       "==============================================================================\n",
       "Omnibus:                        2.060   Durbin-Watson:                   1.525\n",
       "Prob(Omnibus):                  0.357   Jarque-Bera (JB):                0.891\n",
       "Skew:                          -0.041   Prob(JB):                        0.641\n",
       "Kurtosis:                       1.668   Cond. No.                         474.\n",
       "==============================================================================\n",
       "\n",
       "Notes:\n",
       "[1] Standard Errors assume that the covariance matrix of the errors is correctly specified.\n",
       "\"\"\""
      ]
     },
     "execution_count": 328,
     "metadata": {},
     "output_type": "execute_result"
    }
   ],
   "source": [
    "results_3.summary()"
   ]
  },
  {
   "cell_type": "markdown",
   "id": "b9adee5a",
   "metadata": {},
   "source": [
    "Pero si se incluyen demasidas variables ocurre un sobreajuste (overfitting)."
   ]
  },
  {
   "cell_type": "code",
   "execution_count": 362,
   "id": "67f42d82",
   "metadata": {},
   "outputs": [],
   "source": [
    "X_666 = np.asmatrix([X_1, X_2, X_3, X_1*X_2, X_1*X_2*X_3, X_2*X_3,X_1**2, X_2**2, np.sqrt(X_1), np.power(X_2,3)]).T\n"
   ]
  },
  {
   "cell_type": "code",
   "execution_count": 363,
   "id": "842bac96",
   "metadata": {},
   "outputs": [
    {
     "data": {
      "text/html": [
       "<table class=\"simpletable\">\n",
       "<caption>GLS Regression Results</caption>\n",
       "<tr>\n",
       "  <th>Dep. Variable:</th>    <td>Ventas (en miles de unidades)</td> <th>  R-squared:         </th> <td>   0.981</td>\n",
       "</tr>\n",
       "<tr>\n",
       "  <th>Model:</th>                         <td>GLS</td>              <th>  Adj. R-squared:    </th> <td>   0.792</td>\n",
       "</tr>\n",
       "<tr>\n",
       "  <th>Method:</th>                   <td>Least Squares</td>         <th>  F-statistic:       </th> <td>   5.195</td>\n",
       "</tr>\n",
       "<tr>\n",
       "  <th>Date:</th>                   <td>Fri, 05 May 2023</td>        <th>  Prob (F-statistic):</th>  <td> 0.330</td> \n",
       "</tr>\n",
       "<tr>\n",
       "  <th>Time:</th>                       <td>23:34:44</td>            <th>  Log-Likelihood:    </th> <td> -58.172</td>\n",
       "</tr>\n",
       "<tr>\n",
       "  <th>No. Observations:</th>            <td>    12</td>             <th>  AIC:               </th> <td>   138.3</td>\n",
       "</tr>\n",
       "<tr>\n",
       "  <th>Df Residuals:</th>                <td>     1</td>             <th>  BIC:               </th> <td>   143.7</td>\n",
       "</tr>\n",
       "<tr>\n",
       "  <th>Df Model:</th>                    <td>    10</td>             <th>                     </th>     <td> </td>   \n",
       "</tr>\n",
       "<tr>\n",
       "  <th>Covariance Type:</th>            <td>nonrobust</td>           <th>                     </th>     <td> </td>   \n",
       "</tr>\n",
       "</table>\n",
       "<table class=\"simpletable\">\n",
       "<tr>\n",
       "    <td></td>       <th>coef</th>     <th>std err</th>      <th>t</th>      <th>P>|t|</th>  <th>[0.025</th>    <th>0.975]</th>  \n",
       "</tr>\n",
       "<tr>\n",
       "  <th>const</th> <td> 7.188e+05</td> <td> 4.04e+06</td> <td>    0.178</td> <td> 0.888</td> <td>-5.06e+07</td> <td>  5.2e+07</td>\n",
       "</tr>\n",
       "<tr>\n",
       "  <th>x1</th>    <td> 5363.8316</td> <td> 3.45e+04</td> <td>    0.156</td> <td> 0.902</td> <td>-4.33e+05</td> <td> 4.43e+05</td>\n",
       "</tr>\n",
       "<tr>\n",
       "  <th>x2</th>    <td>-2.519e+05</td> <td> 3.43e+05</td> <td>   -0.735</td> <td> 0.597</td> <td>-4.61e+06</td> <td>  4.1e+06</td>\n",
       "</tr>\n",
       "<tr>\n",
       "  <th>x3</th>    <td>   -1.0872</td> <td>   12.757</td> <td>   -0.085</td> <td> 0.946</td> <td> -163.182</td> <td>  161.007</td>\n",
       "</tr>\n",
       "<tr>\n",
       "  <th>x4</th>    <td>  -14.7525</td> <td>   73.337</td> <td>   -0.201</td> <td> 0.874</td> <td> -946.582</td> <td>  917.077</td>\n",
       "</tr>\n",
       "<tr>\n",
       "  <th>x5</th>    <td>   -0.0897</td> <td>    0.153</td> <td>   -0.586</td> <td> 0.662</td> <td>   -2.032</td> <td>    1.853</td>\n",
       "</tr>\n",
       "<tr>\n",
       "  <th>x6</th>    <td>   24.6649</td> <td>   41.029</td> <td>    0.601</td> <td> 0.655</td> <td> -496.660</td> <td>  545.990</td>\n",
       "</tr>\n",
       "<tr>\n",
       "  <th>x7</th>    <td>   -3.9893</td> <td>   25.024</td> <td>   -0.159</td> <td> 0.899</td> <td> -321.947</td> <td>  313.969</td>\n",
       "</tr>\n",
       "<tr>\n",
       "  <th>x8</th>    <td> 1.492e+05</td> <td> 2.03e+05</td> <td>    0.734</td> <td> 0.597</td> <td>-2.43e+06</td> <td> 2.73e+06</td>\n",
       "</tr>\n",
       "<tr>\n",
       "  <th>x9</th>    <td>-1.051e+05</td> <td> 6.92e+05</td> <td>   -0.152</td> <td> 0.904</td> <td> -8.9e+06</td> <td> 8.69e+06</td>\n",
       "</tr>\n",
       "<tr>\n",
       "  <th>x10</th>   <td>  -2.9e+04</td> <td> 3.88e+04</td> <td>   -0.746</td> <td> 0.592</td> <td>-5.23e+05</td> <td> 4.65e+05</td>\n",
       "</tr>\n",
       "</table>\n",
       "<table class=\"simpletable\">\n",
       "<tr>\n",
       "  <th>Omnibus:</th>       <td> 3.794</td> <th>  Durbin-Watson:     </th> <td>   1.262</td>\n",
       "</tr>\n",
       "<tr>\n",
       "  <th>Prob(Omnibus):</th> <td> 0.150</td> <th>  Jarque-Bera (JB):  </th> <td>   1.037</td>\n",
       "</tr>\n",
       "<tr>\n",
       "  <th>Skew:</th>          <td> 0.021</td> <th>  Prob(JB):          </th> <td>   0.596</td>\n",
       "</tr>\n",
       "<tr>\n",
       "  <th>Kurtosis:</th>      <td> 4.439</td> <th>  Cond. No.          </th> <td>1.18e+10</td>\n",
       "</tr>\n",
       "</table><br/><br/>Notes:<br/>[1] Standard Errors assume that the covariance matrix of the errors is correctly specified.<br/>[2] The condition number is large, 1.18e+10. This might indicate that there are<br/>strong multicollinearity or other numerical problems."
      ],
      "text/plain": [
       "<class 'statsmodels.iolib.summary.Summary'>\n",
       "\"\"\"\n",
       "                                  GLS Regression Results                                 \n",
       "=========================================================================================\n",
       "Dep. Variable:     Ventas (en miles de unidades)   R-squared:                       0.981\n",
       "Model:                                       GLS   Adj. R-squared:                  0.792\n",
       "Method:                            Least Squares   F-statistic:                     5.195\n",
       "Date:                           Fri, 05 May 2023   Prob (F-statistic):              0.330\n",
       "Time:                                   23:34:44   Log-Likelihood:                -58.172\n",
       "No. Observations:                             12   AIC:                             138.3\n",
       "Df Residuals:                                  1   BIC:                             143.7\n",
       "Df Model:                                     10                                         \n",
       "Covariance Type:                       nonrobust                                         \n",
       "==============================================================================\n",
       "                 coef    std err          t      P>|t|      [0.025      0.975]\n",
       "------------------------------------------------------------------------------\n",
       "const       7.188e+05   4.04e+06      0.178      0.888   -5.06e+07     5.2e+07\n",
       "x1          5363.8316   3.45e+04      0.156      0.902   -4.33e+05    4.43e+05\n",
       "x2         -2.519e+05   3.43e+05     -0.735      0.597   -4.61e+06     4.1e+06\n",
       "x3            -1.0872     12.757     -0.085      0.946    -163.182     161.007\n",
       "x4           -14.7525     73.337     -0.201      0.874    -946.582     917.077\n",
       "x5            -0.0897      0.153     -0.586      0.662      -2.032       1.853\n",
       "x6            24.6649     41.029      0.601      0.655    -496.660     545.990\n",
       "x7            -3.9893     25.024     -0.159      0.899    -321.947     313.969\n",
       "x8          1.492e+05   2.03e+05      0.734      0.597   -2.43e+06    2.73e+06\n",
       "x9         -1.051e+05   6.92e+05     -0.152      0.904    -8.9e+06    8.69e+06\n",
       "x10          -2.9e+04   3.88e+04     -0.746      0.592   -5.23e+05    4.65e+05\n",
       "==============================================================================\n",
       "Omnibus:                        3.794   Durbin-Watson:                   1.262\n",
       "Prob(Omnibus):                  0.150   Jarque-Bera (JB):                1.037\n",
       "Skew:                           0.021   Prob(JB):                        0.596\n",
       "Kurtosis:                       4.439   Cond. No.                     1.18e+10\n",
       "==============================================================================\n",
       "\n",
       "Notes:\n",
       "[1] Standard Errors assume that the covariance matrix of the errors is correctly specified.\n",
       "[2] The condition number is large, 1.18e+10. This might indicate that there are\n",
       "strong multicollinearity or other numerical problems.\n",
       "\"\"\""
      ]
     },
     "execution_count": 363,
     "metadata": {},
     "output_type": "execute_result"
    }
   ],
   "source": [
    "results_666 = sm.GLS(Y, sm.add_constant(X_666)).fit()\n",
    "results_666.summary()\n"
   ]
  },
  {
   "cell_type": "markdown",
   "id": "a94599c5",
   "metadata": {},
   "source": [
    "¿Cómo detectar variables importantes omitidas?\n",
    "\n",
    "Si hay variables imporantes omitidas, $\\mathbb{E}(\\epsilon_i) \\neq 0$. Pero eso no nos sirve porque por construcción de los estimadores esto se cumple. Entonces habría que analizarlo gráficamente con un gráfico de Tukey-Anscombe (residuales contra valores ajustados) y comprobar que los puntos son _aleatorios_."
   ]
  },
  {
   "cell_type": "code",
   "execution_count": 367,
   "id": "4f8b7ef9",
   "metadata": {},
   "outputs": [],
   "source": [
    "def predictor(X, beta):\n",
    "    return np.matmul(sm.add_constant(X), beta)\n"
   ]
  },
  {
   "cell_type": "code",
   "execution_count": 408,
   "id": "3bb49ce4",
   "metadata": {},
   "outputs": [
    {
     "data": {
      "image/png": "[encoded data removed]",
      "text/plain": [
       "<Figure size 1000x1000 with 6 Axes>"
      ]
     },
     "metadata": {},
     "output_type": "display_data"
    }
   ],
   "source": [
    "fig, ax = plt.subplots(nrows=3, ncols=2)\n",
    "fig.set_size_inches(10, 10)\n",
    "\n",
    "models = [[results_1, results_2], \n",
    "          [results_3, results_4], \n",
    "          [results_5, results_6]]\n",
    "\n",
    "data = [[X_1, X_2], \n",
    "        [X_3, X_12], \n",
    "        [X_123, X_1323]]\n",
    "\n",
    "labels = [[\"Publicidad\", \"Precio\"], \n",
    "          [\"Difusión\", \"Publicidad y precio\"], \n",
    "          [\"Publidad, precio y difusión\", \"Publidad, difusión y precio*difusión\"]]\n",
    "\n",
    "for i in range(0,3):\n",
    "    for j in range(0,2):\n",
    "        ax[i,j].set_xticks([], [])\n",
    "        ax[i,j].set_yticks([], [])\n",
    "        ax[i,j].set_title(labels[i][j])\n",
    "        ax[i,j].grid()\n",
    "        ax[i,j].set_ylim([-400,400])\n",
    "        ax[i,j].scatter(predictor(data[i][j], models[i][j].params), models[i][j].resid);"
   ]
  },
  {
   "cell_type": "markdown",
   "id": "ab867b08",
   "metadata": {},
   "source": [
    "3. __Homocedasticidad ($\\mathbb{V}ar(\\epsilon_i) = \\sigma^{2}$)__."
   ]
  },
  {
   "cell_type": "code",
   "execution_count": null,
   "id": "d57e9272",
   "metadata": {},
   "outputs": [],
   "source": []
  }
 ],
 "metadata": {
  "kernelspec": {
   "display_name": "Python 3 (ipykernel)",
   "language": "python",
   "name": "python3"
  },
  "language_info": {
   "codemirror_mode": {
    "name": "ipython",
    "version": 3
   },
   "file_extension": ".py",
   "mimetype": "text/x-python",
   "name": "python",
   "nbconvert_exporter": "python",
   "pygments_lexer": "ipython3",
   "version": "3.10.6"
  }
 },
 "nbformat": 4,
 "nbformat_minor": 5
}
